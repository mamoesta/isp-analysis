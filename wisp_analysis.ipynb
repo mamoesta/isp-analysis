{
 "cells": [
  {
   "cell_type": "code",
   "execution_count": 58,
   "metadata": {},
   "outputs": [
    {
     "data": {
      "text/html": [
       "<style>.container { width:100% !important; }</style>"
      ],
      "text/plain": [
       "<IPython.core.display.HTML object>"
      ]
     },
     "metadata": {},
     "output_type": "display_data"
    }
   ],
   "source": [
    "import pandas as pd\n",
    "import numpy as np\n",
    "import os\n",
    "import warnings\n",
    "import datetime as dt\n",
    "from IPython.core.display import display, HTML\n",
    "warnings.filterwarnings('ignore')\n",
    "pd.options.display.max_rows = 200\n",
    "display(HTML(\"<style>.container { width:100% !important; }</style>\"))"
   ]
  },
  {
   "cell_type": "code",
   "execution_count": 7,
   "metadata": {},
   "outputs": [],
   "source": [
    "# Reading in FCC wisp data\n",
    "filepath = \"../data/bb_data.csv\"\n",
    "wisp_df = pd.read_csv(filepath)\n",
    "\n",
    "# Reading in population densities\n",
    "filepath = \"../data/us2016.csv\"\n",
    "pop_df = pd.read_csv(filepath)"
   ]
  },
  {
   "cell_type": "code",
   "execution_count": 312,
   "metadata": {},
   "outputs": [],
   "source": [
    "# Pennsylvania population density\n",
    "pa_pop_df = pop_df[pop_df['stateabbr'] == 'PA']\n",
    "\n",
    "'''\n",
    "Population information:\n",
    "\n",
    "hu = housing units\n",
    "hh = households\n",
    "pop = population\n",
    "\n",
    "'''\n",
    "cols = ['stateabbr','block_fips','hu2016','hh2016','pop2016']\n",
    "pa_pop_df = pa_pop_df[cols]"
   ]
  },
  {
   "cell_type": "code",
   "execution_count": 333,
   "metadata": {
    "collapsed": true
   },
   "outputs": [],
   "source": [
    "def filter_wisps(raw_df):\n",
    "    start_t = dt.datetime.now()\n",
    "    max_up = 5\n",
    "    max_down = 25\n",
    "    business = 1\n",
    "    state = 'PA'\n",
    "    raw_df = raw_df[raw_df['Max Advertised Upstream Speed (mbps)'] >= max_up]\n",
    "    raw_df = raw_df[raw_df['Max Advertised Downstream Speed (mbps)'] >= max_down]\n",
    "    raw_df = raw_df[raw_df['Business'] == business]\n",
    "    raw_df = raw_df[raw_df['State'] == state]\n",
    "    final_t = dt.datetime.now()\n",
    "    print(f'took {final_t - start_t} to run!')\n",
    "    return raw_df"
   ]
  },
  {
   "cell_type": "code",
   "execution_count": 334,
   "metadata": {},
   "outputs": [
    {
     "name": "stdout",
     "output_type": "stream",
     "text": [
      "took 0:00:36.156326 to run!\n"
     ]
    },
    {
     "data": {
      "text/plain": [
       "(489119, 17)"
      ]
     },
     "execution_count": 334,
     "metadata": {},
     "output_type": "execute_result"
    }
   ],
   "source": [
    "pa_wisp_df = filter_wisps(wisp_df)\n",
    "pa_wisp_df.shape"
   ]
  },
  {
   "cell_type": "code",
   "execution_count": 313,
   "metadata": {},
   "outputs": [],
   "source": [
    "'''\n",
    "Create Montgomery county subsets\n",
    "\n",
    "PA state FIPS code 42\n",
    "Montgomery county FIPS code 091\n",
    "'''\n",
    "pa_pop_df['block_fips']= pa_pop_df['block_fips'].apply(str)\n",
    "pa_pop_df['mont_county'] = pa_pop_df['block_fips'].map(lambda x: True if x[:5] == '42091' else False)\n",
    "mont_pop_df = pa_pop_df[pa_pop_df['mont_county']==True]\n",
    "\n",
    "pa_wisp_df['Census Block FIPS Code'] = pa_wisp_df['Census Block FIPS Code'].apply(str)\n",
    "pa_wisp_df['mont_county'] = pa_wisp_df['Census Block FIPS Code'].map(lambda x: True if x[:5] == '42091' else False)\n",
    "mont_wisp_df = pa_wisp_df[pa_wisp_df['mont_county'] == True]"
   ]
  },
  {
   "cell_type": "code",
   "execution_count": 314,
   "metadata": {},
   "outputs": [],
   "source": [
    "# Using the groubpy function to get metrics for each census block: count, types, mean up/down speeds\n",
    "def get_metrics(raw_df):\n",
    "    \n",
    "    # A count of all the unique WISP's in a given census block,  if block isn't included in dataframe, then there are no WISPs in that block\n",
    "    wisp_count_df = pd.DataFrame({'wisp_count':raw_df.groupby(['Census Block FIPS Code']).size()}).reset_index()\n",
    "    wisp_count_df.set_index('Census Block FIPS Code', inplace=True)\n",
    "\n",
    "    # Number of WISPs allowed to serve consumers in the given block\n",
    "    consumer_df = pd.DataFrame({'consumer_num':raw_df.groupby(['Census Block FIPS Code','Consumer']).size()}).reset_index()\n",
    "    consumer_df = consumer_df[consumer_df['Consumer']==1]\n",
    "    consumer_df.set_index('Census Block FIPS Code', inplace=True)\n",
    "\n",
    "    # Number of WISPs allowed to serve businesses in the given block\n",
    "    business_df = pd.DataFrame({'business_num':raw_df.groupby(['Census Block FIPS Code', 'Business']).size()}).reset_index()\n",
    "    business_df = business_df[business_df['Business']==1]\n",
    "    business_df.set_index('Census Block FIPS Code', inplace = True)\n",
    "\n",
    "    # Average up/downstream speeds in each census block\n",
    "    adv_max_down_df = pd.DataFrame({'adv_max_down':raw_df.groupby(['Census Block FIPS Code'])['Max Advertised Downstream Speed (mbps)'].mean()}).reset_index()\n",
    "    adv_max_down_df.set_index('Census Block FIPS Code', inplace = True)\n",
    "    \n",
    "    adv_max_up_df = pd.DataFrame({'adv_max_up':raw_df.groupby(['Census Block FIPS Code'])['Max Advertised Upstream Speed (mbps)'].mean()}).reset_index()\n",
    "    adv_max_up_df.set_index('Census Block FIPS Code', inplace = True)\n",
    "    \n",
    "    cir_max_up_df = pd.DataFrame({'cir_max_up':raw_df.groupby(['Census Block FIPS Code'])['Max CIR Upstream Speed (mbps)'].mean()}).reset_index()\n",
    "    cir_max_up_df.set_index('Census Block FIPS Code', inplace = True)\n",
    "    \n",
    "    cir_max_down_df = pd.DataFrame({'cir_max_down':raw_df.groupby(['Census Block FIPS Code'])['Max CIR Downstream Speed (mbps)'].mean()}).reset_index()\n",
    "    cir_max_down_df.set_index('Census Block FIPS Code', inplace = True)\n",
    "    \n",
    "    #TODO: Merge the 7 df's\n",
    "    df_list = [wisp_count_df,consumer_df,business_df,adv_max_down_df,adv_max_up_df,cir_max_up_df,cir_max_down_df]\n",
    "    print('Merging dataframes...')\n",
    "    for i in df_list:\n",
    "        if wisp_count_df.equals(i):\n",
    "            final_df = wisp_count_df\n",
    "        else:\n",
    "            final_df = pd.merge(final_df,i,how='outer',left_index=True, right_index=True)\n",
    "    print('Done merging dataframes!')\n",
    "    final_df.drop(['Consumer', 'Business'], axis = 1, inplace = True)\n",
    "    return final_df "
   ]
  },
  {
   "cell_type": "code",
   "execution_count": 315,
   "metadata": {},
   "outputs": [
    {
     "name": "stdout",
     "output_type": "stream",
     "text": [
      "Merging dataframes...\n",
      "Done merging dataframes!\n",
      "Merging dataframes...\n",
      "Done merging dataframes!\n"
     ]
    }
   ],
   "source": [
    "# Get important metrics for montgomery county\n",
    "mont_metrics_df = get_metrics(mont_wisp_df)\n",
    "\n",
    "# Get metrics for whole state of PA\n",
    "pa_metrics_df = get_metrics(pa_wisp_df)"
   ]
  },
  {
   "cell_type": "code",
   "execution_count": 316,
   "metadata": {},
   "outputs": [],
   "source": [
    "# Merging population data and WISP metrics\n",
    "def merge_pop_wisp(pop_df,wisp_df):\n",
    "    if (pop_df.index.name != 'block_fips'):\n",
    "        pop_df.set_index('block_fips',inplace = True)\n",
    "    final_df = pd.merge(pop_df, wisp_df,how = 'left', left_index = True, right_index = True)\n",
    "    return final_df "
   ]
  },
  {
   "cell_type": "code",
   "execution_count": 338,
   "metadata": {},
   "outputs": [],
   "source": [
    "county_df = merge_pop_wisp(mont_pop_df, mont_metrics_df)\n",
    "county_df.fillna(value = 0, inplace = True)\n",
    "county_df['density'] = county_df['wisp_count']/(county_df['pop2016'] + 1)\n",
    "county_df.reset_index(inplace = True)"
   ]
  },
  {
   "cell_type": "code",
   "execution_count": 340,
   "metadata": {},
   "outputs": [],
   "source": [
    "state_df = merge_pop_wisp(pa_pop_df, pa_metrics_df)\n",
    "state_df.fillna(value = 0, inplace = True)\n",
    "state_df['density'] = state_df['wisp_count']/(state_df['pop2016'] + 1)\n",
    "state_df.reset_index(inplace = True)"
   ]
  },
  {
   "cell_type": "code",
   "execution_count": 341,
   "metadata": {},
   "outputs": [],
   "source": [
    "# Write county and state data to csv\n",
    "county_df.to_csv('../data/montgomery_wisp_metrics.txt')\n",
    "state_df.to_csv('../data/pa_wisp_metrics.txt')"
   ]
  },
  {
   "cell_type": "markdown",
   "metadata": {},
   "source": [
    "## Baseline statistics\n",
    "\n",
    "What are the important measures we want to see?\n",
    "\n",
    "Breakdown of # wisps\n",
    "Density map (wisp/population) in a given block\n",
    "Heatmap of number of wisps operating in given census block (filter by type, up/down speed)\n",
    "Correlation between WISP/population"
   ]
  },
  {
   "cell_type": "code",
   "execution_count": 344,
   "metadata": {},
   "outputs": [
    {
     "data": {
      "text/plain": [
       "2.0    9682\n",
       "1.0    2171\n",
       "0.0    1909\n",
       "3.0       7\n",
       "Name: wisp_count, dtype: int64"
      ]
     },
     "execution_count": 344,
     "metadata": {},
     "output_type": "execute_result"
    }
   ],
   "source": [
    "county_df['wisp_count'].value_counts()"
   ]
  }
 ],
 "metadata": {
  "kernelspec": {
   "display_name": "Python 3",
   "language": "python",
   "name": "python3"
  },
  "language_info": {
   "codemirror_mode": {
    "name": "ipython",
    "version": 3
   },
   "file_extension": ".py",
   "mimetype": "text/x-python",
   "name": "python",
   "nbconvert_exporter": "python",
   "pygments_lexer": "ipython3",
   "version": "3.6.3"
  }
 },
 "nbformat": 4,
 "nbformat_minor": 2
}
