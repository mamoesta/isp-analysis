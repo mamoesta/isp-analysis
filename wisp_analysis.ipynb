{
 "cells": [
  {
   "cell_type": "code",
   "execution_count": 58,
   "metadata": {},
   "outputs": [
    {
     "data": {
      "text/html": [
       "<style>.container { width:100% !important; }</style>"
      ],
      "text/plain": [
       "<IPython.core.display.HTML object>"
      ]
     },
     "metadata": {},
     "output_type": "display_data"
    }
   ],
   "source": [
    "import pandas as pd\n",
    "import numpy as np\n",
    "import os\n",
    "import warnings\n",
    "import datetime as dt\n",
    "from IPython.core.display import display, HTML\n",
    "warnings.filterwarnings('ignore')\n",
    "pd.options.display.max_rows = 200\n",
    "display(HTML(\"<style>.container { width:100% !important; }</style>\"))"
   ]
  },
  {
   "cell_type": "code",
   "execution_count": 7,
   "metadata": {},
   "outputs": [],
   "source": [
    "# Reading in FCC wisp data\n",
    "filepath = \"../data/bb_data.csv\"\n",
    "wisp_df = pd.read_csv(filepath)"
   ]
  },
  {
   "cell_type": "code",
   "execution_count": 13,
   "metadata": {
    "collapsed": true
   },
   "outputs": [],
   "source": [
    "# Reading in population densities\n",
    "filepath = \"../data/us2016.csv\"\n",
    "pop_df = pd.read_csv(filepath)"
   ]
  },
  {
   "cell_type": "code",
   "execution_count": 21,
   "metadata": {},
   "outputs": [],
   "source": [
    "# Pennsylvania population density\n",
    "pa_pop_df = pop_df[pop_df['stateabbr'] == 'PA']\n",
    "\n",
    "# Pennsylvania WISPs\n",
    "pa_wisp_df = wisp_df[wisp_df['State']=='PA']"
   ]
  },
  {
   "cell_type": "code",
   "execution_count": 70,
   "metadata": {},
   "outputs": [
    {
     "data": {
      "text/plain": [
       "stateabbr                  PA\n",
       "block_fips    420010301011000\n",
       "hu2016                      3\n",
       "hh2016                      3\n",
       "pop2016                     6\n",
       "Name: 8103116, dtype: object"
      ]
     },
     "execution_count": 70,
     "metadata": {},
     "output_type": "execute_result"
    }
   ],
   "source": [
    "'''\n",
    "Population information:\n",
    "\n",
    "hu = housing units\n",
    "hh = households\n",
    "pop = population\n",
    "\n",
    "'''\n",
    "cols = ['stateabbr','block_fips','hu2016','hh2016','pop2016']\n",
    "pa_pop_df = pa_pop_df[cols]"
   ]
  },
  {
   "cell_type": "code",
   "execution_count": 139,
   "metadata": {
    "scrolled": true
   },
   "outputs": [
    {
     "name": "stdout",
     "output_type": "stream",
     "text": [
      "421545\n",
      "['Logical Record Number' 'Provider ID' 'FRN' 'Provider Name' 'DBA Name'\n",
      " 'Holding Company Name' 'Holding Company Number' 'Holding Company Final'\n",
      " 'State' 'Census Block FIPS Code' 'Technology Code' 'Consumer'\n",
      " 'Max Advertised Downstream Speed (mbps)'\n",
      " 'Max Advertised Upstream Speed (mbps)' 'Business'\n",
      " 'Max CIR Downstream Speed (mbps)' 'Max CIR Upstream Speed (mbps)']\n"
     ]
    }
   ],
   "source": [
    "print(len(pa_wisp_df['Census Block FIPS Code'].unique()))\n",
    "print(pa_wisp_df.columns.values)"
   ]
  },
  {
   "cell_type": "code",
   "execution_count": 194,
   "metadata": {},
   "outputs": [],
   "source": [
    "def get_metrics(raw_df):\n",
    "    \n",
    "    # A count of all the unique WISP's in a given census block,  if block isn't included in dataframe, then there are no WISPs in that block\n",
    "    wisp_count_df = pd.DataFrame({'wisp_count':raw_df.groupby(['Census Block FIPS Code']).size()}).reset_index()\n",
    "    wisp_count_df.set_index('Census Block FIPS Code', inplace=True)\n",
    "\n",
    "    # Number of WISPs allowed to serve consumers in the given block\n",
    "    consumer_df = pd.DataFrame({'consumer_num':raw_df.groupby(['Census Block FIPS Code','Consumer']).size()}).reset_index()\n",
    "    consumer_df = consumer_df[consumer_df['Consumer']==1]\n",
    "    consumer_df.set_index('Census Block FIPS Code', inplace=True)\n",
    "\n",
    "    # Number of WISPs allowed to serve businesses in the given block\n",
    "    business_df = pd.DataFrame({'business_num':raw_df.groupby(['Census Block FIPS Code', 'Business']).size()}).reset_index()\n",
    "    business_df = business_df[business_df['Business']==1]\n",
    "    business_df.set_index('Census Block FIPS Code', inplace = True)\n",
    "\n",
    "    # Average up/downstream speeds in each census block\n",
    "    adv_max_down_df = pd.DataFrame({'adv_max_down':raw_df.groupby(['Census Block FIPS Code'])['Max Advertised Downstream Speed (mbps)'].mean()}).reset_index()\n",
    "    adv_max_down_df.set_index('Census Block FIPS Code', inplace = True)\n",
    "    \n",
    "    adv_max_up_df = pd.DataFrame({'adv_max_up':raw_df.groupby(['Census Block FIPS Code'])['Max Advertised Upstream Speed (mbps)'].mean()}).reset_index()\n",
    "    adv_max_up_df.set_index('Census Block FIPS Code', inplace = True)\n",
    "    \n",
    "    cir_max_up_df = pd.DataFrame({'cir_max_up':raw_df.groupby(['Census Block FIPS Code'])['Max CIR Upstream Speed (mbps)'].mean()}).reset_index()\n",
    "    cir_max_up_df.set_index('Census Block FIPS Code', inplace = True)\n",
    "    \n",
    "    cir_max_down_df = pd.DataFrame({'cir_max_down':raw_df.groupby(['Census Block FIPS Code'])['Max CIR Downstream Speed (mbps)'].mean()}).reset_index()\n",
    "    cir_max_down_df.set_index('Census Block FIPS Code', inplace = True)\n",
    "    \n",
    "    #TODO: Merge the 7 df's\n",
    "    df_list = [wisp_count_df,consumer_df,business_df,adv_max_down_df,adv_max_up_df,cir_max_up_df,cir_max_down_df]\n",
    "    print('Merging dataframes...')\n",
    "    for i in df_list:\n",
    "        if wisp_count_df.equals(i):\n",
    "            final_df = wisp_count_df\n",
    "        else:\n",
    "            final_df = pd.merge(final_df,i,how='outer',left_index=True, right_index=True)\n",
    "    print('Done merging dataframes!')\n",
    "    final_df.drop(['Consumer', 'Business'], axis = 1, inplace = True)\n",
    "    return final_df "
   ]
  },
  {
   "cell_type": "code",
   "execution_count": 195,
   "metadata": {},
   "outputs": [
    {
     "name": "stdout",
     "output_type": "stream",
     "text": [
      "Merging dataframes...\n",
      "Done merging dataframes!\n"
     ]
    },
    {
     "data": {
      "text/html": [
       "<div>\n",
       "<style>\n",
       "    .dataframe thead tr:only-child th {\n",
       "        text-align: right;\n",
       "    }\n",
       "\n",
       "    .dataframe thead th {\n",
       "        text-align: left;\n",
       "    }\n",
       "\n",
       "    .dataframe tbody tr th {\n",
       "        vertical-align: top;\n",
       "    }\n",
       "</style>\n",
       "<table border=\"1\" class=\"dataframe\">\n",
       "  <thead>\n",
       "    <tr style=\"text-align: right;\">\n",
       "      <th></th>\n",
       "      <th>wisp_count</th>\n",
       "      <th>consumer_num</th>\n",
       "      <th>business_num</th>\n",
       "      <th>adv_max_down</th>\n",
       "      <th>adv_max_up</th>\n",
       "      <th>cir_max_up</th>\n",
       "      <th>cir_max_down</th>\n",
       "    </tr>\n",
       "    <tr>\n",
       "      <th>Census Block FIPS Code</th>\n",
       "      <th></th>\n",
       "      <th></th>\n",
       "      <th></th>\n",
       "      <th></th>\n",
       "      <th></th>\n",
       "      <th></th>\n",
       "      <th></th>\n",
       "    </tr>\n",
       "  </thead>\n",
       "  <tbody>\n",
       "    <tr>\n",
       "      <th>420010301011000</th>\n",
       "      <td>7</td>\n",
       "      <td>6</td>\n",
       "      <td>7.0</td>\n",
       "      <td>38.142857</td>\n",
       "      <td>2.724000</td>\n",
       "      <td>0.471429</td>\n",
       "      <td>2.428571</td>\n",
       "    </tr>\n",
       "    <tr>\n",
       "      <th>420010301011001</th>\n",
       "      <td>7</td>\n",
       "      <td>6</td>\n",
       "      <td>7.0</td>\n",
       "      <td>38.142857</td>\n",
       "      <td>2.724000</td>\n",
       "      <td>0.471429</td>\n",
       "      <td>2.428571</td>\n",
       "    </tr>\n",
       "    <tr>\n",
       "      <th>420010301011002</th>\n",
       "      <td>8</td>\n",
       "      <td>7</td>\n",
       "      <td>8.0</td>\n",
       "      <td>33.750000</td>\n",
       "      <td>2.479500</td>\n",
       "      <td>0.412500</td>\n",
       "      <td>2.125000</td>\n",
       "    </tr>\n",
       "    <tr>\n",
       "      <th>420010301011003</th>\n",
       "      <td>7</td>\n",
       "      <td>6</td>\n",
       "      <td>7.0</td>\n",
       "      <td>40.285714</td>\n",
       "      <td>2.900000</td>\n",
       "      <td>0.471429</td>\n",
       "      <td>2.428571</td>\n",
       "    </tr>\n",
       "    <tr>\n",
       "      <th>420010301011004</th>\n",
       "      <td>7</td>\n",
       "      <td>6</td>\n",
       "      <td>7.0</td>\n",
       "      <td>38.857143</td>\n",
       "      <td>2.828571</td>\n",
       "      <td>0.471429</td>\n",
       "      <td>2.428571</td>\n",
       "    </tr>\n",
       "  </tbody>\n",
       "</table>\n",
       "</div>"
      ],
      "text/plain": [
       "                        wisp_count  consumer_num  business_num  adv_max_down  \\\n",
       "Census Block FIPS Code                                                         \n",
       "420010301011000                  7             6           7.0     38.142857   \n",
       "420010301011001                  7             6           7.0     38.142857   \n",
       "420010301011002                  8             7           8.0     33.750000   \n",
       "420010301011003                  7             6           7.0     40.285714   \n",
       "420010301011004                  7             6           7.0     38.857143   \n",
       "\n",
       "                        adv_max_up  cir_max_up  cir_max_down  \n",
       "Census Block FIPS Code                                        \n",
       "420010301011000           2.724000    0.471429      2.428571  \n",
       "420010301011001           2.724000    0.471429      2.428571  \n",
       "420010301011002           2.479500    0.412500      2.125000  \n",
       "420010301011003           2.900000    0.471429      2.428571  \n",
       "420010301011004           2.828571    0.471429      2.428571  "
      ]
     },
     "execution_count": 195,
     "metadata": {},
     "output_type": "execute_result"
    }
   ],
   "source": [
    "res_df = get_metrics(pa_wisp_df)"
   ]
  },
  {
   "cell_type": "code",
   "execution_count": 169,
   "metadata": {},
   "outputs": [
    {
     "data": {
      "text/plain": [
       "420010301011000.0"
      ]
     },
     "execution_count": 169,
     "metadata": {},
     "output_type": "execute_result"
    }
   ],
   "source": [
    "res_df.iloc[0]['Census Block FIPS Code_x'].values[0]"
   ]
  }
 ],
 "metadata": {
  "kernelspec": {
   "display_name": "Python 3",
   "language": "python",
   "name": "python3"
  },
  "language_info": {
   "codemirror_mode": {
    "name": "ipython",
    "version": 3
   },
   "file_extension": ".py",
   "mimetype": "text/x-python",
   "name": "python",
   "nbconvert_exporter": "python",
   "pygments_lexer": "ipython3",
   "version": "3.6.3"
  }
 },
 "nbformat": 4,
 "nbformat_minor": 2
}
