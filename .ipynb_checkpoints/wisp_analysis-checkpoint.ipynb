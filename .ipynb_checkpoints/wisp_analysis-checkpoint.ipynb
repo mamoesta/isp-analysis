{
 "cells": [
  {
   "cell_type": "code",
   "execution_count": 58,
   "metadata": {},
   "outputs": [
    {
     "data": {
      "text/html": [
       "<style>.container { width:100% !important; }</style>"
      ],
      "text/plain": [
       "<IPython.core.display.HTML object>"
      ]
     },
     "metadata": {},
     "output_type": "display_data"
    }
   ],
   "source": [
    "import pandas as pd\n",
    "import numpy as np\n",
    "import os\n",
    "import warnings\n",
    "import datetime as dt\n",
    "from IPython.core.display import display, HTML\n",
    "warnings.filterwarnings('ignore')\n",
    "pd.options.display.max_rows = 200\n",
    "display(HTML(\"<style>.container { width:100% !important; }</style>\"))"
   ]
  },
  {
   "cell_type": "code",
   "execution_count": 7,
   "metadata": {},
   "outputs": [],
   "source": [
    "# Reading in FCC wisp data\n",
    "filepath = \"../data/bb_data.csv\"\n",
    "wisp_df = pd.read_csv(filepath)"
   ]
  },
  {
   "cell_type": "code",
   "execution_count": 13,
   "metadata": {
    "collapsed": true
   },
   "outputs": [],
   "source": [
    "# Reading in population densities\n",
    "filepath = \"../data/us2016.csv\"\n",
    "pop_df = pd.read_csv(filepath)"
   ]
  },
  {
   "cell_type": "code",
   "execution_count": 21,
   "metadata": {},
   "outputs": [],
   "source": [
    "# Pennsylvania population density\n",
    "pa_pop_df = pop_df[pop_df['stateabbr'] == 'PA']\n",
    "\n",
    "# Pennsylvania WISPs\n",
    "pa_wisp_df = wisp_df[wisp_df['State']=='PA']"
   ]
  },
  {
   "cell_type": "code",
   "execution_count": 218,
   "metadata": {},
   "outputs": [],
   "source": [
    "'''\n",
    "Create Montgomery county subsets\n",
    "\n",
    "PA state FIPS code 42\n",
    "Montgomery county FIPS code 091\n",
    "'''\n",
    "pa_pop_df['block_fips']= pa_pop_df['block_fips'].apply(str)\n",
    "pa_pop_df['mont_county'] = pa_pop_df['block_fips'].map(lambda x: True if x[:5] == '42091' else False)\n",
    "mont_pop_df = pa_pop_df[pa_pop_df['mont_county']==True]\n",
    "\n",
    "pa_wisp_df['Census Block FIPS Code'] = pa_wisp_df['Census Block FIPS Code'].apply(str)\n",
    "pa_wisp_df['mont_county'] = pa_wisp_df['Census Block FIPS Code'].map(lambda x: True if x[:5] == '42091' else False)\n",
    "mont_wisp_df = pa_wisp_df[pa_wisp_df['mont_county'] == True]"
   ]
  },
  {
   "cell_type": "code",
   "execution_count": 219,
   "metadata": {},
   "outputs": [],
   "source": [
    "'''\n",
    "Population information:\n",
    "\n",
    "hu = housing units\n",
    "hh = households\n",
    "pop = population\n",
    "\n",
    "'''\n",
    "cols = ['stateabbr','block_fips','hu2016','hh2016','pop2016']\n",
    "mont_pop_df = mont_pop_df[cols]"
   ]
  },
  {
   "cell_type": "code",
   "execution_count": 234,
   "metadata": {
    "scrolled": true
   },
   "outputs": [
    {
     "name": "stdout",
     "output_type": "stream",
     "text": [
      "13769\n",
      "(13769, 5)\n",
      "['Logical Record Number' 'Provider ID' 'FRN' 'Provider Name' 'DBA Name'\n",
      " 'Holding Company Name' 'Holding Company Number' 'Holding Company Final'\n",
      " 'State' 'Census Block FIPS Code' 'Technology Code' 'Consumer'\n",
      " 'Max Advertised Downstream Speed (mbps)'\n",
      " 'Max Advertised Upstream Speed (mbps)' 'Business'\n",
      " 'Max CIR Downstream Speed (mbps)' 'Max CIR Upstream Speed (mbps)'\n",
      " 'mont_county']\n"
     ]
    }
   ],
   "source": [
    "print(len(mont_wisp_df['Census Block FIPS Code'].unique()))\n",
    "print(mont_pop_df.shape)\n",
    "print(mont_wisp_df.columns.values)"
   ]
  },
  {
   "cell_type": "code",
   "execution_count": 221,
   "metadata": {},
   "outputs": [],
   "source": [
    "# Using the groubpy function to get metrics for each census block: count, types, mean up/down speeds\n",
    "def get_metrics(raw_df):\n",
    "    \n",
    "    # A count of all the unique WISP's in a given census block,  if block isn't included in dataframe, then there are no WISPs in that block\n",
    "    wisp_count_df = pd.DataFrame({'wisp_count':raw_df.groupby(['Census Block FIPS Code']).size()}).reset_index()\n",
    "    wisp_count_df.set_index('Census Block FIPS Code', inplace=True)\n",
    "\n",
    "    # Number of WISPs allowed to serve consumers in the given block\n",
    "    consumer_df = pd.DataFrame({'consumer_num':raw_df.groupby(['Census Block FIPS Code','Consumer']).size()}).reset_index()\n",
    "    consumer_df = consumer_df[consumer_df['Consumer']==1]\n",
    "    consumer_df.set_index('Census Block FIPS Code', inplace=True)\n",
    "\n",
    "    # Number of WISPs allowed to serve businesses in the given block\n",
    "    business_df = pd.DataFrame({'business_num':raw_df.groupby(['Census Block FIPS Code', 'Business']).size()}).reset_index()\n",
    "    business_df = business_df[business_df['Business']==1]\n",
    "    business_df.set_index('Census Block FIPS Code', inplace = True)\n",
    "\n",
    "    # Average up/downstream speeds in each census block\n",
    "    adv_max_down_df = pd.DataFrame({'adv_max_down':raw_df.groupby(['Census Block FIPS Code'])['Max Advertised Downstream Speed (mbps)'].mean()}).reset_index()\n",
    "    adv_max_down_df.set_index('Census Block FIPS Code', inplace = True)\n",
    "    \n",
    "    adv_max_up_df = pd.DataFrame({'adv_max_up':raw_df.groupby(['Census Block FIPS Code'])['Max Advertised Upstream Speed (mbps)'].mean()}).reset_index()\n",
    "    adv_max_up_df.set_index('Census Block FIPS Code', inplace = True)\n",
    "    \n",
    "    cir_max_up_df = pd.DataFrame({'cir_max_up':raw_df.groupby(['Census Block FIPS Code'])['Max CIR Upstream Speed (mbps)'].mean()}).reset_index()\n",
    "    cir_max_up_df.set_index('Census Block FIPS Code', inplace = True)\n",
    "    \n",
    "    cir_max_down_df = pd.DataFrame({'cir_max_down':raw_df.groupby(['Census Block FIPS Code'])['Max CIR Downstream Speed (mbps)'].mean()}).reset_index()\n",
    "    cir_max_down_df.set_index('Census Block FIPS Code', inplace = True)\n",
    "    \n",
    "    #TODO: Merge the 7 df's\n",
    "    df_list = [wisp_count_df,consumer_df,business_df,adv_max_down_df,adv_max_up_df,cir_max_up_df,cir_max_down_df]\n",
    "    print('Merging dataframes...')\n",
    "    for i in df_list:\n",
    "        if wisp_count_df.equals(i):\n",
    "            final_df = wisp_count_df\n",
    "        else:\n",
    "            final_df = pd.merge(final_df,i,how='outer',left_index=True, right_index=True)\n",
    "    print('Done merging dataframes!')\n",
    "    final_df.drop(['Consumer', 'Business'], axis = 1, inplace = True)\n",
    "    return final_df "
   ]
  },
  {
   "cell_type": "code",
   "execution_count": 226,
   "metadata": {},
   "outputs": [
    {
     "name": "stdout",
     "output_type": "stream",
     "text": [
      "Merging dataframes...\n",
      "Done merging dataframes!\n"
     ]
    }
   ],
   "source": [
    "mont_metrics_df = get_metrics(mont_wisp_df)"
   ]
  },
  {
   "cell_type": "code",
   "execution_count": 235,
   "metadata": {},
   "outputs": [],
   "source": [
    "# Merging population data and WISP metrics\n",
    "def merge_pop_wisp(pop_df,wisp_df):\n",
    "    if (pop_df.index.name != 'block_fips'):\n",
    "        pop_df.set_index('block_fips',inplace = True)\n",
    "    final_df = pd.merge(pop_df, wisp_df,how = 'left', left_index = True, right_index = True)\n",
    "    return final_df "
   ]
  },
  {
   "cell_type": "code",
   "execution_count": 268,
   "metadata": {},
   "outputs": [
    {
     "data": {
      "text/html": [
       "<div>\n",
       "<style>\n",
       "    .dataframe thead tr:only-child th {\n",
       "        text-align: right;\n",
       "    }\n",
       "\n",
       "    .dataframe thead th {\n",
       "        text-align: left;\n",
       "    }\n",
       "\n",
       "    .dataframe tbody tr th {\n",
       "        vertical-align: top;\n",
       "    }\n",
       "</style>\n",
       "<table border=\"1\" class=\"dataframe\">\n",
       "  <thead>\n",
       "    <tr style=\"text-align: right;\">\n",
       "      <th></th>\n",
       "      <th>block_fips</th>\n",
       "      <th>stateabbr</th>\n",
       "      <th>hu2016</th>\n",
       "      <th>hh2016</th>\n",
       "      <th>pop2016</th>\n",
       "      <th>wisp_count</th>\n",
       "      <th>consumer_num</th>\n",
       "      <th>business_num</th>\n",
       "      <th>adv_max_down</th>\n",
       "      <th>adv_max_up</th>\n",
       "      <th>cir_max_up</th>\n",
       "      <th>cir_max_down</th>\n",
       "      <th>density</th>\n",
       "    </tr>\n",
       "  </thead>\n",
       "  <tbody>\n",
       "    <tr>\n",
       "      <th>0</th>\n",
       "      <td>420912001031000</td>\n",
       "      <td>PA</td>\n",
       "      <td>6</td>\n",
       "      <td>6.0000</td>\n",
       "      <td>18</td>\n",
       "      <td>6</td>\n",
       "      <td>5</td>\n",
       "      <td>6</td>\n",
       "      <td>197.000</td>\n",
       "      <td>149.383333</td>\n",
       "      <td>0.550000</td>\n",
       "      <td>2.833333</td>\n",
       "      <td>0.315789</td>\n",
       "    </tr>\n",
       "    <tr>\n",
       "      <th>1</th>\n",
       "      <td>420912001031001</td>\n",
       "      <td>PA</td>\n",
       "      <td>0</td>\n",
       "      <td>0.0000</td>\n",
       "      <td>0</td>\n",
       "      <td>4</td>\n",
       "      <td>3</td>\n",
       "      <td>4</td>\n",
       "      <td>10.500</td>\n",
       "      <td>1.575000</td>\n",
       "      <td>0.825000</td>\n",
       "      <td>4.250000</td>\n",
       "      <td>4.000000</td>\n",
       "    </tr>\n",
       "    <tr>\n",
       "      <th>2</th>\n",
       "      <td>420912001031002</td>\n",
       "      <td>PA</td>\n",
       "      <td>3</td>\n",
       "      <td>3.0000</td>\n",
       "      <td>12</td>\n",
       "      <td>5</td>\n",
       "      <td>4</td>\n",
       "      <td>5</td>\n",
       "      <td>48.400</td>\n",
       "      <td>3.260000</td>\n",
       "      <td>0.660000</td>\n",
       "      <td>3.400000</td>\n",
       "      <td>0.384615</td>\n",
       "    </tr>\n",
       "    <tr>\n",
       "      <th>3</th>\n",
       "      <td>420912001031003</td>\n",
       "      <td>PA</td>\n",
       "      <td>1</td>\n",
       "      <td>0.9448</td>\n",
       "      <td>1</td>\n",
       "      <td>8</td>\n",
       "      <td>5</td>\n",
       "      <td>8</td>\n",
       "      <td>123.125</td>\n",
       "      <td>110.883500</td>\n",
       "      <td>0.600000</td>\n",
       "      <td>2.312500</td>\n",
       "      <td>4.000000</td>\n",
       "    </tr>\n",
       "    <tr>\n",
       "      <th>4</th>\n",
       "      <td>420912001031004</td>\n",
       "      <td>PA</td>\n",
       "      <td>0</td>\n",
       "      <td>0.0000</td>\n",
       "      <td>1</td>\n",
       "      <td>9</td>\n",
       "      <td>4</td>\n",
       "      <td>9</td>\n",
       "      <td>5.000</td>\n",
       "      <td>0.785333</td>\n",
       "      <td>1.033333</td>\n",
       "      <td>2.555556</td>\n",
       "      <td>4.500000</td>\n",
       "    </tr>\n",
       "  </tbody>\n",
       "</table>\n",
       "</div>"
      ],
      "text/plain": [
       "        block_fips stateabbr  hu2016  hh2016  pop2016  wisp_count  \\\n",
       "0  420912001031000        PA       6  6.0000       18           6   \n",
       "1  420912001031001        PA       0  0.0000        0           4   \n",
       "2  420912001031002        PA       3  3.0000       12           5   \n",
       "3  420912001031003        PA       1  0.9448        1           8   \n",
       "4  420912001031004        PA       0  0.0000        1           9   \n",
       "\n",
       "   consumer_num  business_num  adv_max_down  adv_max_up  cir_max_up  \\\n",
       "0             5             6       197.000  149.383333    0.550000   \n",
       "1             3             4        10.500    1.575000    0.825000   \n",
       "2             4             5        48.400    3.260000    0.660000   \n",
       "3             5             8       123.125  110.883500    0.600000   \n",
       "4             4             9         5.000    0.785333    1.033333   \n",
       "\n",
       "   cir_max_down   density  \n",
       "0      2.833333  0.315789  \n",
       "1      4.250000  4.000000  \n",
       "2      3.400000  0.384615  \n",
       "3      2.312500  4.000000  \n",
       "4      2.555556  4.500000  "
      ]
     },
     "execution_count": 268,
     "metadata": {},
     "output_type": "execute_result"
    }
   ],
   "source": [
    "final_df = merge_pop_wisp(mont_pop_df, mont_metrics_df)\n",
    "final_df['density'] = final_df['wisp_count']/(final_df['pop2016'] + 1)\n",
    "final_df.reset_index(inplace = True)\n",
    "final_df.head()"
   ]
  },
  {
   "cell_type": "code",
   "execution_count": 267,
   "metadata": {
    "collapsed": true
   },
   "outputs": [],
   "source": [
    "# Write final_df to csv\n",
    "final_df.to_csv('../data/montgomery_wisp_metrics.txt')"
   ]
  },
  {
   "cell_type": "markdown",
   "metadata": {},
   "source": [
    "## Baseline statistics\n",
    "\n",
    "What are the important measures we want to see?"
   ]
  }
 ],
 "metadata": {
  "kernelspec": {
   "display_name": "Python 3",
   "language": "python",
   "name": "python3"
  },
  "language_info": {
   "codemirror_mode": {
    "name": "ipython",
    "version": 3
   },
   "file_extension": ".py",
   "mimetype": "text/x-python",
   "name": "python",
   "nbconvert_exporter": "python",
   "pygments_lexer": "ipython3",
   "version": "3.6.3"
  }
 },
 "nbformat": 4,
 "nbformat_minor": 2
}
