{
 "cells": [
  {
   "cell_type": "code",
   "execution_count": 40,
   "metadata": {},
   "outputs": [
    {
     "data": {
      "text/html": [
       "<style>.container { width:100% !important; }</style>"
      ],
      "text/plain": [
       "<IPython.core.display.HTML object>"
      ]
     },
     "metadata": {},
     "output_type": "display_data"
    }
   ],
   "source": [
    "%matplotlib inline\n",
    "import matplotlib\n",
    "import matplotlib.pyplot as plt\n",
    "import pandas as pd\n",
    "import numpy as np\n",
    "import os\n",
    "import warnings\n",
    "import datetime as dt\n",
    "from IPython.core.display import display, HTML\n",
    "warnings.filterwarnings('ignore')\n",
    "pd.options.display.max_rows = 200\n",
    "from IPython.display import display, Markdown\n",
    "display(HTML(\"<style>.container { width:100% !important; }</style>\"))"
   ]
  },
  {
   "cell_type": "code",
   "execution_count": 2,
   "metadata": {
    "collapsed": true
   },
   "outputs": [],
   "source": [
    "# Reading in FCC wisp data\n",
    "filepath = \"../data/bb_data.csv\"\n",
    "wisp_df = pd.read_csv(filepath)\n",
    "\n",
    "# Reading in population densities\n",
    "filepath = \"../data/us2016.csv\"\n",
    "pop_df = pd.read_csv(filepath)"
   ]
  },
  {
   "cell_type": "code",
   "execution_count": 9,
   "metadata": {},
   "outputs": [],
   "source": [
    "# Pennsylvania population density\n",
    "pa_pop_df = pop_df[pop_df['stateabbr'] == 'PA']\n",
    "wisp_df = wisp_df[wisp_df['State'] == 'PA']\n",
    "\n",
    "'''\n",
    "Population information:\n",
    "\n",
    "hu = housing units\n",
    "hh = households\n",
    "pop = population\n",
    "\n",
    "'''\n",
    "cols = ['stateabbr','block_fips','hu2016','hh2016','pop2016']\n",
    "pa_pop_df = pa_pop_df[cols]\n",
    "\n",
    "wisp_col_names = wisp_df.columns.values\n",
    "wisp_rows = wisp_df.shape[0]\n",
    "wisp_cols = wisp_df.shape[1]"
   ]
  },
  {
   "cell_type": "code",
   "execution_count": 56,
   "metadata": {},
   "outputs": [
    {
     "name": "stdout",
     "output_type": "stream",
     "text": [
      "Business Downstream Speeds: \n"
     ]
    },
    {
     "data": {
      "text/plain": [
       "<matplotlib.axes._subplots.AxesSubplot at 0x2f3bef3c8>"
      ]
     },
     "execution_count": 56,
     "metadata": {},
     "output_type": "execute_result"
    },
    {
     "data": {
      "image/png": "[encoded data removed]",
      "text/plain": [
       "<matplotlib.figure.Figure at 0x2f3bef780>"
      ]
     },
     "metadata": {},
     "output_type": "display_data"
    }
   ],
   "source": [
    "# What do up/down speeds look like for businesses in PA?\n",
    "print('Business Downstream Speeds: ')\n",
    "plt.figure(figsize=(24,10))\n",
    "val_counts = wisp_df['Max CIR Downstream Speed (mbps)'][wisp_df['Business']==1].value_counts(normalize=True, sort = True).sort_index().plot(kind='bar')\n",
    "\n",
    "#print('Business Upstream Speeds: ')\n",
    "#print(wisp_df['Max CIR Upstream Speed (mbps)'][wisp_df['Business']==1].value_counts(normalize=True, sort = True, bins = 10))"
   ]
  },
  {
   "cell_type": "code",
   "execution_count": null,
   "metadata": {
    "collapsed": true
   },
   "outputs": [],
   "source": [
    "# What do up/down speeds look like for residential/commerical in PA?\n",
    "wisp_df['Max Advertised Downstream Speed (mbps)'].value_counts(normalize=True)\n",
    "wisp_df['Max Advertised Upstream Speed (mbps)'].value_counts(normalize=True)"
   ]
  },
  {
   "cell_type": "markdown",
   "metadata": {},
   "source": [
    "# Wireless Internet Service Provider Research\n",
    "## Intro\n",
    "The goal of this project is to get an idea of the WISP landscape in Pennsylvania (specifically Mongtgomery County), and identify any untapped wireless markets, geographic or otherwise.\n",
    "\n",
    "## A Warning from the FCC (IMPORTANT)\n",
    "From the [explanation of FCC Data](https://www.fcc.gov/general/explanation-broadband-deployment-data):  A provider that reports deployment of a particular technology and bandwidth in a particular census block may not necessarily offer that particular service everywhere in the census block. Accordingly, a list of providers deployed in a census block does not necessarily reflect the number of choices available to any particular household or business location in that block, and the number of such providers in the census block does not purport to measure competition.\n",
    "\n",
    "### My thoughts on this\n",
    "The conclusions we draw here will have to be taken with a grain of salt, and will need to do additional research to verify and insights."
   ]
  },
  {
   "cell_type": "code",
   "execution_count": 18,
   "metadata": {},
   "outputs": [
    {
     "data": {
      "text/markdown": [
       "\n",
       "## The Data\n",
       "### WISP Data\n",
       "The column names for the Wisp dataset are ['Logical Record Number' 'Provider ID' 'FRN' 'Provider Name' 'DBA Name'\n",
       " 'Holding Company Name' 'Holding Company Number' 'Holding Company Final'\n",
       " 'State' 'Census Block FIPS Code' 'Technology Code' 'Consumer'\n",
       " 'Max Advertised Downstream Speed (mbps)'\n",
       " 'Max Advertised Upstream Speed (mbps)' 'Business'\n",
       " 'Max CIR Downstream Speed (mbps)' 'Max CIR Upstream Speed (mbps)']. <br>\n",
       "The table of PA WISP's has 2588294 rows and 17 columns.\n"
      ],
      "text/plain": [
       "<IPython.core.display.Markdown object>"
      ]
     },
     "execution_count": 18,
     "metadata": {},
     "output_type": "execute_result"
    }
   ],
   "source": [
    "Markdown(\"\"\"\n",
    "## The Data\n",
    "### WISP Data\n",
    "The column names for the Wisp dataset are {wisp_col_names}. <br>\n",
    "The table of PA WISP's has {wisp_rows} rows and {wisp_cols} columns.\n",
    "\"\"\".format(wisp_col_names = wisp_col_names, wisp_rows = wisp_rows, wisp_cols = wisp_cols))"
   ]
  },
  {
   "cell_type": "markdown",
   "metadata": {},
   "source": []
  },
  {
   "cell_type": "markdown",
   "metadata": {},
   "source": [
    "## Filtering the WISPS\n",
    "\n",
    "See the [explanation of FCC Data](https://www.fcc.gov/general/explanation-broadband-deployment-data) here for clarification on columns.\n",
    "\n",
    "The function below filters the available list of wisps to be analyzed. Attributes on which to filter:\n",
    "<br>\n",
    "Max Advertised Upstream Speed (mbps) ** greater than or equal to 5**\n",
    "<br>\n",
    "Max Advertised Downstream Speed (mbps) ** greater than or equal to 25**\n",
    "<br>\n",
    "Max CIR Upstream Speed (mbps)  ** greater than or equal to 5**\n",
    "<br>\n",
    "Max CIR Downstream Speed (mbps)** greater than or equal to 25**\n",
    "<br>\n",
    "Business (Provider can or does offer business/government service in the block) **must be True**\n",
    "<br>\n",
    "Consumer (Provider can or does offer consumer/mass market/residential service in the block)  **currently not filtered**\n",
    "<br>\n",
    "### A Quick Note\n",
    "From the [explanation of FCC Form 477 data](https://www.fcc.gov/general/explanation-broadband-deployment-data): Filer directed to report 0 if the contracted service is sold on a \"best efforts\" basis without a guaranteed data-throughput rate.  \n",
    "<br>\n",
    "Because of this, a wisp will be considered eligble for further analysis if its **Max Advertised or CIR up/downstream is greater than or equal to filter value**."
   ]
  },
  {
   "cell_type": "code",
   "execution_count": 11,
   "metadata": {},
   "outputs": [
    {
     "name": "stdout",
     "output_type": "stream",
     "text": [
      "took 0:00:00.304631 to run!\n"
     ]
    },
    {
     "data": {
      "text/plain": [
       "(560941, 17)"
      ]
     },
     "execution_count": 11,
     "metadata": {},
     "output_type": "execute_result"
    }
   ],
   "source": [
    "def filter_wisps(raw_df):\n",
    "    start_t = dt.datetime.now()\n",
    "    max_up = 5\n",
    "    max_down = 25\n",
    "    business = 1\n",
    "    consumer = 1\n",
    "    #state = 'PA'\n",
    "    raw_df = raw_df[(raw_df['Max Advertised Upstream Speed (mbps)'] >= max_up) | (raw_df['Max CIR Upstream Speed (mbps)'] >= max_up) ]\n",
    "    raw_df = raw_df[(raw_df['Max Advertised Downstream Speed (mbps)'] >= max_down) | (raw_df['Max CIR Downstream Speed (mbps)'] >= max_down)]\n",
    "    raw_df = raw_df[(raw_df['Business'] == business)]\n",
    "    #raw_df = raw_df[raw_df['State'] == state]\n",
    "    final_t = dt.datetime.now()\n",
    "    #print(f'took {final_t - start_t} to run!')\n",
    "    return raw_df\n",
    "pa_wisp_df = filter_wisps(wisp_df)\n",
    "#pa_wisp_df.shape"
   ]
  },
  {
   "cell_type": "code",
   "execution_count": 417,
   "metadata": {
    "collapsed": true
   },
   "outputs": [],
   "source": [
    "## wrtie PA files to csv's\n",
    "pa_wisp_df.to_csv('../data/pa_bb.txt')\n",
    "pa_pop_df.to_csv('../data/pa_pop.txt')"
   ]
  },
  {
   "cell_type": "code",
   "execution_count": 22,
   "metadata": {},
   "outputs": [
    {
     "name": "stdout",
     "output_type": "stream",
     "text": [
      "number of blocks in montgomery county:  13769\n",
      "number of eligble wisps in montgomery county:  26162\n"
     ]
    }
   ],
   "source": [
    "'''\n",
    "Create Montgomery county subsets\n",
    "\n",
    "PA state FIPS code 42\n",
    "Montgomery county FIPS code 091\n",
    "'''\n",
    "pa_pop_df['block_fips']= pa_pop_df['block_fips'].apply(str)\n",
    "pa_pop_df['mont_county'] = pa_pop_df['block_fips'].map(lambda x: True if x[:5] == '42091' else False)\n",
    "mont_pop_df = pa_pop_df[pa_pop_df['mont_county']==True]\n",
    "\n",
    "pa_wisp_df['Census Block FIPS Code'] = pa_wisp_df['Census Block FIPS Code'].apply(str)\n",
    "pa_wisp_df['mont_county'] = pa_wisp_df['Census Block FIPS Code'].map(lambda x: True if x[:5] == '42091' else False)\n",
    "mont_wisp_df = pa_wisp_df[pa_wisp_df['mont_county'] == True]\n",
    "\n",
    "filtered_wisp_rows = pa_wisp_df.shape[0]\n",
    "filtered_county_rows = mont_wisp_df.shape[0]\n",
    "\n",
    "pa_blocks = pa_pop_df.shape[0]\n",
    "mont_blocks = mont_pop_df.shape[0]\n",
    "\n",
    "\n",
    "#print(f'number of blocks in montgomery county:  {mont_blocks}')\n",
    "#print(f'number of eligble wisps in montgomery county:  {filtered_county_rows}')"
   ]
  },
  {
   "cell_type": "code",
   "execution_count": 24,
   "metadata": {},
   "outputs": [
    {
     "data": {
      "text/markdown": [
       "\n",
       "## Filtered Results\n",
       "After filtering, the total number of eligble wisps in PA is **560941**, down from 2588294, with 421545 census blocks in PA. <br>\n",
       "After filtering, the number of eligible wisps in Montgomery County is **26162**, and there are 13769 census blocks in Montgomery County.\n"
      ],
      "text/plain": [
       "<IPython.core.display.Markdown object>"
      ]
     },
     "execution_count": 24,
     "metadata": {},
     "output_type": "execute_result"
    }
   ],
   "source": [
    "Markdown(\"\"\"\n",
    "## Filtered Results\n",
    "After filtering, the total number of eligble wisps in PA is **{filtered_wisp_rows}**, down from {wisp_rows}, with {pa_blocks} census blocks in PA. <br>\n",
    "After filtering, the number of eligible wisps in Montgomery County is **{filtered_county_rows}**, and there are {mont_blocks} census blocks in Montgomery County.\n",
    "\"\"\".format(filtered_wisp_rows = filtered_wisp_rows, wisp_rows = wisp_rows, pa_blocks = pa_blocks, filtered_county_rows = filtered_county_rows, mont_blocks = mont_blocks))"
   ]
  },
  {
   "cell_type": "code",
   "execution_count": 433,
   "metadata": {
    "collapsed": true
   },
   "outputs": [],
   "source": [
    "# Using the groubpy function to get metrics for each census block: count, types, mean up/down speeds\n",
    "def get_metrics(raw_df):\n",
    "    \n",
    "    # A count of all the unique WISP's in a given census block,  if block isn't included in dataframe, then there are no WISPs in that block\n",
    "    wisp_count_df = pd.DataFrame({'wisp_count':raw_df.groupby(['Census Block FIPS Code']).size()}).reset_index()\n",
    "    wisp_count_df.set_index('Census Block FIPS Code', inplace=True)\n",
    "\n",
    "    # Number of WISPs allowed to serve consumers in the given block\n",
    "    consumer_df = pd.DataFrame({'consumer_num':raw_df.groupby(['Census Block FIPS Code','Consumer']).size()}).reset_index()\n",
    "    consumer_df = consumer_df[consumer_df['Consumer']==1]\n",
    "    consumer_df.set_index('Census Block FIPS Code', inplace=True)\n",
    "\n",
    "    # Number of WISPs allowed to serve businesses in the given block\n",
    "    business_df = pd.DataFrame({'business_num':raw_df.groupby(['Census Block FIPS Code', 'Business']).size()}).reset_index()\n",
    "    business_df = business_df[business_df['Business']==1]\n",
    "    business_df.set_index('Census Block FIPS Code', inplace = True)\n",
    "\n",
    "    # Average up/downstream speeds in each census block\n",
    "    adv_max_down_df = pd.DataFrame({'adv_max_down':raw_df.groupby(['Census Block FIPS Code'])['Max Advertised Downstream Speed (mbps)'].max()}).reset_index()\n",
    "    adv_max_down_df.set_index('Census Block FIPS Code', inplace = True)\n",
    "    \n",
    "    adv_max_up_df = pd.DataFrame({'adv_max_up':raw_df.groupby(['Census Block FIPS Code'])['Max Advertised Upstream Speed (mbps)'].max()}).reset_index()\n",
    "    adv_max_up_df.set_index('Census Block FIPS Code', inplace = True)\n",
    "    \n",
    "    cir_max_up_df = pd.DataFrame({'cir_max_up':raw_df.groupby(['Census Block FIPS Code'])['Max CIR Upstream Speed (mbps)'].max()}).reset_index()\n",
    "    cir_max_up_df.set_index('Census Block FIPS Code', inplace = True)\n",
    "    \n",
    "    cir_max_down_df = pd.DataFrame({'cir_max_down':raw_df.groupby(['Census Block FIPS Code'])['Max CIR Downstream Speed (mbps)'].max()}).reset_index()\n",
    "    cir_max_down_df.set_index('Census Block FIPS Code', inplace = True)\n",
    "    \n",
    "    #TODO: Merge the 7 df's\n",
    "    df_list = [wisp_count_df,consumer_df,business_df,adv_max_down_df,adv_max_up_df,cir_max_up_df,cir_max_down_df]\n",
    "    print('Merging dataframes...')\n",
    "    for i in df_list:\n",
    "        if wisp_count_df.equals(i):\n",
    "            final_df = wisp_count_df\n",
    "        else:\n",
    "            final_df = pd.merge(final_df,i,how='outer',left_index=True, right_index=True)\n",
    "    print('Done merging dataframes!')\n",
    "    final_df.drop(['Consumer', 'Business'], axis = 1, inplace = True)\n",
    "    return final_df "
   ]
  },
  {
   "cell_type": "code",
   "execution_count": 434,
   "metadata": {},
   "outputs": [
    {
     "name": "stdout",
     "output_type": "stream",
     "text": [
      "Merging dataframes...\n",
      "Done merging dataframes!\n",
      "Merging dataframes...\n",
      "Done merging dataframes!\n"
     ]
    }
   ],
   "source": [
    "# Get metrics for montgomery county\n",
    "mont_metrics_df = get_metrics(mont_wisp_df)\n",
    "\n",
    "# Get metrics for all of PA\n",
    "pa_metrics_df = get_metrics(pa_wisp_df)"
   ]
  },
  {
   "cell_type": "code",
   "execution_count": 435,
   "metadata": {
    "collapsed": true
   },
   "outputs": [],
   "source": [
    "# Merging population data and WISP metrics\n",
    "def merge_pop_wisp(pop_df,wisp_df):\n",
    "    if (pop_df.index.name != 'block_fips'):\n",
    "        pop_df.set_index('block_fips',inplace = True)\n",
    "    final_df = pd.merge(pop_df, wisp_df,how = 'left', left_index = True, right_index = True)\n",
    "    final_df.fillna(value = 0, inplace = True)\n",
    "    final_df['density'] = final_df['wisp_count']/ (final_df['pop2016'] + 1)\n",
    "    final_df.reset_index(inplace = True)\n",
    "    final_df['best_available_up'] = final_df[['cir_max_up','adv_max_up']].max(axis = 1)\n",
    "    final_df['best_available_down'] = final_df[['cir_max_down','adv_max_down']].max(axis = 1)\n",
    "    return final_df "
   ]
  },
  {
   "cell_type": "code",
   "execution_count": 436,
   "metadata": {
    "collapsed": true
   },
   "outputs": [],
   "source": [
    "# Merging metrics with population data\n",
    "county_df = merge_pop_wisp(mont_pop_df, mont_metrics_df)\n",
    "state_df = merge_pop_wisp(pa_pop_df, pa_metrics_df)"
   ]
  },
  {
   "cell_type": "code",
   "execution_count": 432,
   "metadata": {
    "collapsed": true
   },
   "outputs": [],
   "source": [
    "# Write county and state data to csv\n",
    "county_df.to_csv('../data/montgomery_wisp_metrics.txt')\n",
    "state_df.to_csv('../data/pa_wisp_metrics.txt')"
   ]
  },
  {
   "cell_type": "markdown",
   "metadata": {},
   "source": [
    "## Baseline statistics\n",
    "\n",
    "What are the important measures we want to see?\n",
    "\n",
    "Breakdown of # wisps\n",
    "Density map (wisp/population) in a given block\n",
    "Heatmap of number of wisps operating in given census block (filter by type, up/down speed)\n",
    "Correlation between WISP/population"
   ]
  },
  {
   "cell_type": "code",
   "execution_count": 443,
   "metadata": {},
   "outputs": [
    {
     "name": "stdout",
     "output_type": "stream",
     "text": [
      "Basic metrics of wisps in montogmery county: \n",
      "count    13769.000000\n",
      "mean         1.900065\n",
      "std          0.992289\n",
      "min          0.000000\n",
      "25%          1.000000\n",
      "50%          2.000000\n",
      "75%          2.000000\n",
      "max         12.000000\n",
      "Name: wisp_count, dtype: float64\n",
      "Basic metrics of wisps in PA: \n",
      "count    421545.000000\n",
      "mean          1.330679\n",
      "std           1.244162\n",
      "min           0.000000\n",
      "25%           0.000000\n",
      "50%           1.000000\n",
      "75%           2.000000\n",
      "max          16.000000\n",
      "Name: wisp_count, dtype: float64\n"
     ]
    }
   ],
   "source": [
    "# Wisp metrics by block\n",
    "mont_met = county_df['wisp_count'].describe()\n",
    "pa_met = state_df['wisp_count'].describe()\n",
    "\n",
    "print(f'Basic wisp metrics by block in montogmery county: \\n{mont_met}')\n",
    "print(f'Basic wisp metrics by block in PA: \\n{pa_met}')"
   ]
  },
  {
   "cell_type": "code",
   "execution_count": 445,
   "metadata": {},
   "outputs": [
    {
     "name": "stdout",
     "output_type": "stream",
     "text": [
      "Number of wisps operating in each block: \n",
      "0.0     0.319297\n",
      "1.0     0.281114\n",
      "2.0     0.222961\n",
      "3.0     0.118768\n",
      "4.0     0.044377\n",
      "5.0     0.011842\n",
      "6.0     0.001229\n",
      "7.0     0.000244\n",
      "8.0     0.000081\n",
      "9.0     0.000045\n",
      "10.0    0.000021\n",
      "12.0    0.000009\n",
      "13.0    0.000005\n",
      "16.0    0.000002\n",
      "11.0    0.000002\n",
      "14.0    0.000002\n",
      "Name: wisp_count, dtype: float64\n"
     ]
    }
   ],
   "source": [
    "pa_value_counts = state_df['wisp_count'].value_counts(normalize = True)\n",
    "print(f'Number of eligble wisps operating in each block: \\n{pa_value_counts}')"
   ]
  }
 ],
 "metadata": {
  "kernelspec": {
   "display_name": "Python 3",
   "language": "python",
   "name": "python3"
  },
  "language_info": {
   "codemirror_mode": {
    "name": "ipython",
    "version": 3
   },
   "file_extension": ".py",
   "mimetype": "text/x-python",
   "name": "python",
   "nbconvert_exporter": "python",
   "pygments_lexer": "ipython3",
   "version": "3.6.3"
  }
 },
 "nbformat": 4,
 "nbformat_minor": 2
}
