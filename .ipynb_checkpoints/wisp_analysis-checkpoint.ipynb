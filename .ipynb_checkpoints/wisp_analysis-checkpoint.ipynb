{
 "cells": [
  {
   "cell_type": "code",
   "execution_count": 40,
   "metadata": {},
   "outputs": [
    {
     "data": {
      "text/html": [
       "<style>.container { width:100% !important; }</style>"
      ],
      "text/plain": [
       "<IPython.core.display.HTML object>"
      ]
     },
     "metadata": {},
     "output_type": "display_data"
    }
   ],
   "source": [
    "%matplotlib inline\n",
    "import matplotlib\n",
    "import matplotlib.pyplot as plt\n",
    "import pandas as pd\n",
    "import numpy as np\n",
    "import os\n",
    "import warnings\n",
    "import datetime as dt\n",
    "from IPython.core.display import display, HTML\n",
    "warnings.filterwarnings('ignore')\n",
    "pd.options.display.max_rows = 200\n",
    "from IPython.display import display, Markdown\n",
    "display(HTML(\"<style>.container { width:100% !important; }</style>\"))"
   ]
  },
  {
   "cell_type": "code",
   "execution_count": 2,
   "metadata": {
    "collapsed": true
   },
   "outputs": [],
   "source": [
    "# Reading in FCC wisp data\n",
    "filepath = \"../data/bb_data.csv\"\n",
    "wisp_df = pd.read_csv(filepath)\n",
    "\n",
    "# Reading in population densities\n",
    "filepath = \"../data/us2016.csv\"\n",
    "pop_df = pd.read_csv(filepath)"
   ]
  },
  {
   "cell_type": "code",
   "execution_count": 9,
   "metadata": {},
   "outputs": [],
   "source": [
    "# Pennsylvania population density\n",
    "pa_pop_df = pop_df[pop_df['stateabbr'] == 'PA']\n",
    "wisp_df = wisp_df[wisp_df['State'] == 'PA']\n",
    "\n",
    "'''\n",
    "Population information:\n",
    "\n",
    "hu = housing units\n",
    "hh = households\n",
    "pop = population\n",
    "\n",
    "'''\n",
    "cols = ['stateabbr','block_fips','hu2016','hh2016','pop2016']\n",
    "pa_pop_df = pa_pop_df[cols]\n",
    "\n",
    "wisp_col_names = wisp_df.columns.values\n",
    "wisp_rows = wisp_df.shape[0]\n",
    "wisp_cols = wisp_df.shape[1]"
   ]
  },
  {
   "cell_type": "markdown",
   "metadata": {},
   "source": [
    "# Wireless Internet Service Provider Research\n",
    "\n",
    "## Intro\n",
    "The goal of this project is to get an idea of the WISP landscape in Pennsylvania (specifically Mongtgomery County), and identify any untapped wireless markets, geographic or otherwise.\n",
    "\n",
    "###  A Warning from the FCC (IMPORTANT)\n",
    "From the [explanation of FCC Data](https://www.fcc.gov/general/explanation-broadband-deployment-data):  A provider that reports deployment of a particular technology and bandwidth in a particular census block may not necessarily offer that particular service everywhere in the census block. Accordingly, a list of providers deployed in a census block does not necessarily reflect the number of choices available to any particular household or business location in that block, and the number of such providers in the census block does not purport to measure competition.\n",
    "\n",
    "#### My thoughts on this\n",
    "The conclusions we draw here will have to be taken with a grain of salt, and will need to do additional research to verify any insights.\n",
    "\n",
    "## Initial Exploration\n",
    "\n",
    "Before we do some filtering, lets take a look the raw stats of WISPS in PA."
   ]
  },
  {
   "cell_type": "code",
   "execution_count": 81,
   "metadata": {},
   "outputs": [
    {
     "data": {
      "text/html": [
       "<div>\n",
       "<style>\n",
       "    .dataframe thead tr:only-child th {\n",
       "        text-align: right;\n",
       "    }\n",
       "\n",
       "    .dataframe thead th {\n",
       "        text-align: left;\n",
       "    }\n",
       "\n",
       "    .dataframe tbody tr th {\n",
       "        vertical-align: top;\n",
       "    }\n",
       "</style>\n",
       "<table border=\"1\" class=\"dataframe\">\n",
       "  <thead>\n",
       "    <tr style=\"text-align: right;\">\n",
       "      <th></th>\n",
       "      <th>Logical Record Number</th>\n",
       "      <th>Provider ID</th>\n",
       "      <th>FRN</th>\n",
       "      <th>Provider Name</th>\n",
       "      <th>DBA Name</th>\n",
       "      <th>Holding Company Name</th>\n",
       "      <th>Holding Company Number</th>\n",
       "      <th>Holding Company Final</th>\n",
       "      <th>State</th>\n",
       "      <th>Census Block FIPS Code</th>\n",
       "      <th>Technology Code</th>\n",
       "      <th>Consumer</th>\n",
       "      <th>Max Advertised Downstream Speed (mbps)</th>\n",
       "      <th>Max Advertised Upstream Speed (mbps)</th>\n",
       "      <th>Business</th>\n",
       "      <th>Max CIR Downstream Speed (mbps)</th>\n",
       "      <th>Max CIR Upstream Speed (mbps)</th>\n",
       "    </tr>\n",
       "  </thead>\n",
       "  <tbody>\n",
       "    <tr>\n",
       "      <th>26</th>\n",
       "      <td>24835260</td>\n",
       "      <td>27193</td>\n",
       "      <td>11548526</td>\n",
       "      <td>PenTeleData Limited Partnership I</td>\n",
       "      <td>PenTeleData Limited Partnership I</td>\n",
       "      <td>Pencor Services, Inc.</td>\n",
       "      <td>131026</td>\n",
       "      <td>Pencor Services, Inc.</td>\n",
       "      <td>PA</td>\n",
       "      <td>420710129003011</td>\n",
       "      <td>50</td>\n",
       "      <td>1</td>\n",
       "      <td>1000.0</td>\n",
       "      <td>1000.000</td>\n",
       "      <td>1</td>\n",
       "      <td>0.0</td>\n",
       "      <td>0.0</td>\n",
       "    </tr>\n",
       "    <tr>\n",
       "      <th>42</th>\n",
       "      <td>26114547</td>\n",
       "      <td>27423</td>\n",
       "      <td>3273505</td>\n",
       "      <td>Verizon Pennsylvania LLC</td>\n",
       "      <td>Verizon Pennsylvania LLC</td>\n",
       "      <td>Verizon Communications Inc.</td>\n",
       "      <td>131425</td>\n",
       "      <td>Verizon Communications Inc.</td>\n",
       "      <td>PA</td>\n",
       "      <td>420110139004075</td>\n",
       "      <td>10</td>\n",
       "      <td>1</td>\n",
       "      <td>3.0</td>\n",
       "      <td>0.768</td>\n",
       "      <td>1</td>\n",
       "      <td>0.0</td>\n",
       "      <td>0.0</td>\n",
       "    </tr>\n",
       "    <tr>\n",
       "      <th>59</th>\n",
       "      <td>68023772</td>\n",
       "      <td>29201</td>\n",
       "      <td>19085687</td>\n",
       "      <td>Sunesys, LLC</td>\n",
       "      <td>Sunesys, LLC</td>\n",
       "      <td>Crown Castle International Corp.</td>\n",
       "      <td>300121</td>\n",
       "      <td>Crown Castle International Corp.</td>\n",
       "      <td>PA</td>\n",
       "      <td>421010365012007</td>\n",
       "      <td>50</td>\n",
       "      <td>0</td>\n",
       "      <td>0.0</td>\n",
       "      <td>0.000</td>\n",
       "      <td>1</td>\n",
       "      <td>1000.0</td>\n",
       "      <td>1000.0</td>\n",
       "    </tr>\n",
       "    <tr>\n",
       "      <th>93</th>\n",
       "      <td>26100082</td>\n",
       "      <td>27423</td>\n",
       "      <td>3273505</td>\n",
       "      <td>Verizon Pennsylvania LLC</td>\n",
       "      <td>Verizon Pennsylvania LLC</td>\n",
       "      <td>Verizon Communications Inc.</td>\n",
       "      <td>131425</td>\n",
       "      <td>Verizon Communications Inc.</td>\n",
       "      <td>PA</td>\n",
       "      <td>420035615003018</td>\n",
       "      <td>50</td>\n",
       "      <td>1</td>\n",
       "      <td>940.0</td>\n",
       "      <td>880.000</td>\n",
       "      <td>1</td>\n",
       "      <td>0.0</td>\n",
       "      <td>0.0</td>\n",
       "    </tr>\n",
       "    <tr>\n",
       "      <th>105</th>\n",
       "      <td>8305879</td>\n",
       "      <td>25569</td>\n",
       "      <td>12369286</td>\n",
       "      <td>HNS License Sub, LLC</td>\n",
       "      <td>HughesNet</td>\n",
       "      <td>Hughes Network Systems</td>\n",
       "      <td>130627</td>\n",
       "      <td>dishNET Holding, LLC</td>\n",
       "      <td>PA</td>\n",
       "      <td>420410102041004</td>\n",
       "      <td>60</td>\n",
       "      <td>1</td>\n",
       "      <td>15.0</td>\n",
       "      <td>2.000</td>\n",
       "      <td>1</td>\n",
       "      <td>15.0</td>\n",
       "      <td>2.0</td>\n",
       "    </tr>\n",
       "  </tbody>\n",
       "</table>\n",
       "</div>"
      ],
      "text/plain": [
       "     Logical Record Number  Provider ID       FRN  \\\n",
       "26                24835260        27193  11548526   \n",
       "42                26114547        27423   3273505   \n",
       "59                68023772        29201  19085687   \n",
       "93                26100082        27423   3273505   \n",
       "105                8305879        25569  12369286   \n",
       "\n",
       "                         Provider Name                           DBA Name  \\\n",
       "26   PenTeleData Limited Partnership I  PenTeleData Limited Partnership I   \n",
       "42            Verizon Pennsylvania LLC           Verizon Pennsylvania LLC   \n",
       "59                        Sunesys, LLC                       Sunesys, LLC   \n",
       "93            Verizon Pennsylvania LLC           Verizon Pennsylvania LLC   \n",
       "105               HNS License Sub, LLC                          HughesNet   \n",
       "\n",
       "                 Holding Company Name  Holding Company Number  \\\n",
       "26              Pencor Services, Inc.                  131026   \n",
       "42        Verizon Communications Inc.                  131425   \n",
       "59   Crown Castle International Corp.                  300121   \n",
       "93        Verizon Communications Inc.                  131425   \n",
       "105            Hughes Network Systems                  130627   \n",
       "\n",
       "                Holding Company Final State  Census Block FIPS Code  \\\n",
       "26              Pencor Services, Inc.    PA         420710129003011   \n",
       "42        Verizon Communications Inc.    PA         420110139004075   \n",
       "59   Crown Castle International Corp.    PA         421010365012007   \n",
       "93        Verizon Communications Inc.    PA         420035615003018   \n",
       "105              dishNET Holding, LLC    PA         420410102041004   \n",
       "\n",
       "     Technology Code  Consumer  Max Advertised Downstream Speed (mbps)  \\\n",
       "26                50         1                                  1000.0   \n",
       "42                10         1                                     3.0   \n",
       "59                50         0                                     0.0   \n",
       "93                50         1                                   940.0   \n",
       "105               60         1                                    15.0   \n",
       "\n",
       "     Max Advertised Upstream Speed (mbps)  Business  \\\n",
       "26                               1000.000         1   \n",
       "42                                  0.768         1   \n",
       "59                                  0.000         1   \n",
       "93                                880.000         1   \n",
       "105                                 2.000         1   \n",
       "\n",
       "     Max CIR Downstream Speed (mbps)  Max CIR Upstream Speed (mbps)  \n",
       "26                               0.0                            0.0  \n",
       "42                               0.0                            0.0  \n",
       "59                            1000.0                         1000.0  \n",
       "93                               0.0                            0.0  \n",
       "105                             15.0                            2.0  "
      ]
     },
     "execution_count": 81,
     "metadata": {},
     "output_type": "execute_result"
    }
   ],
   "source": [
    "Markdown(\"\"\"\n",
    "## The Data\n",
    "### WISP Data\n",
    "The table of PA WISP's has {wisp_rows} rows and {wisp_cols} columns.  See a preview of the table below.\n",
    "\"\"\".format(wisp_rows = wisp_rows, wisp_cols = wisp_cols))\n",
    "\n",
    "wisp_df.head()"
   ]
  },
  {
   "cell_type": "markdown",
   "metadata": {},
   "source": [
    "## Some figures\n",
    "\n",
    "Plots of up & downstream speeds for Business and Consumer WISPS."
   ]
  },
  {
   "cell_type": "code",
   "execution_count": 72,
   "metadata": {},
   "outputs": [
    {
     "data": {
      "image/png": "[encoded data removed]",
      "text/plain": [
       "<matplotlib.figure.Figure at 0x2a06e0588>"
      ]
     },
     "metadata": {},
     "output_type": "display_data"
    }
   ],
   "source": [
    "fig_length = 26\n",
    "fig_height = 6\n",
    "# Down speeds look like for businesses in PA\n",
    "plt.figure(figsize=(fig_length,fig_height))\n",
    "plt.title('Business Downstream Speeds (in mbps)')\n",
    "plt.ylabel('Percent')\n",
    "b_down_val_counts = wisp_df['Max CIR Downstream Speed (mbps)'][wisp_df['Business']==1].value_counts(normalize=True, sort = True).sort_index().plot(kind='bar')"
   ]
  },
  {
   "cell_type": "code",
   "execution_count": 69,
   "metadata": {},
   "outputs": [
    {
     "data": {
      "image/png": "[encoded data removed]",
      "text/plain": [
       "<matplotlib.figure.Figure at 0x281220518>"
      ]
     },
     "metadata": {},
     "output_type": "display_data"
    }
   ],
   "source": [
    "# Up speeds for businesses in PA\n",
    "plt.figure(figsize=(fig_length,fig_height))\n",
    "plt.title('Business Upstream Speeds (in mbps)')\n",
    "plt.ylabel('Percent')\n",
    "b_up_val_counts = wisp_df['Max CIR Upstream Speed (mbps)'][wisp_df['Business']==1].value_counts(normalize=True, sort = True).sort_index().plot(kind='bar')"
   ]
  },
  {
   "cell_type": "code",
   "execution_count": 70,
   "metadata": {},
   "outputs": [
    {
     "data": {
      "image/png": "[encoded data removed]",
      "text/plain": [
       "<matplotlib.figure.Figure at 0x29f099f98>"
      ]
     },
     "metadata": {},
     "output_type": "display_data"
    }
   ],
   "source": [
    "# Residential downstream speeds in PA\n",
    "plt.figure(figsize=(fig_length,fig_height))\n",
    "plt.title('Consumer Downstream Speeds (in mbps)')\n",
    "plt.ylabel('Percent')\n",
    "r_down_val_counts = wisp_df['Max Advertised Downstream Speed (mbps)'][wisp_df['Consumer']==1].value_counts(normalize=True, sort = True).sort_index().plot(kind='bar')"
   ]
  },
  {
   "cell_type": "code",
   "execution_count": 71,
   "metadata": {},
   "outputs": [
    {
     "data": {
      "image/png": "[encoded data removed]",
      "text/plain": [
       "<matplotlib.figure.Figure at 0x2d74c0e10>"
      ]
     },
     "metadata": {},
     "output_type": "display_data"
    }
   ],
   "source": [
    "# Residential upstream speeds in PA\n",
    "plt.figure(figsize=(fig_length,fig_height))\n",
    "plt.title('Consumer Upstream Speeds (in mbps)')\n",
    "plt.ylabel('Percent')\n",
    "r_up_val_counts = wisp_df['Max Advertised Upstream Speed (mbps)'][wisp_df['Consumer']==1].value_counts(normalize=True, sort = True).sort_index().plot(kind='bar')"
   ]
  },
  {
   "cell_type": "markdown",
   "metadata": {},
   "source": [
    "## Filtering the WISPS\n",
    "\n",
    "See the [explanation of FCC Data](https://www.fcc.gov/general/explanation-broadband-deployment-data) here for clarification on columns.\n",
    "\n",
    "The function below filters the available list of wisps to be analyzed. Attributes on which to filter:\n",
    "<br>\n",
    "Max Advertised Upstream Speed (mbps) ** greater than or equal to 5**\n",
    "<br>\n",
    "Max Advertised Downstream Speed (mbps) ** greater than or equal to 25**\n",
    "<br>\n",
    "Max CIR Upstream Speed (mbps)  ** greater than or equal to 5**\n",
    "<br>\n",
    "Max CIR Downstream Speed (mbps)** greater than or equal to 25**\n",
    "<br>\n",
    "Business (Provider can or does offer business/government service in the block) **must be True**\n",
    "<br>\n",
    "Consumer (Provider can or does offer consumer/mass market/residential service in the block)  **currently not filtered**\n",
    "<br>\n",
    "### A Quick Note\n",
    "From the [explanation of FCC Form 477 data](https://www.fcc.gov/general/explanation-broadband-deployment-data): Filer directed to report 0 if the contracted service is sold on a \"best efforts\" basis without a guaranteed data-throughput rate.  \n",
    "<br>\n",
    "Because of this, a wisp will be considered eligble for further analysis if its **Max Advertised or CIR up/downstream is greater than or equal to filter value**."
   ]
  },
  {
   "cell_type": "code",
   "execution_count": 82,
   "metadata": {},
   "outputs": [],
   "source": [
    "def filter_wisps(raw_df):\n",
    "    start_t = dt.datetime.now()\n",
    "    max_up = 5\n",
    "    max_down = 25\n",
    "    business = 1\n",
    "    consumer = 1\n",
    "    #state = 'PA'\n",
    "    raw_df = raw_df[(raw_df['Max Advertised Upstream Speed (mbps)'] >= max_up) | (raw_df['Max CIR Upstream Speed (mbps)'] >= max_up) ]\n",
    "    raw_df = raw_df[(raw_df['Max Advertised Downstream Speed (mbps)'] >= max_down) | (raw_df['Max CIR Downstream Speed (mbps)'] >= max_down)]\n",
    "    raw_df = raw_df[(raw_df['Business'] == business)]\n",
    "    #raw_df = raw_df[raw_df['State'] == state]\n",
    "    final_t = dt.datetime.now()\n",
    "    #print(f'took {final_t - start_t} to run!')\n",
    "    return raw_df\n",
    "\n",
    "pa_wisp_df = filter_wisps(wisp_df)\n",
    "#pa_wisp_df.shape"
   ]
  },
  {
   "cell_type": "code",
   "execution_count": 83,
   "metadata": {},
   "outputs": [],
   "source": [
    "'''\n",
    "Create Montgomery county subsets\n",
    "\n",
    "PA state FIPS code 42\n",
    "Montgomery county FIPS code 091\n",
    "'''\n",
    "pa_pop_df['block_fips']= pa_pop_df['block_fips'].apply(str)\n",
    "pa_pop_df['mont_county'] = pa_pop_df['block_fips'].map(lambda x: True if x[:5] == '42091' else False)\n",
    "mont_pop_df = pa_pop_df[pa_pop_df['mont_county']==True]\n",
    "\n",
    "pa_wisp_df['Census Block FIPS Code'] = pa_wisp_df['Census Block FIPS Code'].apply(str)\n",
    "pa_wisp_df['mont_county'] = pa_wisp_df['Census Block FIPS Code'].map(lambda x: True if x[:5] == '42091' else False)\n",
    "mont_wisp_df = pa_wisp_df[pa_wisp_df['mont_county'] == True]\n",
    "\n",
    "filtered_wisp_rows = pa_wisp_df.shape[0]\n",
    "filtered_county_rows = mont_wisp_df.shape[0]\n",
    "\n",
    "pa_blocks = pa_pop_df.shape[0]\n",
    "mont_blocks = mont_pop_df.shape[0]\n",
    "\n",
    "\n",
    "#print(f'number of blocks in montgomery county:  {mont_blocks}')\n",
    "#print(f'number of eligble wisps in montgomery county:  {filtered_county_rows}')"
   ]
  },
  {
   "cell_type": "code",
   "execution_count": 84,
   "metadata": {},
   "outputs": [
    {
     "data": {
      "text/markdown": [
       "\n",
       "## Filtered Results\n",
       "After filtering, the total number of eligble wisps in PA is **560941**, down from 2588294, with 421545 census blocks in PA. <br>\n",
       "After filtering, the number of eligible wisps in Montgomery County is **26162**, and there are 13769 census blocks in Montgomery County.\n"
      ],
      "text/plain": [
       "<IPython.core.display.Markdown object>"
      ]
     },
     "execution_count": 84,
     "metadata": {},
     "output_type": "execute_result"
    }
   ],
   "source": [
    "Markdown(\"\"\"\n",
    "## Filtered Results\n",
    "After filtering, the total number of eligble wisps in PA is **{filtered_wisp_rows}**, down from {wisp_rows}, with {pa_blocks} census blocks in PA. <br>\n",
    "After filtering, the number of eligible wisps in Montgomery County is **{filtered_county_rows}**, and there are {mont_blocks} census blocks in Montgomery County.\n",
    "\"\"\".format(filtered_wisp_rows = filtered_wisp_rows, wisp_rows = wisp_rows, pa_blocks = pa_blocks, filtered_county_rows = filtered_county_rows, mont_blocks = mont_blocks))"
   ]
  },
  {
   "cell_type": "code",
   "execution_count": 85,
   "metadata": {
    "collapsed": true
   },
   "outputs": [],
   "source": [
    "# Using the groubpy function to get metrics for each census block: count, types, mean up/down speeds\n",
    "def get_metrics(raw_df):\n",
    "    \n",
    "    # A count of all the unique WISP's in a given census block,  if block isn't included in dataframe, then there are no WISPs in that block\n",
    "    wisp_count_df = pd.DataFrame({'wisp_count':raw_df.groupby(['Census Block FIPS Code']).size()}).reset_index()\n",
    "    wisp_count_df.set_index('Census Block FIPS Code', inplace=True)\n",
    "\n",
    "    # Number of WISPs allowed to serve consumers in the given block\n",
    "    consumer_df = pd.DataFrame({'consumer_num':raw_df.groupby(['Census Block FIPS Code','Consumer']).size()}).reset_index()\n",
    "    consumer_df = consumer_df[consumer_df['Consumer']==1]\n",
    "    consumer_df.set_index('Census Block FIPS Code', inplace=True)\n",
    "\n",
    "    # Number of WISPs allowed to serve businesses in the given block\n",
    "    business_df = pd.DataFrame({'business_num':raw_df.groupby(['Census Block FIPS Code', 'Business']).size()}).reset_index()\n",
    "    business_df = business_df[business_df['Business']==1]\n",
    "    business_df.set_index('Census Block FIPS Code', inplace = True)\n",
    "\n",
    "    # Average up/downstream speeds in each census block\n",
    "    adv_max_down_df = pd.DataFrame({'adv_max_down':raw_df.groupby(['Census Block FIPS Code'])['Max Advertised Downstream Speed (mbps)'].max()}).reset_index()\n",
    "    adv_max_down_df.set_index('Census Block FIPS Code', inplace = True)\n",
    "    \n",
    "    adv_max_up_df = pd.DataFrame({'adv_max_up':raw_df.groupby(['Census Block FIPS Code'])['Max Advertised Upstream Speed (mbps)'].max()}).reset_index()\n",
    "    adv_max_up_df.set_index('Census Block FIPS Code', inplace = True)\n",
    "    \n",
    "    cir_max_up_df = pd.DataFrame({'cir_max_up':raw_df.groupby(['Census Block FIPS Code'])['Max CIR Upstream Speed (mbps)'].max()}).reset_index()\n",
    "    cir_max_up_df.set_index('Census Block FIPS Code', inplace = True)\n",
    "    \n",
    "    cir_max_down_df = pd.DataFrame({'cir_max_down':raw_df.groupby(['Census Block FIPS Code'])['Max CIR Downstream Speed (mbps)'].max()}).reset_index()\n",
    "    cir_max_down_df.set_index('Census Block FIPS Code', inplace = True)\n",
    "    \n",
    "    #TODO: Merge the 7 df's\n",
    "    df_list = [wisp_count_df,consumer_df,business_df,adv_max_down_df,adv_max_up_df,cir_max_up_df,cir_max_down_df]\n",
    "    #print('Merging dataframes...')\n",
    "    for i in df_list:\n",
    "        if wisp_count_df.equals(i):\n",
    "            final_df = wisp_count_df\n",
    "        else:\n",
    "            final_df = pd.merge(final_df,i,how='outer',left_index=True, right_index=True)\n",
    "    #print('Done merging dataframes!')\n",
    "    final_df.drop(['Consumer', 'Business'], axis = 1, inplace = True)\n",
    "    return final_df \n",
    "\n",
    "\n",
    "# Get metrics for montgomery county\n",
    "mont_metrics_df = get_metrics(mont_wisp_df)\n",
    "# Get metrics for all of PA\n",
    "pa_metrics_df = get_metrics(pa_wisp_df)"
   ]
  },
  {
   "cell_type": "code",
   "execution_count": 86,
   "metadata": {
    "collapsed": true
   },
   "outputs": [],
   "source": [
    "# Merging population data and WISP metrics\n",
    "def merge_pop_wisp(pop_df,wisp_df):\n",
    "    if (pop_df.index.name != 'block_fips'):\n",
    "        pop_df.set_index('block_fips',inplace = True)\n",
    "    final_df = pd.merge(pop_df, wisp_df,how = 'left', left_index = True, right_index = True)\n",
    "    final_df.fillna(value = 0, inplace = True)\n",
    "    final_df['density'] = final_df['wisp_count']/ (final_df['pop2016'] + 1)\n",
    "    final_df.reset_index(inplace = True)\n",
    "    final_df['best_available_up'] = final_df[['cir_max_up','adv_max_up']].max(axis = 1)\n",
    "    final_df['best_available_down'] = final_df[['cir_max_down','adv_max_down']].max(axis = 1)\n",
    "    return final_df \n",
    "\n",
    "# Merging metrics with population data\n",
    "county_df = merge_pop_wisp(mont_pop_df, mont_metrics_df)\n",
    "state_df = merge_pop_wisp(pa_pop_df, pa_metrics_df)"
   ]
  },
  {
   "cell_type": "code",
   "execution_count": 87,
   "metadata": {
    "collapsed": true
   },
   "outputs": [],
   "source": [
    "## wrtie PA files to csv's\n",
    "pa_wisp_df.to_csv('../data/pa_bb.txt')\n",
    "pa_pop_df.to_csv('../data/pa_pop.txt')\n",
    "\n",
    "# Write county and state metrics data to csv\n",
    "county_df.to_csv('../data/montgomery_wisp_metrics.txt')\n",
    "state_df.to_csv('../data/pa_wisp_metrics.txt')"
   ]
  },
  {
   "cell_type": "markdown",
   "metadata": {},
   "source": [
    "## Some Basic Measures\n",
    "\n",
    "What are the important measures we want to see?\n",
    "\n",
    "Breakdown of # of wisps\n",
    "<br>\n",
    "Density map (wisp/population) in a given block\n",
    "<br>\n",
    "Heatmap of number of wisps operating in given census block (filter by type, up/down speed)\n",
    "<br>\n",
    "Correlation between WISP/population"
   ]
  },
  {
   "cell_type": "code",
   "execution_count": 95,
   "metadata": {},
   "outputs": [
    {
     "ename": "IndexError",
     "evalue": "invalid index to scalar variable.",
     "output_type": "error",
     "traceback": [
      "\u001b[0;31m---------------------------------------------------------------------------\u001b[0m",
      "\u001b[0;31mIndexError\u001b[0m                                Traceback (most recent call last)",
      "\u001b[0;32m<ipython-input-95-594bdaab9f49>\u001b[0m in \u001b[0;36m<module>\u001b[0;34m()\u001b[0m\n\u001b[0;32m----> 1\u001b[0;31m \u001b[0mpa_value_counts\u001b[0m \u001b[0;34m=\u001b[0m \u001b[0mstate_df\u001b[0m\u001b[0;34m[\u001b[0m\u001b[0;34m'wisp_count'\u001b[0m\u001b[0;34m]\u001b[0m\u001b[0;34m.\u001b[0m\u001b[0mvalue_counts\u001b[0m\u001b[0;34m(\u001b[0m\u001b[0mnormalize\u001b[0m \u001b[0;34m=\u001b[0m \u001b[0;32mTrue\u001b[0m\u001b[0;34m)\u001b[0m\u001b[0;34m[\u001b[0m\u001b[0;36m0\u001b[0m\u001b[0;34m]\u001b[0m\u001b[0;34m[\u001b[0m\u001b[0;36m1\u001b[0m\u001b[0;34m]\u001b[0m\u001b[0;34m\u001b[0m\u001b[0m\n\u001b[0m\u001b[1;32m      2\u001b[0m \u001b[0mprint\u001b[0m\u001b[0;34m(\u001b[0m\u001b[0;34mf'Number of eligble wisps operating in each block in PA: \\n{pa_value_counts}'\u001b[0m\u001b[0;34m)\u001b[0m\u001b[0;34m\u001b[0m\u001b[0m\n",
      "\u001b[0;31mIndexError\u001b[0m: invalid index to scalar variable."
     ]
    }
   ],
   "source": [
    "pa_value_counts = state_df['wisp_count'].value_counts(normalize = True)\n",
    "print(f'Number of eligble wisps operating in each block in PA: \\n{pa_value_counts}')"
   ]
  },
  {
   "cell_type": "code",
   "execution_count": 109,
   "metadata": {},
   "outputs": [
    {
     "name": "stdout",
     "output_type": "stream",
     "text": [
      "The correlation between population and wisp count in PA:  0.292\n",
      "The correlation between population and wisp count in PA:  0.286\n"
     ]
    }
   ],
   "source": [
    "## Correlation between 2016 population and number of WISP's in a given census block\n",
    "state_corr = np.corrcoef(state_df['pop2016'],state_df['wisp_count'].values)\n",
    "county_corr = np.corrcoef(county_df['pop2016'],county_df['wisp_count'].values)\n",
    "print(f'The correlation between population and wisp count in PA:  {round(county_corr[0][1],3)}')\n",
    "print(f'The correlation between population and wisp count in PA:  {round(state_corr[0][1],3)}')"
   ]
  },
  {
   "cell_type": "code",
   "execution_count": 112,
   "metadata": {},
   "outputs": [
    {
     "name": "stdout",
     "output_type": "stream",
     "text": [
      "High level state density metrics:  \n",
      "count    421545.000000\n",
      "mean          0.224408\n",
      "std           0.569453\n",
      "min           0.000000\n",
      "25%           0.000000\n",
      "50%           0.034483\n",
      "75%           0.125000\n",
      "max          13.000000\n",
      "Name: density, dtype: float64\n"
     ]
    }
   ],
   "source": [
    "# High-level metrics on density (# of wisps/population in a given block)\n",
    "state_density_describe = state_df['density'].describe()\n",
    "print(f'High level state density metrics:  \\n{state_density_describe}')\n"
   ]
  }
 ],
 "metadata": {
  "kernelspec": {
   "display_name": "Python 3",
   "language": "python",
   "name": "python3"
  },
  "language_info": {
   "codemirror_mode": {
    "name": "ipython",
    "version": 3
   },
   "file_extension": ".py",
   "mimetype": "text/x-python",
   "name": "python",
   "nbconvert_exporter": "python",
   "pygments_lexer": "ipython3",
   "version": "3.6.3"
  }
 },
 "nbformat": 4,
 "nbformat_minor": 2
}
