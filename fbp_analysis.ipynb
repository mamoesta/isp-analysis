{
 "cells": [
  {
   "cell_type": "markdown",
   "metadata": {},
   "source": [
    "# Fixed Broadband Provider (FBP) Report\n",
    "\n",
    "## Intro\n",
    "The goal of this report is to get an idea of the FBP landscape in Pennsylvania (specifically Montgomery County), and identify any untapped wireless markets, geographic or otherwise.\n",
    "\n",
    "***\n",
    "###  A Warning from the FCC (IMPORTANT)\n",
    "From the [explanation of FCC Data](https://www.fcc.gov/general/explanation-broadband-deployment-data):  A provider that reports deployment of a particular technology and bandwidth in a particular census block may not necessarily offer that particular service everywhere in the census block. Accordingly, a list of providers deployed in a census block does not necessarily reflect the number of choices available to any particular household or business location in that block, and the number of such providers in the census block does not purport to measure competition.\n",
    "\n",
    "#### My thoughts on this\n",
    "The conclusions we draw here will have to be taken with a grain of salt, and will need to do additional research to verify any insights.\n",
    "\n",
    "***\n",
    "## Initial Exploration\n",
    "\n",
    "Before we do some filtering, lets take a look the raw stats of FBP's in PA."
   ]
  },
  {
   "cell_type": "code",
   "execution_count": 1,
   "metadata": {
    "code_folding": []
   },
   "outputs": [
    {
     "data": {
      "text/html": [
       "<style>.container { width:100% !important; }</style>"
      ],
      "text/plain": [
       "<IPython.core.display.HTML object>"
      ]
     },
     "metadata": {},
     "output_type": "display_data"
    }
   ],
   "source": [
    "# imports and settings\n",
    "%matplotlib inline\n",
    "import matplotlib\n",
    "import matplotlib.pyplot as plt\n",
    "import pandas as pd\n",
    "import numpy as np\n",
    "import os\n",
    "import warnings\n",
    "import datetime as dt\n",
    "from IPython.core.display import display, HTML\n",
    "warnings.filterwarnings('ignore')\n",
    "pd.options.display.max_rows = 200\n",
    "from IPython.display import display, Markdown\n",
    "display(HTML(\"<style>.container { width:100% !important; }</style>\"))"
   ]
  },
  {
   "cell_type": "code",
   "execution_count": 2,
   "metadata": {
    "code_folding": []
   },
   "outputs": [],
   "source": [
    "# Reading in FCC fbp data\n",
    "filepath = \"../data/bb_data.csv\"\n",
    "fbp_df = pd.read_csv(filepath)\n",
    "\n",
    "# Reading in PA population densities\n",
    "filepath = \"../data/us2016.csv\"\n",
    "pop_df = pd.read_csv(filepath)"
   ]
  },
  {
   "cell_type": "code",
   "execution_count": 3,
   "metadata": {
    "code_folding": []
   },
   "outputs": [],
   "source": [
    "# Pennsylvania population density\n",
    "pa_fbp_df = fbp_df[fbp_df['State'] == 'PA']\n",
    "pa_pop_df = pop_df[pop_df['stateabbr'] == 'PA']\n",
    "\n",
    "'''\n",
    "Population information:\n",
    "\n",
    "hu = housing units\n",
    "hh = households\n",
    "pop = population\n",
    "\n",
    "'''\n",
    "cols = ['stateabbr','block_fips','hu2016','hh2016','pop2016']\n",
    "pa_pop_df = pa_pop_df[cols]\n",
    "\n",
    "pa_pop_rows = pa_pop_df.shape[0]\n",
    "pa_pop_cols = pa_pop_df.shape[1]\n",
    "\n",
    "pa_fbp_col_names = pa_fbp_df.columns.values\n",
    "pa_fbp_rows = pa_fbp_df.shape[0]\n",
    "pa_fbp_cols = pa_fbp_df.shape[1]"
   ]
  },
  {
   "cell_type": "code",
   "execution_count": 4,
   "metadata": {},
   "outputs": [],
   "source": [
    "state_list = ['PA','NJ','DE']\n",
    "county_fips = {}\n",
    "county_fips['42091'] = 'montgomery' \n",
    "county_fips['42017'] = 'bucks'\n",
    "county_fips['42077'] = 'lehigh'\n",
    "county_fips['42011'] = 'berks'\n",
    "county_fips['42095'] = 'northampton'\n",
    "county_fips['42071'] = 'lancaster'\n",
    "county_fips['34021'] = 'mercy'\n",
    "county_fips['42101'] = 'philadelphia'\n",
    "county_fips['42075'] = 'lebanon'\n",
    "county_fips['42043'] = 'dauphin'\n",
    "county_fips['42133'] = 'york'\n",
    "county_fips['42133'] = 'northampton'\n",
    "county_fips['42029'] = 'chester'\n",
    "county_fips['10003'] = 'new_castle'\n",
    "county_fips['34015'] = 'gloucester'\n",
    "county_fips['34005'] = 'burlington'\n",
    "county_fips['34019'] = 'hunterdon'\n",
    "county_fips['34029'] = 'ocean'\n",
    "county_fips['34011'] = 'cumberland'\n",
    "county_fips['42001'] = 'adams'\n",
    "county_fips['42055'] = 'franklin'\n",
    "county_fips['34023'] = 'middlesex'\n",
    "county_fips['34035'] = 'somerset' \n",
    "county_fips['34007'] = 'camden'\n",
    "county_fips['10001'] = 'kent'\n",
    "county_fips['34001'] = 'atlantic'\n",
    "county_fips['42025'] = 'carbon'\n",
    "county_fips['42089'] = 'monroe'\n",
    "county_fips['42107'] = 'schuylkill'\n",
    "county_fips['34041'] = 'warren'\n",
    "county_fips['34039'] = 'union'\n",
    "county_fips['42051'] = 'fayette'\n",
    "county_fips['42129'] = 'westmoreland'"
   ]
  },
  {
   "cell_type": "code",
   "execution_count": 5,
   "metadata": {},
   "outputs": [
    {
     "data": {
      "text/markdown": [
       "\n",
       "### The Data\n",
       "#### fbp Data\n",
       "The table of PA fbp's has 2588294 rows and 17 columns.  See a preview of the table below.\n"
      ],
      "text/plain": [
       "<IPython.core.display.Markdown object>"
      ]
     },
     "execution_count": 5,
     "metadata": {},
     "output_type": "execute_result"
    }
   ],
   "source": [
    "# Markdown\n",
    "Markdown(\"\"\"\n",
    "### The Data\n",
    "#### fbp Data\n",
    "The table of PA fbp's has {fbp_rows} rows and {fbp_cols} columns.  See a preview of the table below.\n",
    "\"\"\".format(fbp_rows = pa_fbp_rows, fbp_cols = pa_fbp_cols))"
   ]
  },
  {
   "cell_type": "code",
   "execution_count": 6,
   "metadata": {
    "code_folding": []
   },
   "outputs": [
    {
     "data": {
      "text/html": [
       "<div>\n",
       "<style>\n",
       "    .dataframe thead tr:only-child th {\n",
       "        text-align: right;\n",
       "    }\n",
       "\n",
       "    .dataframe thead th {\n",
       "        text-align: left;\n",
       "    }\n",
       "\n",
       "    .dataframe tbody tr th {\n",
       "        vertical-align: top;\n",
       "    }\n",
       "</style>\n",
       "<table border=\"1\" class=\"dataframe\">\n",
       "  <thead>\n",
       "    <tr style=\"text-align: right;\">\n",
       "      <th></th>\n",
       "      <th>Logical Record Number</th>\n",
       "      <th>Provider ID</th>\n",
       "      <th>FRN</th>\n",
       "      <th>Provider Name</th>\n",
       "      <th>DBA Name</th>\n",
       "      <th>Holding Company Name</th>\n",
       "      <th>Holding Company Number</th>\n",
       "      <th>Holding Company Final</th>\n",
       "      <th>State</th>\n",
       "      <th>Census Block FIPS Code</th>\n",
       "      <th>Technology Code</th>\n",
       "      <th>Consumer</th>\n",
       "      <th>Max Advertised Downstream Speed (mbps)</th>\n",
       "      <th>Max Advertised Upstream Speed (mbps)</th>\n",
       "      <th>Business</th>\n",
       "      <th>Max CIR Downstream Speed (mbps)</th>\n",
       "      <th>Max CIR Upstream Speed (mbps)</th>\n",
       "    </tr>\n",
       "  </thead>\n",
       "  <tbody>\n",
       "    <tr>\n",
       "      <th>0</th>\n",
       "      <td>55693912</td>\n",
       "      <td>28616</td>\n",
       "      <td>4963088</td>\n",
       "      <td>ViaSat, Inc.</td>\n",
       "      <td>ViaSat Inc</td>\n",
       "      <td>ViaSat, Inc.</td>\n",
       "      <td>290111</td>\n",
       "      <td>ViaSat, Inc.</td>\n",
       "      <td>CA</td>\n",
       "      <td>61110091003007</td>\n",
       "      <td>60</td>\n",
       "      <td>1</td>\n",
       "      <td>12.0</td>\n",
       "      <td>3.0</td>\n",
       "      <td>1</td>\n",
       "      <td>0.0</td>\n",
       "      <td>0.0</td>\n",
       "    </tr>\n",
       "    <tr>\n",
       "      <th>1</th>\n",
       "      <td>59530142</td>\n",
       "      <td>28616</td>\n",
       "      <td>4963088</td>\n",
       "      <td>ViaSat, Inc.</td>\n",
       "      <td>ViaSat Inc</td>\n",
       "      <td>ViaSat, Inc.</td>\n",
       "      <td>290111</td>\n",
       "      <td>ViaSat, Inc.</td>\n",
       "      <td>MS</td>\n",
       "      <td>280959506001012</td>\n",
       "      <td>60</td>\n",
       "      <td>1</td>\n",
       "      <td>25.0</td>\n",
       "      <td>3.0</td>\n",
       "      <td>1</td>\n",
       "      <td>0.0</td>\n",
       "      <td>0.0</td>\n",
       "    </tr>\n",
       "    <tr>\n",
       "      <th>2</th>\n",
       "      <td>58480938</td>\n",
       "      <td>28616</td>\n",
       "      <td>4963088</td>\n",
       "      <td>ViaSat, Inc.</td>\n",
       "      <td>ViaSat Inc</td>\n",
       "      <td>ViaSat, Inc.</td>\n",
       "      <td>290111</td>\n",
       "      <td>ViaSat, Inc.</td>\n",
       "      <td>ME</td>\n",
       "      <td>230039523003058</td>\n",
       "      <td>60</td>\n",
       "      <td>1</td>\n",
       "      <td>5.0</td>\n",
       "      <td>1.0</td>\n",
       "      <td>0</td>\n",
       "      <td>0.0</td>\n",
       "      <td>0.0</td>\n",
       "    </tr>\n",
       "    <tr>\n",
       "      <th>3</th>\n",
       "      <td>1263572</td>\n",
       "      <td>25569</td>\n",
       "      <td>12369286</td>\n",
       "      <td>HNS License Sub, LLC</td>\n",
       "      <td>HughesNet</td>\n",
       "      <td>Hughes Network Systems</td>\n",
       "      <td>130627</td>\n",
       "      <td>dishNET Holding, LLC</td>\n",
       "      <td>CA</td>\n",
       "      <td>60290052011706</td>\n",
       "      <td>60</td>\n",
       "      <td>1</td>\n",
       "      <td>15.0</td>\n",
       "      <td>2.0</td>\n",
       "      <td>1</td>\n",
       "      <td>15.0</td>\n",
       "      <td>2.0</td>\n",
       "    </tr>\n",
       "    <tr>\n",
       "      <th>4</th>\n",
       "      <td>34429330</td>\n",
       "      <td>28453</td>\n",
       "      <td>1568880</td>\n",
       "      <td>GCI Communication Corp.</td>\n",
       "      <td>GCI Communication Corp.</td>\n",
       "      <td>General Communication, Inc.</td>\n",
       "      <td>130534</td>\n",
       "      <td>General Communication, Inc.</td>\n",
       "      <td>DE</td>\n",
       "      <td>100030117001025</td>\n",
       "      <td>60</td>\n",
       "      <td>0</td>\n",
       "      <td>0.0</td>\n",
       "      <td>0.0</td>\n",
       "      <td>1</td>\n",
       "      <td>0.0</td>\n",
       "      <td>0.0</td>\n",
       "    </tr>\n",
       "  </tbody>\n",
       "</table>\n",
       "</div>"
      ],
      "text/plain": [
       "   Logical Record Number  Provider ID       FRN            Provider Name  \\\n",
       "0               55693912        28616   4963088             ViaSat, Inc.   \n",
       "1               59530142        28616   4963088             ViaSat, Inc.   \n",
       "2               58480938        28616   4963088             ViaSat, Inc.   \n",
       "3                1263572        25569  12369286     HNS License Sub, LLC   \n",
       "4               34429330        28453   1568880  GCI Communication Corp.   \n",
       "\n",
       "                  DBA Name         Holding Company Name  \\\n",
       "0               ViaSat Inc                 ViaSat, Inc.   \n",
       "1               ViaSat Inc                 ViaSat, Inc.   \n",
       "2               ViaSat Inc                 ViaSat, Inc.   \n",
       "3                HughesNet       Hughes Network Systems   \n",
       "4  GCI Communication Corp.  General Communication, Inc.   \n",
       "\n",
       "   Holding Company Number        Holding Company Final State  \\\n",
       "0                  290111                 ViaSat, Inc.    CA   \n",
       "1                  290111                 ViaSat, Inc.    MS   \n",
       "2                  290111                 ViaSat, Inc.    ME   \n",
       "3                  130627         dishNET Holding, LLC    CA   \n",
       "4                  130534  General Communication, Inc.    DE   \n",
       "\n",
       "   Census Block FIPS Code  Technology Code  Consumer  \\\n",
       "0          61110091003007               60         1   \n",
       "1         280959506001012               60         1   \n",
       "2         230039523003058               60         1   \n",
       "3          60290052011706               60         1   \n",
       "4         100030117001025               60         0   \n",
       "\n",
       "   Max Advertised Downstream Speed (mbps)  \\\n",
       "0                                    12.0   \n",
       "1                                    25.0   \n",
       "2                                     5.0   \n",
       "3                                    15.0   \n",
       "4                                     0.0   \n",
       "\n",
       "   Max Advertised Upstream Speed (mbps)  Business  \\\n",
       "0                                   3.0         1   \n",
       "1                                   3.0         1   \n",
       "2                                   1.0         0   \n",
       "3                                   2.0         1   \n",
       "4                                   0.0         1   \n",
       "\n",
       "   Max CIR Downstream Speed (mbps)  Max CIR Upstream Speed (mbps)  \n",
       "0                              0.0                            0.0  \n",
       "1                              0.0                            0.0  \n",
       "2                              0.0                            0.0  \n",
       "3                             15.0                            2.0  \n",
       "4                              0.0                            0.0  "
      ]
     },
     "execution_count": 6,
     "metadata": {},
     "output_type": "execute_result"
    }
   ],
   "source": [
    "# Table preview\n",
    "fbp_df.head()"
   ]
  },
  {
   "cell_type": "code",
   "execution_count": 7,
   "metadata": {
    "code_folding": []
   },
   "outputs": [
    {
     "data": {
      "text/markdown": [
       "\n",
       "#### Population Data\n",
       "The table of PA Census Block population data has 421545 rows and 5 columns. HU = Housing Units.  HH = Households.  POP = population.  See a preview of the table below.\n"
      ],
      "text/plain": [
       "<IPython.core.display.Markdown object>"
      ]
     },
     "execution_count": 7,
     "metadata": {},
     "output_type": "execute_result"
    }
   ],
   "source": [
    "# Some markdown\n",
    "Markdown(\"\"\"\n",
    "#### Population Data\n",
    "The table of PA Census Block population data has {pop_rows} rows and {pop_cols} columns. HU = Housing Units.  HH = Households.  POP = population.  See a preview of the table below.\n",
    "\"\"\".format(pop_rows = pa_pop_rows, pop_cols = pa_pop_cols))"
   ]
  },
  {
   "cell_type": "code",
   "execution_count": 8,
   "metadata": {
    "code_folding": []
   },
   "outputs": [
    {
     "data": {
      "text/html": [
       "<div>\n",
       "<style>\n",
       "    .dataframe thead tr:only-child th {\n",
       "        text-align: right;\n",
       "    }\n",
       "\n",
       "    .dataframe thead th {\n",
       "        text-align: left;\n",
       "    }\n",
       "\n",
       "    .dataframe tbody tr th {\n",
       "        vertical-align: top;\n",
       "    }\n",
       "</style>\n",
       "<table border=\"1\" class=\"dataframe\">\n",
       "  <thead>\n",
       "    <tr style=\"text-align: right;\">\n",
       "      <th></th>\n",
       "      <th>stateabbr</th>\n",
       "      <th>block_fips</th>\n",
       "      <th>hu2016</th>\n",
       "      <th>hh2016</th>\n",
       "      <th>pop2016</th>\n",
       "    </tr>\n",
       "  </thead>\n",
       "  <tbody>\n",
       "    <tr>\n",
       "      <th>8103116</th>\n",
       "      <td>PA</td>\n",
       "      <td>420010301011000</td>\n",
       "      <td>3</td>\n",
       "      <td>3.0</td>\n",
       "      <td>6</td>\n",
       "    </tr>\n",
       "    <tr>\n",
       "      <th>8103117</th>\n",
       "      <td>PA</td>\n",
       "      <td>420010301011001</td>\n",
       "      <td>9</td>\n",
       "      <td>9.0</td>\n",
       "      <td>31</td>\n",
       "    </tr>\n",
       "    <tr>\n",
       "      <th>8103118</th>\n",
       "      <td>PA</td>\n",
       "      <td>420010301011002</td>\n",
       "      <td>6</td>\n",
       "      <td>6.0</td>\n",
       "      <td>15</td>\n",
       "    </tr>\n",
       "    <tr>\n",
       "      <th>8103119</th>\n",
       "      <td>PA</td>\n",
       "      <td>420010301011003</td>\n",
       "      <td>28</td>\n",
       "      <td>27.0</td>\n",
       "      <td>79</td>\n",
       "    </tr>\n",
       "    <tr>\n",
       "      <th>8103120</th>\n",
       "      <td>PA</td>\n",
       "      <td>420010301011004</td>\n",
       "      <td>10</td>\n",
       "      <td>10.0</td>\n",
       "      <td>27</td>\n",
       "    </tr>\n",
       "  </tbody>\n",
       "</table>\n",
       "</div>"
      ],
      "text/plain": [
       "        stateabbr       block_fips  hu2016  hh2016  pop2016\n",
       "8103116        PA  420010301011000       3     3.0        6\n",
       "8103117        PA  420010301011001       9     9.0       31\n",
       "8103118        PA  420010301011002       6     6.0       15\n",
       "8103119        PA  420010301011003      28    27.0       79\n",
       "8103120        PA  420010301011004      10    10.0       27"
      ]
     },
     "execution_count": 8,
     "metadata": {},
     "output_type": "execute_result"
    }
   ],
   "source": [
    "#Table preview\n",
    "pa_pop_df.head()"
   ]
  },
  {
   "cell_type": "code",
   "execution_count": 9,
   "metadata": {
    "code_folding": []
   },
   "outputs": [
    {
     "name": "stdout",
     "output_type": "stream",
     "text": [
      "Percent of all PA fbps that can offer service to businesses:  0.9747459137176843\n",
      "Percent of all PA fbps that can offer service to consumers:  0.811675566995094\n",
      "Some metrics for PA census block population data:  \n",
      "count    421545.000000\n",
      "mean         30.303339\n",
      "std          62.219867\n",
      "min           0.000000\n",
      "25%           0.000000\n",
      "50%          11.000000\n",
      "75%          36.000000\n",
      "max        4538.000000\n",
      "Name: pop2016, dtype: float64\n"
     ]
    }
   ],
   "source": [
    "# Intial Metrics\n",
    "business_count = (pa_fbp_df[pa_fbp_df['Business']==1].shape[0]/pa_fbp_df.shape[0])\n",
    "consumer_count = (pa_fbp_df[pa_fbp_df['Consumer']==1].shape[0]/pa_fbp_df.shape[0])\n",
    "pa_pop_metrics = (pa_pop_df['pop2016'].describe())\n",
    "\n",
    "print(f'Percent of all PA fbps that can offer service to businesses:  {business_count}')\n",
    "print(f'Percent of all PA fbps that can offer service to consumers:  {consumer_count}')\n",
    "print(f'Some metrics for PA census block population data:  \\n{pa_pop_metrics}')"
   ]
  },
  {
   "cell_type": "markdown",
   "metadata": {},
   "source": [
    "## Some figures\n",
    "\n",
    "Plots of up & downstream speeds for Business and Consumer WISPS."
   ]
  },
  {
   "cell_type": "code",
   "execution_count": 11,
   "metadata": {
    "code_folding": []
   },
   "outputs": [
    {
     "ename": "AttributeError",
     "evalue": "Unknown property bins",
     "output_type": "error",
     "traceback": [
      "\u001b[0;31m---------------------------------------------------------------------------\u001b[0m",
      "\u001b[0;31mAttributeError\u001b[0m                            Traceback (most recent call last)",
      "\u001b[0;32m<ipython-input-11-fee457a2d8dd>\u001b[0m in \u001b[0;36m<module>\u001b[0;34m()\u001b[0m\n\u001b[1;32m      6\u001b[0m \u001b[0mplt\u001b[0m\u001b[0;34m.\u001b[0m\u001b[0mtitle\u001b[0m\u001b[0;34m(\u001b[0m\u001b[0;34m'Business Downstream Speeds (in mbps)'\u001b[0m\u001b[0;34m)\u001b[0m\u001b[0;34m\u001b[0m\u001b[0m\n\u001b[1;32m      7\u001b[0m \u001b[0mplt\u001b[0m\u001b[0;34m.\u001b[0m\u001b[0mylabel\u001b[0m\u001b[0;34m(\u001b[0m\u001b[0;34m'Percent'\u001b[0m\u001b[0;34m)\u001b[0m\u001b[0;34m\u001b[0m\u001b[0m\n\u001b[0;32m----> 8\u001b[0;31m \u001b[0mb_down_val_counts\u001b[0m \u001b[0;34m=\u001b[0m \u001b[0mfbp_df\u001b[0m\u001b[0;34m[\u001b[0m\u001b[0;34m'Max CIR Downstream Speed (mbps)'\u001b[0m\u001b[0;34m]\u001b[0m\u001b[0;34m[\u001b[0m\u001b[0mfbp_df\u001b[0m\u001b[0;34m[\u001b[0m\u001b[0;34m'Business'\u001b[0m\u001b[0;34m]\u001b[0m\u001b[0;34m==\u001b[0m\u001b[0;36m1\u001b[0m\u001b[0;34m]\u001b[0m\u001b[0;34m.\u001b[0m\u001b[0mvalue_counts\u001b[0m\u001b[0;34m(\u001b[0m\u001b[0mnormalize\u001b[0m\u001b[0;34m=\u001b[0m\u001b[0;32mTrue\u001b[0m\u001b[0;34m,\u001b[0m \u001b[0msort\u001b[0m \u001b[0;34m=\u001b[0m \u001b[0;32mTrue\u001b[0m\u001b[0;34m)\u001b[0m\u001b[0;34m.\u001b[0m\u001b[0msort_index\u001b[0m\u001b[0;34m(\u001b[0m\u001b[0;34m)\u001b[0m\u001b[0;34m.\u001b[0m\u001b[0mplot\u001b[0m\u001b[0;34m(\u001b[0m\u001b[0mkind\u001b[0m\u001b[0;34m=\u001b[0m\u001b[0;34m'bar'\u001b[0m\u001b[0;34m,\u001b[0m \u001b[0mbins\u001b[0m \u001b[0;34m=\u001b[0m \u001b[0;36m10\u001b[0m\u001b[0;34m)\u001b[0m\u001b[0;34m\u001b[0m\u001b[0m\n\u001b[0m",
      "\u001b[0;32m~/anaconda3/lib/python3.6/site-packages/pandas/plotting/_core.py\u001b[0m in \u001b[0;36m__call__\u001b[0;34m(self, kind, ax, figsize, use_index, title, grid, legend, style, logx, logy, loglog, xticks, yticks, xlim, ylim, rot, fontsize, colormap, table, yerr, xerr, label, secondary_y, **kwds)\u001b[0m\n\u001b[1;32m   2451\u001b[0m                            \u001b[0mcolormap\u001b[0m\u001b[0;34m=\u001b[0m\u001b[0mcolormap\u001b[0m\u001b[0;34m,\u001b[0m \u001b[0mtable\u001b[0m\u001b[0;34m=\u001b[0m\u001b[0mtable\u001b[0m\u001b[0;34m,\u001b[0m \u001b[0myerr\u001b[0m\u001b[0;34m=\u001b[0m\u001b[0myerr\u001b[0m\u001b[0;34m,\u001b[0m\u001b[0;34m\u001b[0m\u001b[0m\n\u001b[1;32m   2452\u001b[0m                            \u001b[0mxerr\u001b[0m\u001b[0;34m=\u001b[0m\u001b[0mxerr\u001b[0m\u001b[0;34m,\u001b[0m \u001b[0mlabel\u001b[0m\u001b[0;34m=\u001b[0m\u001b[0mlabel\u001b[0m\u001b[0;34m,\u001b[0m \u001b[0msecondary_y\u001b[0m\u001b[0;34m=\u001b[0m\u001b[0msecondary_y\u001b[0m\u001b[0;34m,\u001b[0m\u001b[0;34m\u001b[0m\u001b[0m\n\u001b[0;32m-> 2453\u001b[0;31m                            **kwds)\n\u001b[0m\u001b[1;32m   2454\u001b[0m     \u001b[0m__call__\u001b[0m\u001b[0;34m.\u001b[0m\u001b[0m__doc__\u001b[0m \u001b[0;34m=\u001b[0m \u001b[0mplot_series\u001b[0m\u001b[0;34m.\u001b[0m\u001b[0m__doc__\u001b[0m\u001b[0;34m\u001b[0m\u001b[0m\n\u001b[1;32m   2455\u001b[0m \u001b[0;34m\u001b[0m\u001b[0m\n",
      "\u001b[0;32m~/anaconda3/lib/python3.6/site-packages/pandas/plotting/_core.py\u001b[0m in \u001b[0;36mplot_series\u001b[0;34m(data, kind, ax, figsize, use_index, title, grid, legend, style, logx, logy, loglog, xticks, yticks, xlim, ylim, rot, fontsize, colormap, table, yerr, xerr, label, secondary_y, **kwds)\u001b[0m\n\u001b[1;32m   1892\u001b[0m                  \u001b[0myerr\u001b[0m\u001b[0;34m=\u001b[0m\u001b[0myerr\u001b[0m\u001b[0;34m,\u001b[0m \u001b[0mxerr\u001b[0m\u001b[0;34m=\u001b[0m\u001b[0mxerr\u001b[0m\u001b[0;34m,\u001b[0m\u001b[0;34m\u001b[0m\u001b[0m\n\u001b[1;32m   1893\u001b[0m                  \u001b[0mlabel\u001b[0m\u001b[0;34m=\u001b[0m\u001b[0mlabel\u001b[0m\u001b[0;34m,\u001b[0m \u001b[0msecondary_y\u001b[0m\u001b[0;34m=\u001b[0m\u001b[0msecondary_y\u001b[0m\u001b[0;34m,\u001b[0m\u001b[0;34m\u001b[0m\u001b[0m\n\u001b[0;32m-> 1894\u001b[0;31m                  **kwds)\n\u001b[0m\u001b[1;32m   1895\u001b[0m \u001b[0;34m\u001b[0m\u001b[0m\n\u001b[1;32m   1896\u001b[0m \u001b[0;34m\u001b[0m\u001b[0m\n",
      "\u001b[0;32m~/anaconda3/lib/python3.6/site-packages/pandas/plotting/_core.py\u001b[0m in \u001b[0;36m_plot\u001b[0;34m(data, x, y, subplots, ax, kind, **kwds)\u001b[0m\n\u001b[1;32m   1692\u001b[0m         \u001b[0mplot_obj\u001b[0m \u001b[0;34m=\u001b[0m \u001b[0mklass\u001b[0m\u001b[0;34m(\u001b[0m\u001b[0mdata\u001b[0m\u001b[0;34m,\u001b[0m \u001b[0msubplots\u001b[0m\u001b[0;34m=\u001b[0m\u001b[0msubplots\u001b[0m\u001b[0;34m,\u001b[0m \u001b[0max\u001b[0m\u001b[0;34m=\u001b[0m\u001b[0max\u001b[0m\u001b[0;34m,\u001b[0m \u001b[0mkind\u001b[0m\u001b[0;34m=\u001b[0m\u001b[0mkind\u001b[0m\u001b[0;34m,\u001b[0m \u001b[0;34m**\u001b[0m\u001b[0mkwds\u001b[0m\u001b[0;34m)\u001b[0m\u001b[0;34m\u001b[0m\u001b[0m\n\u001b[1;32m   1693\u001b[0m \u001b[0;34m\u001b[0m\u001b[0m\n\u001b[0;32m-> 1694\u001b[0;31m     \u001b[0mplot_obj\u001b[0m\u001b[0;34m.\u001b[0m\u001b[0mgenerate\u001b[0m\u001b[0;34m(\u001b[0m\u001b[0;34m)\u001b[0m\u001b[0;34m\u001b[0m\u001b[0m\n\u001b[0m\u001b[1;32m   1695\u001b[0m     \u001b[0mplot_obj\u001b[0m\u001b[0;34m.\u001b[0m\u001b[0mdraw\u001b[0m\u001b[0;34m(\u001b[0m\u001b[0;34m)\u001b[0m\u001b[0;34m\u001b[0m\u001b[0m\n\u001b[1;32m   1696\u001b[0m     \u001b[0;32mreturn\u001b[0m \u001b[0mplot_obj\u001b[0m\u001b[0;34m.\u001b[0m\u001b[0mresult\u001b[0m\u001b[0;34m\u001b[0m\u001b[0m\n",
      "\u001b[0;32m~/anaconda3/lib/python3.6/site-packages/pandas/plotting/_core.py\u001b[0m in \u001b[0;36mgenerate\u001b[0;34m(self)\u001b[0m\n\u001b[1;32m    243\u001b[0m         \u001b[0mself\u001b[0m\u001b[0;34m.\u001b[0m\u001b[0m_compute_plot_data\u001b[0m\u001b[0;34m(\u001b[0m\u001b[0;34m)\u001b[0m\u001b[0;34m\u001b[0m\u001b[0m\n\u001b[1;32m    244\u001b[0m         \u001b[0mself\u001b[0m\u001b[0;34m.\u001b[0m\u001b[0m_setup_subplots\u001b[0m\u001b[0;34m(\u001b[0m\u001b[0;34m)\u001b[0m\u001b[0;34m\u001b[0m\u001b[0m\n\u001b[0;32m--> 245\u001b[0;31m         \u001b[0mself\u001b[0m\u001b[0;34m.\u001b[0m\u001b[0m_make_plot\u001b[0m\u001b[0;34m(\u001b[0m\u001b[0;34m)\u001b[0m\u001b[0;34m\u001b[0m\u001b[0m\n\u001b[0m\u001b[1;32m    246\u001b[0m         \u001b[0mself\u001b[0m\u001b[0;34m.\u001b[0m\u001b[0m_add_table\u001b[0m\u001b[0;34m(\u001b[0m\u001b[0;34m)\u001b[0m\u001b[0;34m\u001b[0m\u001b[0m\n\u001b[1;32m    247\u001b[0m         \u001b[0mself\u001b[0m\u001b[0;34m.\u001b[0m\u001b[0m_make_legend\u001b[0m\u001b[0;34m(\u001b[0m\u001b[0;34m)\u001b[0m\u001b[0;34m\u001b[0m\u001b[0m\n",
      "\u001b[0;32m~/anaconda3/lib/python3.6/site-packages/pandas/plotting/_core.py\u001b[0m in \u001b[0;36m_make_plot\u001b[0;34m(self)\u001b[0m\n\u001b[1;32m   1221\u001b[0m                 rect = self._plot(ax, self.ax_pos + (i + 0.5) * w, y, w,\n\u001b[1;32m   1222\u001b[0m                                   \u001b[0mstart\u001b[0m\u001b[0;34m=\u001b[0m\u001b[0mstart\u001b[0m\u001b[0;34m,\u001b[0m \u001b[0mlabel\u001b[0m\u001b[0;34m=\u001b[0m\u001b[0mlabel\u001b[0m\u001b[0;34m,\u001b[0m\u001b[0;34m\u001b[0m\u001b[0m\n\u001b[0;32m-> 1223\u001b[0;31m                                   log=self.log, **kwds)\n\u001b[0m\u001b[1;32m   1224\u001b[0m             \u001b[0mself\u001b[0m\u001b[0;34m.\u001b[0m\u001b[0m_add_legend_handle\u001b[0m\u001b[0;34m(\u001b[0m\u001b[0mrect\u001b[0m\u001b[0;34m,\u001b[0m \u001b[0mlabel\u001b[0m\u001b[0;34m,\u001b[0m \u001b[0mindex\u001b[0m\u001b[0;34m=\u001b[0m\u001b[0mi\u001b[0m\u001b[0;34m)\u001b[0m\u001b[0;34m\u001b[0m\u001b[0m\n\u001b[1;32m   1225\u001b[0m \u001b[0;34m\u001b[0m\u001b[0m\n",
      "\u001b[0;32m~/anaconda3/lib/python3.6/site-packages/pandas/plotting/_core.py\u001b[0m in \u001b[0;36m_plot\u001b[0;34m(cls, ax, x, y, w, start, log, **kwds)\u001b[0m\n\u001b[1;32m   1168\u001b[0m     \u001b[0;34m@\u001b[0m\u001b[0mclassmethod\u001b[0m\u001b[0;34m\u001b[0m\u001b[0m\n\u001b[1;32m   1169\u001b[0m     \u001b[0;32mdef\u001b[0m \u001b[0m_plot\u001b[0m\u001b[0;34m(\u001b[0m\u001b[0mcls\u001b[0m\u001b[0;34m,\u001b[0m \u001b[0max\u001b[0m\u001b[0;34m,\u001b[0m \u001b[0mx\u001b[0m\u001b[0;34m,\u001b[0m \u001b[0my\u001b[0m\u001b[0;34m,\u001b[0m \u001b[0mw\u001b[0m\u001b[0;34m,\u001b[0m \u001b[0mstart\u001b[0m\u001b[0;34m=\u001b[0m\u001b[0;36m0\u001b[0m\u001b[0;34m,\u001b[0m \u001b[0mlog\u001b[0m\u001b[0;34m=\u001b[0m\u001b[0;32mFalse\u001b[0m\u001b[0;34m,\u001b[0m \u001b[0;34m**\u001b[0m\u001b[0mkwds\u001b[0m\u001b[0;34m)\u001b[0m\u001b[0;34m:\u001b[0m\u001b[0;34m\u001b[0m\u001b[0m\n\u001b[0;32m-> 1170\u001b[0;31m         \u001b[0;32mreturn\u001b[0m \u001b[0max\u001b[0m\u001b[0;34m.\u001b[0m\u001b[0mbar\u001b[0m\u001b[0;34m(\u001b[0m\u001b[0mx\u001b[0m\u001b[0;34m,\u001b[0m \u001b[0my\u001b[0m\u001b[0;34m,\u001b[0m \u001b[0mw\u001b[0m\u001b[0;34m,\u001b[0m \u001b[0mbottom\u001b[0m\u001b[0;34m=\u001b[0m\u001b[0mstart\u001b[0m\u001b[0;34m,\u001b[0m \u001b[0mlog\u001b[0m\u001b[0;34m=\u001b[0m\u001b[0mlog\u001b[0m\u001b[0;34m,\u001b[0m \u001b[0;34m**\u001b[0m\u001b[0mkwds\u001b[0m\u001b[0;34m)\u001b[0m\u001b[0;34m\u001b[0m\u001b[0m\n\u001b[0m\u001b[1;32m   1171\u001b[0m \u001b[0;34m\u001b[0m\u001b[0m\n\u001b[1;32m   1172\u001b[0m     \u001b[0;34m@\u001b[0m\u001b[0mproperty\u001b[0m\u001b[0;34m\u001b[0m\u001b[0m\n",
      "\u001b[0;32m~/anaconda3/lib/python3.6/site-packages/matplotlib/__init__.py\u001b[0m in \u001b[0;36minner\u001b[0;34m(ax, *args, **kwargs)\u001b[0m\n\u001b[1;32m   1708\u001b[0m                     warnings.warn(msg % (label_namer, func.__name__),\n\u001b[1;32m   1709\u001b[0m                                   RuntimeWarning, stacklevel=2)\n\u001b[0;32m-> 1710\u001b[0;31m             \u001b[0;32mreturn\u001b[0m \u001b[0mfunc\u001b[0m\u001b[0;34m(\u001b[0m\u001b[0max\u001b[0m\u001b[0;34m,\u001b[0m \u001b[0;34m*\u001b[0m\u001b[0margs\u001b[0m\u001b[0;34m,\u001b[0m \u001b[0;34m**\u001b[0m\u001b[0mkwargs\u001b[0m\u001b[0;34m)\u001b[0m\u001b[0;34m\u001b[0m\u001b[0m\n\u001b[0m\u001b[1;32m   1711\u001b[0m         \u001b[0mpre_doc\u001b[0m \u001b[0;34m=\u001b[0m \u001b[0minner\u001b[0m\u001b[0;34m.\u001b[0m\u001b[0m__doc__\u001b[0m\u001b[0;34m\u001b[0m\u001b[0m\n\u001b[1;32m   1712\u001b[0m         \u001b[0;32mif\u001b[0m \u001b[0mpre_doc\u001b[0m \u001b[0;32mis\u001b[0m \u001b[0;32mNone\u001b[0m\u001b[0;34m:\u001b[0m\u001b[0;34m\u001b[0m\u001b[0m\n",
      "\u001b[0;32m~/anaconda3/lib/python3.6/site-packages/matplotlib/axes/_axes.py\u001b[0m in \u001b[0;36mbar\u001b[0;34m(self, *args, **kwargs)\u001b[0m\n\u001b[1;32m   2148\u001b[0m                 \u001b[0mlabel\u001b[0m\u001b[0;34m=\u001b[0m\u001b[0;34m'_nolegend_'\u001b[0m\u001b[0;34m,\u001b[0m\u001b[0;34m\u001b[0m\u001b[0m\n\u001b[1;32m   2149\u001b[0m                 )\n\u001b[0;32m-> 2150\u001b[0;31m             \u001b[0mr\u001b[0m\u001b[0;34m.\u001b[0m\u001b[0mupdate\u001b[0m\u001b[0;34m(\u001b[0m\u001b[0mkwargs\u001b[0m\u001b[0;34m)\u001b[0m\u001b[0;34m\u001b[0m\u001b[0m\n\u001b[0m\u001b[1;32m   2151\u001b[0m             \u001b[0mr\u001b[0m\u001b[0;34m.\u001b[0m\u001b[0mget_path\u001b[0m\u001b[0;34m(\u001b[0m\u001b[0;34m)\u001b[0m\u001b[0;34m.\u001b[0m\u001b[0m_interpolation_steps\u001b[0m \u001b[0;34m=\u001b[0m \u001b[0;36m100\u001b[0m\u001b[0;34m\u001b[0m\u001b[0m\n\u001b[1;32m   2152\u001b[0m             \u001b[0;32mif\u001b[0m \u001b[0morientation\u001b[0m \u001b[0;34m==\u001b[0m \u001b[0;34m'vertical'\u001b[0m\u001b[0;34m:\u001b[0m\u001b[0;34m\u001b[0m\u001b[0m\n",
      "\u001b[0;32m~/anaconda3/lib/python3.6/site-packages/matplotlib/artist.py\u001b[0m in \u001b[0;36mupdate\u001b[0;34m(self, props)\u001b[0m\n\u001b[1;32m    845\u001b[0m         \u001b[0;32mtry\u001b[0m\u001b[0;34m:\u001b[0m\u001b[0;34m\u001b[0m\u001b[0m\n\u001b[1;32m    846\u001b[0m             ret = [_update_property(self, k, v)\n\u001b[0;32m--> 847\u001b[0;31m                    for k, v in props.items()]\n\u001b[0m\u001b[1;32m    848\u001b[0m         \u001b[0;32mfinally\u001b[0m\u001b[0;34m:\u001b[0m\u001b[0;34m\u001b[0m\u001b[0m\n\u001b[1;32m    849\u001b[0m             \u001b[0mself\u001b[0m\u001b[0;34m.\u001b[0m\u001b[0meventson\u001b[0m \u001b[0;34m=\u001b[0m \u001b[0mstore\u001b[0m\u001b[0;34m\u001b[0m\u001b[0m\n",
      "\u001b[0;32m~/anaconda3/lib/python3.6/site-packages/matplotlib/artist.py\u001b[0m in \u001b[0;36m<listcomp>\u001b[0;34m(.0)\u001b[0m\n\u001b[1;32m    845\u001b[0m         \u001b[0;32mtry\u001b[0m\u001b[0;34m:\u001b[0m\u001b[0;34m\u001b[0m\u001b[0m\n\u001b[1;32m    846\u001b[0m             ret = [_update_property(self, k, v)\n\u001b[0;32m--> 847\u001b[0;31m                    for k, v in props.items()]\n\u001b[0m\u001b[1;32m    848\u001b[0m         \u001b[0;32mfinally\u001b[0m\u001b[0;34m:\u001b[0m\u001b[0;34m\u001b[0m\u001b[0m\n\u001b[1;32m    849\u001b[0m             \u001b[0mself\u001b[0m\u001b[0;34m.\u001b[0m\u001b[0meventson\u001b[0m \u001b[0;34m=\u001b[0m \u001b[0mstore\u001b[0m\u001b[0;34m\u001b[0m\u001b[0m\n",
      "\u001b[0;32m~/anaconda3/lib/python3.6/site-packages/matplotlib/artist.py\u001b[0m in \u001b[0;36m_update_property\u001b[0;34m(self, k, v)\u001b[0m\n\u001b[1;32m    838\u001b[0m                 \u001b[0mfunc\u001b[0m \u001b[0;34m=\u001b[0m \u001b[0mgetattr\u001b[0m\u001b[0;34m(\u001b[0m\u001b[0mself\u001b[0m\u001b[0;34m,\u001b[0m \u001b[0;34m'set_'\u001b[0m \u001b[0;34m+\u001b[0m \u001b[0mk\u001b[0m\u001b[0;34m,\u001b[0m \u001b[0;32mNone\u001b[0m\u001b[0;34m)\u001b[0m\u001b[0;34m\u001b[0m\u001b[0m\n\u001b[1;32m    839\u001b[0m                 \u001b[0;32mif\u001b[0m \u001b[0;32mnot\u001b[0m \u001b[0mcallable\u001b[0m\u001b[0;34m(\u001b[0m\u001b[0mfunc\u001b[0m\u001b[0;34m)\u001b[0m\u001b[0;34m:\u001b[0m\u001b[0;34m\u001b[0m\u001b[0m\n\u001b[0;32m--> 840\u001b[0;31m                     \u001b[0;32mraise\u001b[0m \u001b[0mAttributeError\u001b[0m\u001b[0;34m(\u001b[0m\u001b[0;34m'Unknown property %s'\u001b[0m \u001b[0;34m%\u001b[0m \u001b[0mk\u001b[0m\u001b[0;34m)\u001b[0m\u001b[0;34m\u001b[0m\u001b[0m\n\u001b[0m\u001b[1;32m    841\u001b[0m                 \u001b[0;32mreturn\u001b[0m \u001b[0mfunc\u001b[0m\u001b[0;34m(\u001b[0m\u001b[0mv\u001b[0m\u001b[0;34m)\u001b[0m\u001b[0;34m\u001b[0m\u001b[0m\n\u001b[1;32m    842\u001b[0m \u001b[0;34m\u001b[0m\u001b[0m\n",
      "\u001b[0;31mAttributeError\u001b[0m: Unknown property bins"
     ]
    },
    {
     "data": {
      "image/png": "[encoded data removed]",
      "text/plain": [
       "<matplotlib.figure.Figure at 0x11a5a6128>"
      ]
     },
     "metadata": {},
     "output_type": "display_data"
    }
   ],
   "source": [
    "# Plots\n",
    "fig_length = 26\n",
    "fig_height = 6\n",
    "# Down speeds look like for businesses in PA\n",
    "plt.figure(figsize=(fig_length,fig_height))\n",
    "plt.title('Business Downstream Speeds (in mbps)')\n",
    "plt.ylabel('Percent')\n",
    "b_down_val_counts = fbp_df['Max CIR Downstream Speed (mbps)'][fbp_df['Business']==1].value_counts(normalize=True, sort = True).sort_index().plot(kind='bar')"
   ]
  },
  {
   "cell_type": "code",
   "execution_count": 11,
   "metadata": {
    "code_folding": []
   },
   "outputs": [
    {
     "data": {
      "image/png": "[encoded data removed]",
      "text/plain": [
       "<matplotlib.figure.Figure at 0x3610bd0f0>"
      ]
     },
     "metadata": {},
     "output_type": "display_data"
    }
   ],
   "source": [
    "# Up speeds for businesses in PA\n",
    "plt.figure(figsize=(fig_length,fig_height))\n",
    "plt.title('Business Upstream Speeds (in mbps)')\n",
    "plt.ylabel('Percent')\n",
    "b_up_val_counts = fbp_df['Max CIR Upstream Speed (mbps)'][fbp_df['Business']==1].value_counts(normalize=True, sort = True).sort_index().plot(kind='bar')"
   ]
  },
  {
   "cell_type": "code",
   "execution_count": 12,
   "metadata": {
    "code_folding": []
   },
   "outputs": [
    {
     "data": {
      "image/png": "[encoded data removed]",
      "text/plain": [
       "<matplotlib.figure.Figure at 0x1e9e0a940>"
      ]
     },
     "metadata": {},
     "output_type": "display_data"
    }
   ],
   "source": [
    "# Residential downstream speeds in PA\n",
    "plt.figure(figsize=(fig_length,fig_height))\n",
    "plt.title('Consumer Downstream Speeds (in mbps)')\n",
    "plt.ylabel('Percent')\n",
    "r_down_val_counts = fbp_df['Max Advertised Downstream Speed (mbps)'][fbp_df['Consumer']==1].value_counts(normalize=True, sort = True).sort_index().plot(kind='bar')"
   ]
  },
  {
   "cell_type": "code",
   "execution_count": 13,
   "metadata": {
    "code_folding": []
   },
   "outputs": [
    {
     "data": {
      "image/png": "[encoded data removed]",
      "text/plain": [
       "<matplotlib.figure.Figure at 0x1c0096c50>"
      ]
     },
     "metadata": {},
     "output_type": "display_data"
    }
   ],
   "source": [
    "# Residential upstream speeds in PA\n",
    "plt.figure(figsize=(fig_length,fig_height))\n",
    "plt.title('Consumer Upstream Speeds (in mbps)')\n",
    "plt.ylabel('Percent')\n",
    "r_up_val_counts = fbp_df['Max Advertised Upstream Speed (mbps)'][fbp_df['Consumer']==1].value_counts(normalize=True, sort = True).sort_index().plot(kind='bar')"
   ]
  },
  {
   "cell_type": "markdown",
   "metadata": {},
   "source": [
    "## Filtering the fbpS\n",
    "\n",
    "See the [explanation of FCC Data](https://www.fcc.gov/general/explanation-broadband-deployment-data) here for clarification on columns.\n",
    "\n",
    "The function below filters the available list of fbps to be analyzed. **Attributes will be filtered in Tableau**.  Attributes on which to filter:\n",
    "<br>\n",
    "Max Advertised Upstream Speed (mbps) \n",
    "<br>\n",
    "Max Advertised Downstream Speed (mbps) \n",
    "<br>\n",
    "Max CIR Upstream Speed (mbps)  \n",
    "<br>\n",
    "Max CIR Downstream Speed (mbps)\n",
    "<br>\n",
    "Business (Provider can or does offer business/government service in the block) \n",
    "<br>\n",
    "Consumer (Provider can or does offer consumer/mass market/residential service in the block)  \n",
    "<br>\n",
    "### A Quick Note\n",
    "From the [explanation of FCC Form 477 data](https://www.fcc.gov/general/explanation-broadband-deployment-data): Filer directed to report 0 if the contracted service is sold on a \"best efforts\" basis without a guaranteed data-throughput rate.  \n",
    "<br>\n"
   ]
  },
  {
   "cell_type": "code",
   "execution_count": 47,
   "metadata": {},
   "outputs": [],
   "source": [
    "# Function to filter fbpS\n",
    "def filter_fbps(up,down,raw_df):\n",
    "    start_t = dt.datetime.now()\n",
    "    #state = 'PA'\n",
    "    raw_df = raw_df[(raw_df['Max Advertised Upstream Speed (mbps)'] >= up) | (raw_df['Max CIR Upstream Speed (mbps)'] >= up) ]\n",
    "    raw_df = raw_df[(raw_df['Max Advertised Downstream Speed (mbps)'] >= down) | (raw_df['Max CIR Downstream Speed (mbps)'] >= down)]\n",
    "    #raw_df = raw_df[(raw_df['Business'] == business)]\n",
    "    #raw_df = raw_df[raw_df['State'] == state]\n",
    "    final_t = dt.datetime.now()\n",
    "    #print(f'took {final_t - start_t} to run!')\n",
    "    return raw_df\n",
    "\n",
    "res_county_fbp_df = filter_fbps(3,20,county_fbp_df)\n",
    "bus_county_fbp_df = filter_fbps(5,25,county_fbp_df)\n",
    "bus_county_fbp_df = bus_county_fbp_df[bus_county_fbp_df['Business']==1]"
   ]
  },
  {
   "cell_type": "code",
   "execution_count": 48,
   "metadata": {},
   "outputs": [],
   "source": [
    "# Nearby county subsets (across multiple states)\n",
    "pop_df['block_fips']= pop_df['block_fips'].apply(str)\n",
    "pop_df['selected_county'] = pop_df['block_fips'].map(lambda x: True if x[:5] in list(county_fips.keys()) else False)\n",
    "county_pop_df = pop_df[pop_df['selected_county']==True]\n",
    "county_pop_df = county_pop_df[cols]\n",
    "\n",
    "res_county_fbp_df['Census Block FIPS Code'] = res_county_fbp_df['Census Block FIPS Code'].apply(str)\n",
    "res_county_fbp_df['selected_county'] = res_county_fbp_df['Census Block FIPS Code'].map(lambda x: True if x[:5] in list(county_fips.keys()) else False)\n",
    "res_county_fbp_df = res_county_fbp_df[res_county_fbp_df['selected_county'] == True]\n",
    "\n",
    "bus_county_fbp_df['Census Block FIPS Code'] = bus_county_fbp_df['Census Block FIPS Code'].apply(str)\n",
    "bus_county_fbp_df['selected_county'] = bus_county_fbp_df['Census Block FIPS Code'].map(lambda x: True if x[:5] in list(county_fips.keys()) else False)\n",
    "bus_county_fbp_df = bus_county_fbp_df[bus_county_fbp_df['selected_county'] == True]"
   ]
  },
  {
   "cell_type": "code",
   "execution_count": 49,
   "metadata": {},
   "outputs": [
    {
     "name": "stdout",
     "output_type": "stream",
     "text": [
      "(836950, 18)\n",
      "(522159, 18)\n"
     ]
    }
   ],
   "source": [
    "print(res_county_fbp_df.shape)\n",
    "print(bus_county_fbp_df.shape)"
   ]
  },
  {
   "cell_type": "code",
   "execution_count": 44,
   "metadata": {
    "code_folding": []
   },
   "outputs": [
    {
     "ename": "SyntaxError",
     "evalue": "EOF while scanning triple-quoted string literal (<ipython-input-44-52841714811f>, line 26)",
     "output_type": "error",
     "traceback": [
      "\u001b[0;36m  File \u001b[0;32m\"<ipython-input-44-52841714811f>\"\u001b[0;36m, line \u001b[0;32m26\u001b[0m\n\u001b[0;31m    !!!\u001b[0m\n\u001b[0m       \n^\u001b[0m\n\u001b[0;31mSyntaxError\u001b[0m\u001b[0;31m:\u001b[0m EOF while scanning triple-quoted string literal\n"
     ]
    }
   ],
   "source": [
    "# Montgomery Filter\n",
    "'''\n",
    "Create Montgomery county subsets\n",
    "\n",
    "PA state FIPS code 42\n",
    "Montgomery county FIPS code 091\n",
    "\n",
    "\n",
    "pa_pop_df['block_fips']= pa_pop_df['block_fips'].apply(str)\n",
    "pa_pop_df['mont_county'] = pa_pop_df['block_fips'].map(lambda x: True if x[:5] == '42091' else False)\n",
    "mont_pop_df = pa_pop_df[pa_pop_df['mont_county']==True]\n",
    "\n",
    "pa_fbp_df['Census Block FIPS Code'] = pa_fbp_df['Census Block FIPS Code'].apply(str)\n",
    "pa_fbp_df['mont_county'] = pa_fbp_df['Census Block FIPS Code'].map(lambda x: True if x[:5] == '42091' else False)\n",
    "mont_fbp_df = pa_fbp_df[pa_fbp_df['mont_county'] == True]\n",
    "\n",
    "filtered_fbp_rows = pa_fbp_df.shape[0]\n",
    "filtered_county_rows = mont_fbp_df.shape[0]\n",
    "\n",
    "pa_blocks = pa_pop_df.shape[0]\n",
    "mont_blocks = mont_pop_df.shape[0]\n",
    "\n",
    "\n",
    "#print(f'number of blocks in montgomery county:  {mont_blocks}')\n",
    "#print(f'number of eligble fbps in montgomery county:  {filtered_county_rows}')\n",
    "!!!"
   ]
  },
  {
   "cell_type": "code",
   "execution_count": 50,
   "metadata": {
    "code_folding": []
   },
   "outputs": [],
   "source": [
    "# Using the groubpy function to get metrics for each census block: count, types, mean up/down speeds\n",
    "def get_metrics(raw_df):\n",
    "    \n",
    "    # A count of all the unique fbp's in a given census block,  if block isn't included in dataframe, then there are no fbps in that block\n",
    "    fbp_count_df = pd.DataFrame({'fbp_count':raw_df.groupby(['Census Block FIPS Code']).size()}).reset_index()\n",
    "    fbp_count_df.set_index('Census Block FIPS Code', inplace=True)\n",
    "\n",
    "    # Number of fbps allowed to serve consumers in the given block\n",
    "    consumer_df = pd.DataFrame({'consumer_num':raw_df.groupby(['Census Block FIPS Code','Consumer']).size()}).reset_index()\n",
    "    consumer_df = consumer_df[consumer_df['Consumer']==1]\n",
    "    consumer_df.set_index('Census Block FIPS Code', inplace=True)\n",
    "\n",
    "    # Number of fbps allowed to serve businesses in the given block\n",
    "    business_df = pd.DataFrame({'business_num':raw_df.groupby(['Census Block FIPS Code', 'Business']).size()}).reset_index()\n",
    "    business_df = business_df[business_df['Business']==1]\n",
    "    business_df.set_index('Census Block FIPS Code', inplace = True)\n",
    "\n",
    "    # Average up/downstream speeds in each census block\n",
    "    adv_max_down_df = pd.DataFrame({'adv_max_down':raw_df.groupby(['Census Block FIPS Code'])['Max Advertised Downstream Speed (mbps)'].max()}).reset_index()\n",
    "    adv_max_down_df.set_index('Census Block FIPS Code', inplace = True)\n",
    "    \n",
    "    adv_max_up_df = pd.DataFrame({'adv_max_up':raw_df.groupby(['Census Block FIPS Code'])['Max Advertised Upstream Speed (mbps)'].max()}).reset_index()\n",
    "    adv_max_up_df.set_index('Census Block FIPS Code', inplace = True)\n",
    "    \n",
    "    cir_max_up_df = pd.DataFrame({'cir_max_up':raw_df.groupby(['Census Block FIPS Code'])['Max CIR Upstream Speed (mbps)'].max()}).reset_index()\n",
    "    cir_max_up_df.set_index('Census Block FIPS Code', inplace = True)\n",
    "    \n",
    "    cir_max_down_df = pd.DataFrame({'cir_max_down':raw_df.groupby(['Census Block FIPS Code'])['Max CIR Downstream Speed (mbps)'].max()}).reset_index()\n",
    "    cir_max_down_df.set_index('Census Block FIPS Code', inplace = True)\n",
    "    \n",
    "    #TODO: Merge the 7 df's\n",
    "    df_list = [fbp_count_df,consumer_df,business_df,adv_max_down_df,adv_max_up_df,cir_max_up_df,cir_max_down_df]\n",
    "    #print('Merging dataframes...')\n",
    "    for i in df_list:\n",
    "        if fbp_count_df.equals(i):\n",
    "            final_df = fbp_count_df\n",
    "        else:\n",
    "            final_df = pd.merge(final_df,i,how='outer',left_index=True, right_index=True)\n",
    "    #print('Done merging dataframes!')\n",
    "    final_df.drop(['Consumer', 'Business'], axis = 1, inplace = True)\n",
    "    return final_df \n",
    "\n",
    "\n",
    "# Get metrics for montgomery county\n",
    "res_county_metrics_df = get_metrics(res_county_fbp_df)\n",
    "bus_county_metrics_df = get_metrics(bus_county_fbp_df)\n",
    "\n",
    "# Get metrics for all of PA\n",
    "state_metrics_df = get_metrics(pa_fbp_df)"
   ]
  },
  {
   "cell_type": "code",
   "execution_count": 51,
   "metadata": {},
   "outputs": [
    {
     "data": {
      "text/plain": [
       "count    232148.000000\n",
       "mean          2.249250\n",
       "std           1.085134\n",
       "min           1.000000\n",
       "25%           1.000000\n",
       "50%           2.000000\n",
       "75%           3.000000\n",
       "max          16.000000\n",
       "Name: fbp_count, dtype: float64"
      ]
     },
     "execution_count": 51,
     "metadata": {},
     "output_type": "execute_result"
    }
   ],
   "source": [
    "bus_county_metrics_df['fbp_count'].describe()"
   ]
  },
  {
   "cell_type": "code",
   "execution_count": 52,
   "metadata": {
    "code_folding": []
   },
   "outputs": [],
   "source": [
    "# Merging population data and fbp metrics\n",
    "def merge_pop_fbp(pop_df,fbp_df):\n",
    "    if (pop_df.index.name != 'block_fips'):\n",
    "        pop_df.set_index('block_fips',inplace = True)\n",
    "    final_df = pd.merge(pop_df, fbp_df,how = 'left', left_index = True, right_index = True)\n",
    "    final_df.fillna(value = 0, inplace = True)\n",
    "    final_df['density'] = final_df['fbp_count']/ (final_df['pop2016'] + 1)\n",
    "    final_df.reset_index(inplace = True)\n",
    "    final_df['best_available_up'] = final_df[['cir_max_up','adv_max_up']].max(axis = 1)\n",
    "    final_df['best_available_down'] = final_df[['cir_max_down','adv_max_down']].max(axis = 1)\n",
    "    return final_df \n",
    "\n",
    "# Merging metrics with population data\n",
    "res_county_merged_df = merge_pop_fbp(county_pop_df, res_county_metrics_df)\n",
    "bus_county_merged_df = merge_pop_fbp(county_pop_df,bus_county_metrics_df)\n",
    "state_merged_df = merge_pop_fbp(pa_pop_df, state_metrics_df)"
   ]
  },
  {
   "cell_type": "code",
   "execution_count": 53,
   "metadata": {},
   "outputs": [
    {
     "data": {
      "text/html": [
       "<div>\n",
       "<style>\n",
       "    .dataframe thead tr:only-child th {\n",
       "        text-align: right;\n",
       "    }\n",
       "\n",
       "    .dataframe thead th {\n",
       "        text-align: left;\n",
       "    }\n",
       "\n",
       "    .dataframe tbody tr th {\n",
       "        vertical-align: top;\n",
       "    }\n",
       "</style>\n",
       "<table border=\"1\" class=\"dataframe\">\n",
       "  <thead>\n",
       "    <tr style=\"text-align: right;\">\n",
       "      <th></th>\n",
       "      <th>block_fips</th>\n",
       "      <th>stateabbr</th>\n",
       "      <th>hu2016</th>\n",
       "      <th>hh2016</th>\n",
       "      <th>pop2016</th>\n",
       "      <th>fbp_count</th>\n",
       "      <th>consumer_num</th>\n",
       "      <th>business_num</th>\n",
       "      <th>adv_max_down</th>\n",
       "      <th>adv_max_up</th>\n",
       "      <th>cir_max_up</th>\n",
       "      <th>cir_max_down</th>\n",
       "      <th>density</th>\n",
       "      <th>best_available_up</th>\n",
       "      <th>best_available_down</th>\n",
       "    </tr>\n",
       "  </thead>\n",
       "  <tbody>\n",
       "    <tr>\n",
       "      <th>0</th>\n",
       "      <td>100010401001000</td>\n",
       "      <td>DE</td>\n",
       "      <td>28</td>\n",
       "      <td>28.0000</td>\n",
       "      <td>87</td>\n",
       "      <td>1.0</td>\n",
       "      <td>1.0</td>\n",
       "      <td>1.0</td>\n",
       "      <td>200.0</td>\n",
       "      <td>10.0</td>\n",
       "      <td>0.0</td>\n",
       "      <td>0.0</td>\n",
       "      <td>0.011364</td>\n",
       "      <td>10.0</td>\n",
       "      <td>200.0</td>\n",
       "    </tr>\n",
       "    <tr>\n",
       "      <th>1</th>\n",
       "      <td>100010401001001</td>\n",
       "      <td>DE</td>\n",
       "      <td>109</td>\n",
       "      <td>104.8476</td>\n",
       "      <td>304</td>\n",
       "      <td>2.0</td>\n",
       "      <td>2.0</td>\n",
       "      <td>2.0</td>\n",
       "      <td>200.0</td>\n",
       "      <td>10.0</td>\n",
       "      <td>0.0</td>\n",
       "      <td>0.0</td>\n",
       "      <td>0.006557</td>\n",
       "      <td>10.0</td>\n",
       "      <td>200.0</td>\n",
       "    </tr>\n",
       "    <tr>\n",
       "      <th>2</th>\n",
       "      <td>100010401001002</td>\n",
       "      <td>DE</td>\n",
       "      <td>8</td>\n",
       "      <td>8.0000</td>\n",
       "      <td>23</td>\n",
       "      <td>1.0</td>\n",
       "      <td>1.0</td>\n",
       "      <td>1.0</td>\n",
       "      <td>120.0</td>\n",
       "      <td>10.0</td>\n",
       "      <td>0.0</td>\n",
       "      <td>0.0</td>\n",
       "      <td>0.041667</td>\n",
       "      <td>10.0</td>\n",
       "      <td>120.0</td>\n",
       "    </tr>\n",
       "    <tr>\n",
       "      <th>3</th>\n",
       "      <td>100010401001003</td>\n",
       "      <td>DE</td>\n",
       "      <td>34</td>\n",
       "      <td>32.9376</td>\n",
       "      <td>92</td>\n",
       "      <td>1.0</td>\n",
       "      <td>1.0</td>\n",
       "      <td>1.0</td>\n",
       "      <td>120.0</td>\n",
       "      <td>10.0</td>\n",
       "      <td>0.0</td>\n",
       "      <td>0.0</td>\n",
       "      <td>0.010753</td>\n",
       "      <td>10.0</td>\n",
       "      <td>120.0</td>\n",
       "    </tr>\n",
       "    <tr>\n",
       "      <th>4</th>\n",
       "      <td>100010401001004</td>\n",
       "      <td>DE</td>\n",
       "      <td>22</td>\n",
       "      <td>20.9524</td>\n",
       "      <td>54</td>\n",
       "      <td>1.0</td>\n",
       "      <td>1.0</td>\n",
       "      <td>1.0</td>\n",
       "      <td>120.0</td>\n",
       "      <td>10.0</td>\n",
       "      <td>0.0</td>\n",
       "      <td>0.0</td>\n",
       "      <td>0.018182</td>\n",
       "      <td>10.0</td>\n",
       "      <td>120.0</td>\n",
       "    </tr>\n",
       "  </tbody>\n",
       "</table>\n",
       "</div>"
      ],
      "text/plain": [
       "        block_fips stateabbr  hu2016    hh2016  pop2016  fbp_count  \\\n",
       "0  100010401001000        DE      28   28.0000       87        1.0   \n",
       "1  100010401001001        DE     109  104.8476      304        2.0   \n",
       "2  100010401001002        DE       8    8.0000       23        1.0   \n",
       "3  100010401001003        DE      34   32.9376       92        1.0   \n",
       "4  100010401001004        DE      22   20.9524       54        1.0   \n",
       "\n",
       "   consumer_num  business_num  adv_max_down  adv_max_up  cir_max_up  \\\n",
       "0           1.0           1.0         200.0        10.0         0.0   \n",
       "1           2.0           2.0         200.0        10.0         0.0   \n",
       "2           1.0           1.0         120.0        10.0         0.0   \n",
       "3           1.0           1.0         120.0        10.0         0.0   \n",
       "4           1.0           1.0         120.0        10.0         0.0   \n",
       "\n",
       "   cir_max_down   density  best_available_up  best_available_down  \n",
       "0           0.0  0.011364               10.0                200.0  \n",
       "1           0.0  0.006557               10.0                200.0  \n",
       "2           0.0  0.041667               10.0                120.0  \n",
       "3           0.0  0.010753               10.0                120.0  \n",
       "4           0.0  0.018182               10.0                120.0  "
      ]
     },
     "execution_count": 53,
     "metadata": {},
     "output_type": "execute_result"
    }
   ],
   "source": [
    "bus_county_merged_df.head()"
   ]
  },
  {
   "cell_type": "code",
   "execution_count": 54,
   "metadata": {
    "code_folding": []
   },
   "outputs": [],
   "source": [
    "## wrtie PA files to csv's\n",
    "pa_fbp_df.to_csv('../data/pa_bb.txt')\n",
    "pa_pop_df.to_csv('../data/pa_pop.txt')\n",
    "\n",
    "# Write selected county and state metrics data to csv\n",
    "bus_county_merged_df.reset_index(inplace=True)\n",
    "res_county_merged_df.reset_index(inplace=True)\n",
    "state_merged_df.reset_index(inplace=True)\n",
    "res_county_merged_df.to_csv('../data/residential_county_fbp_metrics.txt')\n",
    "bus_county_merged_df.to_csv('../data/business_county_fbp_metrics.txt')\n",
    "state_merged_df.to_csv('../data/pa_fbp_metrics.txt')"
   ]
  },
  {
   "cell_type": "code",
   "execution_count": 97,
   "metadata": {},
   "outputs": [
    {
     "data": {
      "text/html": [
       "<div>\n",
       "<style>\n",
       "    .dataframe thead tr:only-child th {\n",
       "        text-align: right;\n",
       "    }\n",
       "\n",
       "    .dataframe thead th {\n",
       "        text-align: left;\n",
       "    }\n",
       "\n",
       "    .dataframe tbody tr th {\n",
       "        vertical-align: top;\n",
       "    }\n",
       "</style>\n",
       "<table border=\"1\" class=\"dataframe\">\n",
       "  <thead>\n",
       "    <tr style=\"text-align: right;\">\n",
       "      <th></th>\n",
       "      <th>block_fips</th>\n",
       "      <th>stateabbr</th>\n",
       "      <th>hu2016</th>\n",
       "      <th>hh2016</th>\n",
       "      <th>pop2016</th>\n",
       "      <th>fbp_count</th>\n",
       "      <th>consumer_num</th>\n",
       "      <th>business_num</th>\n",
       "      <th>adv_max_down</th>\n",
       "      <th>adv_max_up</th>\n",
       "      <th>cir_max_up</th>\n",
       "      <th>cir_max_down</th>\n",
       "      <th>density</th>\n",
       "      <th>best_available_up</th>\n",
       "      <th>best_available_down</th>\n",
       "      <th>block_string</th>\n",
       "    </tr>\n",
       "  </thead>\n",
       "  <tbody>\n",
       "    <tr>\n",
       "      <th>0</th>\n",
       "      <td>60590011011000</td>\n",
       "      <td>CA</td>\n",
       "      <td>0</td>\n",
       "      <td>0.000</td>\n",
       "      <td>2</td>\n",
       "      <td>8</td>\n",
       "      <td>6</td>\n",
       "      <td>8</td>\n",
       "      <td>300.0</td>\n",
       "      <td>20.0</td>\n",
       "      <td>100.0</td>\n",
       "      <td>100.0</td>\n",
       "      <td>2.666667</td>\n",
       "      <td>100.0</td>\n",
       "      <td>300.0</td>\n",
       "      <td>060590011011000</td>\n",
       "    </tr>\n",
       "    <tr>\n",
       "      <th>1</th>\n",
       "      <td>60590011011001</td>\n",
       "      <td>CA</td>\n",
       "      <td>0</td>\n",
       "      <td>0.000</td>\n",
       "      <td>1</td>\n",
       "      <td>8</td>\n",
       "      <td>6</td>\n",
       "      <td>8</td>\n",
       "      <td>300.0</td>\n",
       "      <td>20.0</td>\n",
       "      <td>100.0</td>\n",
       "      <td>100.0</td>\n",
       "      <td>4.000000</td>\n",
       "      <td>100.0</td>\n",
       "      <td>300.0</td>\n",
       "      <td>060590011011001</td>\n",
       "    </tr>\n",
       "    <tr>\n",
       "      <th>2</th>\n",
       "      <td>60590011011002</td>\n",
       "      <td>CA</td>\n",
       "      <td>2</td>\n",
       "      <td>1.893</td>\n",
       "      <td>0</td>\n",
       "      <td>8</td>\n",
       "      <td>6</td>\n",
       "      <td>8</td>\n",
       "      <td>300.0</td>\n",
       "      <td>20.0</td>\n",
       "      <td>100.0</td>\n",
       "      <td>100.0</td>\n",
       "      <td>8.000000</td>\n",
       "      <td>100.0</td>\n",
       "      <td>300.0</td>\n",
       "      <td>060590011011002</td>\n",
       "    </tr>\n",
       "    <tr>\n",
       "      <th>3</th>\n",
       "      <td>60590011011003</td>\n",
       "      <td>CA</td>\n",
       "      <td>0</td>\n",
       "      <td>0.000</td>\n",
       "      <td>0</td>\n",
       "      <td>8</td>\n",
       "      <td>6</td>\n",
       "      <td>8</td>\n",
       "      <td>300.0</td>\n",
       "      <td>20.0</td>\n",
       "      <td>100.0</td>\n",
       "      <td>100.0</td>\n",
       "      <td>8.000000</td>\n",
       "      <td>100.0</td>\n",
       "      <td>300.0</td>\n",
       "      <td>060590011011003</td>\n",
       "    </tr>\n",
       "    <tr>\n",
       "      <th>4</th>\n",
       "      <td>60590011011004</td>\n",
       "      <td>CA</td>\n",
       "      <td>6</td>\n",
       "      <td>6.000</td>\n",
       "      <td>17</td>\n",
       "      <td>8</td>\n",
       "      <td>6</td>\n",
       "      <td>8</td>\n",
       "      <td>300.0</td>\n",
       "      <td>20.0</td>\n",
       "      <td>100.0</td>\n",
       "      <td>100.0</td>\n",
       "      <td>0.444444</td>\n",
       "      <td>100.0</td>\n",
       "      <td>300.0</td>\n",
       "      <td>060590011011004</td>\n",
       "    </tr>\n",
       "  </tbody>\n",
       "</table>\n",
       "</div>"
      ],
      "text/plain": [
       "       block_fips stateabbr  hu2016  hh2016  pop2016  fbp_count  consumer_num  \\\n",
       "0  60590011011000        CA       0   0.000        2          8             6   \n",
       "1  60590011011001        CA       0   0.000        1          8             6   \n",
       "2  60590011011002        CA       2   1.893        0          8             6   \n",
       "3  60590011011003        CA       0   0.000        0          8             6   \n",
       "4  60590011011004        CA       6   6.000       17          8             6   \n",
       "\n",
       "   business_num  adv_max_down  adv_max_up  cir_max_up  cir_max_down   density  \\\n",
       "0             8         300.0        20.0       100.0         100.0  2.666667   \n",
       "1             8         300.0        20.0       100.0         100.0  4.000000   \n",
       "2             8         300.0        20.0       100.0         100.0  8.000000   \n",
       "3             8         300.0        20.0       100.0         100.0  8.000000   \n",
       "4             8         300.0        20.0       100.0         100.0  0.444444   \n",
       "\n",
       "   best_available_up  best_available_down     block_string  \n",
       "0              100.0                300.0  060590011011000  \n",
       "1              100.0                300.0  060590011011001  \n",
       "2              100.0                300.0  060590011011002  \n",
       "3              100.0                300.0  060590011011003  \n",
       "4              100.0                300.0  060590011011004  "
      ]
     },
     "execution_count": 97,
     "metadata": {},
     "output_type": "execute_result"
    }
   ],
   "source": [
    "# Getting CA success subset and metrics\n",
    "pop_df['block_fips'] = pop_df['block_fips'].apply(str)\n",
    "pop_df['is_success'] = pop_df['block_fips'].map(lambda x: True if x[:4] == '6059' else False)\n",
    "success_pop_df = pop_df[pop_df['is_success'] == True]\n",
    "success_pop_df = success_pop_df[cols]\n",
    "\n",
    "\n",
    "ca_fbp_df = fbp_df[fbp_df['State'] == 'CA']\n",
    "ca_fbp_df['Census Block FIPS Code'] = ca_fbp_df['Census Block FIPS Code'].apply(str)\n",
    "ca_fbp_df['is_success'] = ca_fbp_df['Census Block FIPS Code'].map(lambda x: True if x[:4] == '6059' else False)\n",
    "success_fbp_df = ca_fbp_df[ca_fbp_df['is_success'] == True]\n",
    "\n",
    "success_metrics_df = get_metrics(success_fbp_df)\n",
    "success_merged_df = merge_pop_fbp(success_pop_df, success_metrics_df)\n",
    "\n",
    "success_merged_df['block_string'] = success_merged_df['block_fips'].map(lambda x: '0' + str(x))\n",
    "\n",
    "success_merged_df.to_csv(\"../data/success_counties.txt\")\n",
    "\n",
    "success_merged_df.head()"
   ]
  },
  {
   "cell_type": "code",
   "execution_count": 77,
   "metadata": {},
   "outputs": [],
   "source": [
    "temp = ca_fbp_df['Census Block FIPS Code'].map(lambda x: x[:4])"
   ]
  },
  {
   "cell_type": "code",
   "execution_count": 81,
   "metadata": {},
   "outputs": [
    {
     "data": {
      "text/plain": [
       "numpy.int64"
      ]
     },
     "execution_count": 81,
     "metadata": {},
     "output_type": "execute_result"
    }
   ],
   "source": [
    "temp2 = pop_df[pop_df['stateabbr']=='CA']['block_fips'].map(lambda x: x[:4])\n",
    "type(temp2.value_counts().values[0])"
   ]
  },
  {
   "cell_type": "markdown",
   "metadata": {},
   "source": [
    "## Some Basic Measures\n",
    "\n",
    "What are the important measures we want to see?\n",
    "***\n",
    "fbp breakdown by census block\n",
    "<br>\n",
    "Density map (fbp/population) in a given block\n",
    "<br>\n",
    "Heat-map of number of fbps operating in given census block (filter by type, up/down speed)\n",
    "<br>\n",
    "Correlation between fbp/population"
   ]
  },
  {
   "cell_type": "code",
   "execution_count": 20,
   "metadata": {
    "code_folding": []
   },
   "outputs": [
    {
     "name": "stdout",
     "output_type": "stream",
     "text": [
      "Number of eligble fbps operating in each block in PA: \n",
      "0.0     0.319297\n",
      "1.0     0.281114\n",
      "2.0     0.222961\n",
      "3.0     0.118768\n",
      "4.0     0.044377\n",
      "5.0     0.011842\n",
      "6.0     0.001229\n",
      "7.0     0.000244\n",
      "8.0     0.000081\n",
      "9.0     0.000045\n",
      "10.0    0.000021\n",
      "12.0    0.000009\n",
      "13.0    0.000005\n",
      "16.0    0.000002\n",
      "11.0    0.000002\n",
      "14.0    0.000002\n",
      "Name: fbp_count, dtype: float64\n"
     ]
    }
   ],
   "source": [
    "# Eligble fbp's in an area\n",
    "pa_value_counts = state_df['fbp_count'].value_counts(normalize = True)\n",
    "print(f'Number of eligble fbps operating in each block in PA: \\n{pa_value_counts}')"
   ]
  },
  {
   "cell_type": "code",
   "execution_count": 22,
   "metadata": {
    "code_folding": []
   },
   "outputs": [
    {
     "name": "stdout",
     "output_type": "stream",
     "text": [
      "The correlation between population and fbp count in Montgomery County:  0.292\n",
      "The correlation between population and fbp count in PA:  0.286\n"
     ]
    }
   ],
   "source": [
    "## Correlation between 2016 population and number of fbp's in a given census block\n",
    "state_corr = np.corrcoef(state_df['pop2016'],state_df['fbp_count'].values)\n",
    "county_corr = np.corrcoef(county_df['pop2016'],county_df['fbp_count'].values)\n",
    "print(f'The correlation between population and fbp count in Montgomery County:  {round(county_corr[0][1],3)}')\n",
    "print(f'The correlation between population and fbp count in PA:  {round(state_corr[0][1],3)}')"
   ]
  },
  {
   "cell_type": "code",
   "execution_count": 23,
   "metadata": {
    "code_folding": []
   },
   "outputs": [
    {
     "name": "stdout",
     "output_type": "stream",
     "text": [
      "High level county density metrics: \n",
      "count    13769.000000\n",
      "mean         0.167519\n",
      "std          0.415670\n",
      "min          0.000000\n",
      "25%          0.019802\n",
      "50%          0.041667\n",
      "75%          0.095238\n",
      "max          7.000000\n",
      "Name: density, dtype: float64\n",
      "High level state density metrics:  \n",
      "count    421545.000000\n",
      "mean          0.224408\n",
      "std           0.569453\n",
      "min           0.000000\n",
      "25%           0.000000\n",
      "50%           0.034483\n",
      "75%           0.125000\n",
      "max          13.000000\n",
      "Name: density, dtype: float64\n"
     ]
    }
   ],
   "source": [
    "# High-level metrics on density (# of fbps/population in a given block)\n",
    "state_density_describe = state_df['density'].describe()\n",
    "county_density_describe = county_df['density'].describe()\n",
    "\n",
    "print(f'High level county density metrics: \\n{county_density_describe}')\n",
    "print(f'High level state density metrics:  \\n{state_density_describe}')"
   ]
  },
  {
   "cell_type": "code",
   "execution_count": 23,
   "metadata": {},
   "outputs": [
    {
     "data": {
      "text/html": [
       "<div>\n",
       "<style>\n",
       "    .dataframe thead tr:only-child th {\n",
       "        text-align: right;\n",
       "    }\n",
       "\n",
       "    .dataframe thead th {\n",
       "        text-align: left;\n",
       "    }\n",
       "\n",
       "    .dataframe tbody tr th {\n",
       "        vertical-align: top;\n",
       "    }\n",
       "</style>\n",
       "<table border=\"1\" class=\"dataframe\">\n",
       "  <thead>\n",
       "    <tr style=\"text-align: right;\">\n",
       "      <th></th>\n",
       "      <th>block_fips</th>\n",
       "      <th>stateabbr</th>\n",
       "      <th>hu2016</th>\n",
       "      <th>hh2016</th>\n",
       "      <th>pop2016</th>\n",
       "      <th>fbp_count</th>\n",
       "      <th>consumer_num</th>\n",
       "      <th>business_num</th>\n",
       "      <th>adv_max_down</th>\n",
       "      <th>adv_max_up</th>\n",
       "      <th>cir_max_up</th>\n",
       "      <th>cir_max_down</th>\n",
       "      <th>density</th>\n",
       "      <th>best_available_up</th>\n",
       "      <th>best_available_down</th>\n",
       "    </tr>\n",
       "  </thead>\n",
       "  <tbody>\n",
       "    <tr>\n",
       "      <th>0</th>\n",
       "      <td>100010401001000</td>\n",
       "      <td>DE</td>\n",
       "      <td>28</td>\n",
       "      <td>28.0000</td>\n",
       "      <td>87</td>\n",
       "      <td>2.0</td>\n",
       "      <td>2.0</td>\n",
       "      <td>2.0</td>\n",
       "      <td>200.0</td>\n",
       "      <td>10.0</td>\n",
       "      <td>0.0</td>\n",
       "      <td>0.0</td>\n",
       "      <td>0.022727</td>\n",
       "      <td>10.0</td>\n",
       "      <td>200.0</td>\n",
       "    </tr>\n",
       "    <tr>\n",
       "      <th>1</th>\n",
       "      <td>100010401001001</td>\n",
       "      <td>DE</td>\n",
       "      <td>109</td>\n",
       "      <td>104.8476</td>\n",
       "      <td>304</td>\n",
       "      <td>4.0</td>\n",
       "      <td>4.0</td>\n",
       "      <td>3.0</td>\n",
       "      <td>200.0</td>\n",
       "      <td>150.0</td>\n",
       "      <td>0.0</td>\n",
       "      <td>0.0</td>\n",
       "      <td>0.013115</td>\n",
       "      <td>150.0</td>\n",
       "      <td>200.0</td>\n",
       "    </tr>\n",
       "    <tr>\n",
       "      <th>2</th>\n",
       "      <td>100010401001002</td>\n",
       "      <td>DE</td>\n",
       "      <td>8</td>\n",
       "      <td>8.0000</td>\n",
       "      <td>23</td>\n",
       "      <td>2.0</td>\n",
       "      <td>2.0</td>\n",
       "      <td>2.0</td>\n",
       "      <td>120.0</td>\n",
       "      <td>10.0</td>\n",
       "      <td>0.0</td>\n",
       "      <td>0.0</td>\n",
       "      <td>0.083333</td>\n",
       "      <td>10.0</td>\n",
       "      <td>120.0</td>\n",
       "    </tr>\n",
       "    <tr>\n",
       "      <th>3</th>\n",
       "      <td>100010401001003</td>\n",
       "      <td>DE</td>\n",
       "      <td>34</td>\n",
       "      <td>32.9376</td>\n",
       "      <td>92</td>\n",
       "      <td>2.0</td>\n",
       "      <td>2.0</td>\n",
       "      <td>2.0</td>\n",
       "      <td>120.0</td>\n",
       "      <td>10.0</td>\n",
       "      <td>0.0</td>\n",
       "      <td>0.0</td>\n",
       "      <td>0.021505</td>\n",
       "      <td>10.0</td>\n",
       "      <td>120.0</td>\n",
       "    </tr>\n",
       "    <tr>\n",
       "      <th>4</th>\n",
       "      <td>100010401001004</td>\n",
       "      <td>DE</td>\n",
       "      <td>22</td>\n",
       "      <td>20.9524</td>\n",
       "      <td>54</td>\n",
       "      <td>2.0</td>\n",
       "      <td>2.0</td>\n",
       "      <td>2.0</td>\n",
       "      <td>120.0</td>\n",
       "      <td>10.0</td>\n",
       "      <td>0.0</td>\n",
       "      <td>0.0</td>\n",
       "      <td>0.036364</td>\n",
       "      <td>10.0</td>\n",
       "      <td>120.0</td>\n",
       "    </tr>\n",
       "  </tbody>\n",
       "</table>\n",
       "</div>"
      ],
      "text/plain": [
       "        block_fips stateabbr  hu2016    hh2016  pop2016  fbp_count  \\\n",
       "0  100010401001000        DE      28   28.0000       87        2.0   \n",
       "1  100010401001001        DE     109  104.8476      304        4.0   \n",
       "2  100010401001002        DE       8    8.0000       23        2.0   \n",
       "3  100010401001003        DE      34   32.9376       92        2.0   \n",
       "4  100010401001004        DE      22   20.9524       54        2.0   \n",
       "\n",
       "   consumer_num  business_num  adv_max_down  adv_max_up  cir_max_up  \\\n",
       "0           2.0           2.0         200.0        10.0         0.0   \n",
       "1           4.0           3.0         200.0       150.0         0.0   \n",
       "2           2.0           2.0         120.0        10.0         0.0   \n",
       "3           2.0           2.0         120.0        10.0         0.0   \n",
       "4           2.0           2.0         120.0        10.0         0.0   \n",
       "\n",
       "   cir_max_down   density  best_available_up  best_available_down  \n",
       "0           0.0  0.022727               10.0                200.0  \n",
       "1           0.0  0.013115              150.0                200.0  \n",
       "2           0.0  0.083333               10.0                120.0  \n",
       "3           0.0  0.021505               10.0                120.0  \n",
       "4           0.0  0.036364               10.0                120.0  "
      ]
     },
     "execution_count": 23,
     "metadata": {},
     "output_type": "execute_result"
    }
   ],
   "source": [
    "county_merged_df.head()"
   ]
  },
  {
   "cell_type": "markdown",
   "metadata": {},
   "source": [
    "### Heat-map and Other Visualizations\n",
    "See the Tableau project for repository found [here](https://public.tableau.com/profile/martin.moesta#!/vizhome/MontgomeryFBPReport/FixedBroadbandProviderReport). ** Majority of vizualization/analysis can be found here**. Can also go a lot of different directions with these visualizations, we can discuss next steps next time we talk.\n",
    "\n",
    "Viewing these viz in the browser may be a little slow since there is a lot of data there.  No lag in viewing/interacting if you download Tableau Public and view the Story in there.\n",
    "\n",
    "This \"story\" contains three visualizations:\n",
    "<br>\n",
    "* A heat-map of census blocks vs. filtered fbp's in Montgomery County.  Visualization is interactive, you can hover, click, filter, etc.  We can go over all functionality via Skype\n",
    "* A closer look at highly populated areas with 1 or fewer eligible fbp's\n",
    "* % Distribution of fbp's in a given Census Block"
   ]
  }
 ],
 "metadata": {
  "hide_input": false,
  "kernelspec": {
   "display_name": "Python 3",
   "language": "python",
   "name": "python3"
  },
  "language_info": {
   "codemirror_mode": {
    "name": "ipython",
    "version": 3
   },
   "file_extension": ".py",
   "mimetype": "text/x-python",
   "name": "python",
   "nbconvert_exporter": "python",
   "pygments_lexer": "ipython3",
   "version": "3.6.3"
  }
 },
 "nbformat": 4,
 "nbformat_minor": 2
}
