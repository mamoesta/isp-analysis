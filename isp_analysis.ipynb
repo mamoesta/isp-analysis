{
 "cells": [
  {
   "cell_type": "markdown",
   "metadata": {},
   "source": [
    "# Internet Service Provider Research\n",
    "\n",
    "## Intro\n",
    "The goal of this report is to get an idea of the WISP landscape in Pennsylvania (specifically Montgomery County), and identify any untapped wireless markets, geographic or otherwise.\n",
    "\n",
    "***\n",
    "###  A Warning from the FCC (IMPORTANT)\n",
    "From the [explanation of FCC Data](https://www.fcc.gov/general/explanation-broadband-deployment-data):  A provider that reports deployment of a particular technology and bandwidth in a particular census block may not necessarily offer that particular service everywhere in the census block. Accordingly, a list of providers deployed in a census block does not necessarily reflect the number of choices available to any particular household or business location in that block, and the number of such providers in the census block does not purport to measure competition.\n",
    "\n",
    "#### My thoughts on this\n",
    "The conclusions we draw here will have to be taken with a grain of salt, and will need to do additional research to verify any insights.\n",
    "\n",
    "***\n",
    "## Initial Exploration\n",
    "\n",
    "Before we do some filtering, lets take a look the raw stats of WISPS in PA."
   ]
  },
  {
   "cell_type": "code",
   "execution_count": 1,
   "metadata": {
    "code_folding": []
   },
   "outputs": [
    {
     "data": {
      "text/html": [
       "<style>.container { width:100% !important; }</style>"
      ],
      "text/plain": [
       "<IPython.core.display.HTML object>"
      ]
     },
     "metadata": {},
     "output_type": "display_data"
    }
   ],
   "source": [
    "# imports and settings\n",
    "%matplotlib inline\n",
    "import matplotlib\n",
    "import matplotlib.pyplot as plt\n",
    "import pandas as pd\n",
    "import numpy as np\n",
    "import os\n",
    "import warnings\n",
    "import datetime as dt\n",
    "from IPython.core.display import display, HTML\n",
    "warnings.filterwarnings('ignore')\n",
    "pd.options.display.max_rows = 200\n",
    "from IPython.display import display, Markdown\n",
    "display(HTML(\"<style>.container { width:100% !important; }</style>\"))"
   ]
  },
  {
   "cell_type": "code",
   "execution_count": 2,
   "metadata": {
    "code_folding": [],
    "collapsed": true
   },
   "outputs": [],
   "source": [
    "# Reading in FCC isp data\n",
    "filepath = \"../data/bb_data.csv\"\n",
    "isp_df = pd.read_csv(filepath)\n",
    "\n",
    "# Reading in population densities\n",
    "filepath = \"../data/us2016.csv\"\n",
    "pop_df = pd.read_csv(filepath)"
   ]
  },
  {
   "cell_type": "code",
   "execution_count": 139,
   "metadata": {
    "code_folding": []
   },
   "outputs": [],
   "source": [
    "# Pennsylvania population density\n",
    "pa_pop_df = pop_df[pop_df['stateabbr'] == 'PA']\n",
    "isp_df = isp_df[isp_df['State'] == 'PA']\n",
    "\n",
    "'''\n",
    "Population information:\n",
    "\n",
    "hu = housing units\n",
    "hh = households\n",
    "pop = population\n",
    "\n",
    "'''\n",
    "cols = ['stateabbr','block_fips','hu2016','hh2016','pop2016']\n",
    "pa_pop_df = pa_pop_df[cols]\n",
    "\n",
    "pop_rows = pa_pop_df.shape[0]\n",
    "pop_cols = pa_pop_df.shape[1]\n",
    "\n",
    "isp_col_names = isp_df.columns.values\n",
    "isp_rows = isp_df.shape[0]\n",
    "isp_cols = isp_df.shape[1]"
   ]
  },
  {
   "cell_type": "code",
   "execution_count": 123,
   "metadata": {
    "code_folding": []
   },
   "outputs": [
    {
     "data": {
      "text/markdown": [
       "\n",
       "## The Data\n",
       "### WISP Data\n",
       "The table of PA WISP's has 2588294 rows and 17 columns.  See a preview of the table below.\n"
      ],
      "text/plain": [
       "<IPython.core.display.Markdown object>"
      ]
     },
     "execution_count": 123,
     "metadata": {},
     "output_type": "execute_result"
    }
   ],
   "source": [
    "# Markdown\n",
    "Markdown(\"\"\"\n",
    "### The Data\n",
    "#### isp Data\n",
    "The table of PA isp's has {isp_rows} rows and {isp_cols} columns.  See a preview of the table below.\n",
    "\"\"\".format(isp_rows = isp_rows, isp_cols = isp_cols))"
   ]
  },
  {
   "cell_type": "code",
   "execution_count": 119,
   "metadata": {
    "code_folding": []
   },
   "outputs": [
    {
     "data": {
      "text/html": [
       "<div>\n",
       "<style>\n",
       "    .dataframe thead tr:only-child th {\n",
       "        text-align: right;\n",
       "    }\n",
       "\n",
       "    .dataframe thead th {\n",
       "        text-align: left;\n",
       "    }\n",
       "\n",
       "    .dataframe tbody tr th {\n",
       "        vertical-align: top;\n",
       "    }\n",
       "</style>\n",
       "<table border=\"1\" class=\"dataframe\">\n",
       "  <thead>\n",
       "    <tr style=\"text-align: right;\">\n",
       "      <th></th>\n",
       "      <th>Logical Record Number</th>\n",
       "      <th>Provider ID</th>\n",
       "      <th>FRN</th>\n",
       "      <th>Provider Name</th>\n",
       "      <th>DBA Name</th>\n",
       "      <th>Holding Company Name</th>\n",
       "      <th>Holding Company Number</th>\n",
       "      <th>Holding Company Final</th>\n",
       "      <th>State</th>\n",
       "      <th>Census Block FIPS Code</th>\n",
       "      <th>Technology Code</th>\n",
       "      <th>Consumer</th>\n",
       "      <th>Max Advertised Downstream Speed (mbps)</th>\n",
       "      <th>Max Advertised Upstream Speed (mbps)</th>\n",
       "      <th>Business</th>\n",
       "      <th>Max CIR Downstream Speed (mbps)</th>\n",
       "      <th>Max CIR Upstream Speed (mbps)</th>\n",
       "    </tr>\n",
       "  </thead>\n",
       "  <tbody>\n",
       "    <tr>\n",
       "      <th>26</th>\n",
       "      <td>24835260</td>\n",
       "      <td>27193</td>\n",
       "      <td>11548526</td>\n",
       "      <td>PenTeleData Limited Partnership I</td>\n",
       "      <td>PenTeleData Limited Partnership I</td>\n",
       "      <td>Pencor Services, Inc.</td>\n",
       "      <td>131026</td>\n",
       "      <td>Pencor Services, Inc.</td>\n",
       "      <td>PA</td>\n",
       "      <td>420710129003011</td>\n",
       "      <td>50</td>\n",
       "      <td>1</td>\n",
       "      <td>1000.0</td>\n",
       "      <td>1000.000</td>\n",
       "      <td>1</td>\n",
       "      <td>0.0</td>\n",
       "      <td>0.0</td>\n",
       "    </tr>\n",
       "    <tr>\n",
       "      <th>42</th>\n",
       "      <td>26114547</td>\n",
       "      <td>27423</td>\n",
       "      <td>3273505</td>\n",
       "      <td>Verizon Pennsylvania LLC</td>\n",
       "      <td>Verizon Pennsylvania LLC</td>\n",
       "      <td>Verizon Communications Inc.</td>\n",
       "      <td>131425</td>\n",
       "      <td>Verizon Communications Inc.</td>\n",
       "      <td>PA</td>\n",
       "      <td>420110139004075</td>\n",
       "      <td>10</td>\n",
       "      <td>1</td>\n",
       "      <td>3.0</td>\n",
       "      <td>0.768</td>\n",
       "      <td>1</td>\n",
       "      <td>0.0</td>\n",
       "      <td>0.0</td>\n",
       "    </tr>\n",
       "    <tr>\n",
       "      <th>59</th>\n",
       "      <td>68023772</td>\n",
       "      <td>29201</td>\n",
       "      <td>19085687</td>\n",
       "      <td>Sunesys, LLC</td>\n",
       "      <td>Sunesys, LLC</td>\n",
       "      <td>Crown Castle International Corp.</td>\n",
       "      <td>300121</td>\n",
       "      <td>Crown Castle International Corp.</td>\n",
       "      <td>PA</td>\n",
       "      <td>421010365012007</td>\n",
       "      <td>50</td>\n",
       "      <td>0</td>\n",
       "      <td>0.0</td>\n",
       "      <td>0.000</td>\n",
       "      <td>1</td>\n",
       "      <td>1000.0</td>\n",
       "      <td>1000.0</td>\n",
       "    </tr>\n",
       "    <tr>\n",
       "      <th>93</th>\n",
       "      <td>26100082</td>\n",
       "      <td>27423</td>\n",
       "      <td>3273505</td>\n",
       "      <td>Verizon Pennsylvania LLC</td>\n",
       "      <td>Verizon Pennsylvania LLC</td>\n",
       "      <td>Verizon Communications Inc.</td>\n",
       "      <td>131425</td>\n",
       "      <td>Verizon Communications Inc.</td>\n",
       "      <td>PA</td>\n",
       "      <td>420035615003018</td>\n",
       "      <td>50</td>\n",
       "      <td>1</td>\n",
       "      <td>940.0</td>\n",
       "      <td>880.000</td>\n",
       "      <td>1</td>\n",
       "      <td>0.0</td>\n",
       "      <td>0.0</td>\n",
       "    </tr>\n",
       "    <tr>\n",
       "      <th>105</th>\n",
       "      <td>8305879</td>\n",
       "      <td>25569</td>\n",
       "      <td>12369286</td>\n",
       "      <td>HNS License Sub, LLC</td>\n",
       "      <td>HughesNet</td>\n",
       "      <td>Hughes Network Systems</td>\n",
       "      <td>130627</td>\n",
       "      <td>dishNET Holding, LLC</td>\n",
       "      <td>PA</td>\n",
       "      <td>420410102041004</td>\n",
       "      <td>60</td>\n",
       "      <td>1</td>\n",
       "      <td>15.0</td>\n",
       "      <td>2.000</td>\n",
       "      <td>1</td>\n",
       "      <td>15.0</td>\n",
       "      <td>2.0</td>\n",
       "    </tr>\n",
       "  </tbody>\n",
       "</table>\n",
       "</div>"
      ],
      "text/plain": [
       "     Logical Record Number  Provider ID       FRN  \\\n",
       "26                24835260        27193  11548526   \n",
       "42                26114547        27423   3273505   \n",
       "59                68023772        29201  19085687   \n",
       "93                26100082        27423   3273505   \n",
       "105                8305879        25569  12369286   \n",
       "\n",
       "                         Provider Name                           DBA Name  \\\n",
       "26   PenTeleData Limited Partnership I  PenTeleData Limited Partnership I   \n",
       "42            Verizon Pennsylvania LLC           Verizon Pennsylvania LLC   \n",
       "59                        Sunesys, LLC                       Sunesys, LLC   \n",
       "93            Verizon Pennsylvania LLC           Verizon Pennsylvania LLC   \n",
       "105               HNS License Sub, LLC                          HughesNet   \n",
       "\n",
       "                 Holding Company Name  Holding Company Number  \\\n",
       "26              Pencor Services, Inc.                  131026   \n",
       "42        Verizon Communications Inc.                  131425   \n",
       "59   Crown Castle International Corp.                  300121   \n",
       "93        Verizon Communications Inc.                  131425   \n",
       "105            Hughes Network Systems                  130627   \n",
       "\n",
       "                Holding Company Final State  Census Block FIPS Code  \\\n",
       "26              Pencor Services, Inc.    PA         420710129003011   \n",
       "42        Verizon Communications Inc.    PA         420110139004075   \n",
       "59   Crown Castle International Corp.    PA         421010365012007   \n",
       "93        Verizon Communications Inc.    PA         420035615003018   \n",
       "105              dishNET Holding, LLC    PA         420410102041004   \n",
       "\n",
       "     Technology Code  Consumer  Max Advertised Downstream Speed (mbps)  \\\n",
       "26                50         1                                  1000.0   \n",
       "42                10         1                                     3.0   \n",
       "59                50         0                                     0.0   \n",
       "93                50         1                                   940.0   \n",
       "105               60         1                                    15.0   \n",
       "\n",
       "     Max Advertised Upstream Speed (mbps)  Business  \\\n",
       "26                               1000.000         1   \n",
       "42                                  0.768         1   \n",
       "59                                  0.000         1   \n",
       "93                                880.000         1   \n",
       "105                                 2.000         1   \n",
       "\n",
       "     Max CIR Downstream Speed (mbps)  Max CIR Upstream Speed (mbps)  \n",
       "26                               0.0                            0.0  \n",
       "42                               0.0                            0.0  \n",
       "59                            1000.0                         1000.0  \n",
       "93                               0.0                            0.0  \n",
       "105                             15.0                            2.0  "
      ]
     },
     "execution_count": 119,
     "metadata": {},
     "output_type": "execute_result"
    }
   ],
   "source": [
    "# Table preview\n",
    "isp_df.head()"
   ]
  },
  {
   "cell_type": "code",
   "execution_count": 145,
   "metadata": {
    "code_folding": []
   },
   "outputs": [
    {
     "data": {
      "text/markdown": [
       "\n",
       "#### Population Data\n",
       "The table of PA Census Block population data has 421545 rows and 5 columns. HU = Housing Units.  HH = Households.  POP = population.  See a preview of the table below.\n"
      ],
      "text/plain": [
       "<IPython.core.display.Markdown object>"
      ]
     },
     "execution_count": 145,
     "metadata": {},
     "output_type": "execute_result"
    }
   ],
   "source": [
    "# Some markdown\n",
    "Markdown(\"\"\"\n",
    "#### Population Data\n",
    "The table of PA Census Block population data has {pop_rows} rows and {pop_cols} columns. HU = Housing Units.  HH = Households.  POP = population.  See a preview of the table below.\n",
    "\"\"\".format(pop_rows = pop_rows, pop_cols = pop_cols))"
   ]
  },
  {
   "cell_type": "code",
   "execution_count": 141,
   "metadata": {
    "code_folding": []
   },
   "outputs": [
    {
     "data": {
      "text/html": [
       "<div>\n",
       "<style>\n",
       "    .dataframe thead tr:only-child th {\n",
       "        text-align: right;\n",
       "    }\n",
       "\n",
       "    .dataframe thead th {\n",
       "        text-align: left;\n",
       "    }\n",
       "\n",
       "    .dataframe tbody tr th {\n",
       "        vertical-align: top;\n",
       "    }\n",
       "</style>\n",
       "<table border=\"1\" class=\"dataframe\">\n",
       "  <thead>\n",
       "    <tr style=\"text-align: right;\">\n",
       "      <th></th>\n",
       "      <th>stateabbr</th>\n",
       "      <th>block_fips</th>\n",
       "      <th>hu2016</th>\n",
       "      <th>hh2016</th>\n",
       "      <th>pop2016</th>\n",
       "    </tr>\n",
       "  </thead>\n",
       "  <tbody>\n",
       "    <tr>\n",
       "      <th>8103116</th>\n",
       "      <td>PA</td>\n",
       "      <td>420010301011000</td>\n",
       "      <td>3</td>\n",
       "      <td>3.0</td>\n",
       "      <td>6</td>\n",
       "    </tr>\n",
       "    <tr>\n",
       "      <th>8103117</th>\n",
       "      <td>PA</td>\n",
       "      <td>420010301011001</td>\n",
       "      <td>9</td>\n",
       "      <td>9.0</td>\n",
       "      <td>31</td>\n",
       "    </tr>\n",
       "    <tr>\n",
       "      <th>8103118</th>\n",
       "      <td>PA</td>\n",
       "      <td>420010301011002</td>\n",
       "      <td>6</td>\n",
       "      <td>6.0</td>\n",
       "      <td>15</td>\n",
       "    </tr>\n",
       "    <tr>\n",
       "      <th>8103119</th>\n",
       "      <td>PA</td>\n",
       "      <td>420010301011003</td>\n",
       "      <td>28</td>\n",
       "      <td>27.0</td>\n",
       "      <td>79</td>\n",
       "    </tr>\n",
       "    <tr>\n",
       "      <th>8103120</th>\n",
       "      <td>PA</td>\n",
       "      <td>420010301011004</td>\n",
       "      <td>10</td>\n",
       "      <td>10.0</td>\n",
       "      <td>27</td>\n",
       "    </tr>\n",
       "  </tbody>\n",
       "</table>\n",
       "</div>"
      ],
      "text/plain": [
       "        stateabbr       block_fips  hu2016  hh2016  pop2016\n",
       "8103116        PA  420010301011000       3     3.0        6\n",
       "8103117        PA  420010301011001       9     9.0       31\n",
       "8103118        PA  420010301011002       6     6.0       15\n",
       "8103119        PA  420010301011003      28    27.0       79\n",
       "8103120        PA  420010301011004      10    10.0       27"
      ]
     },
     "execution_count": 141,
     "metadata": {},
     "output_type": "execute_result"
    }
   ],
   "source": [
    "#Table preview\n",
    "pa_pop_df.head()"
   ]
  },
  {
   "cell_type": "code",
   "execution_count": 144,
   "metadata": {
    "code_folding": []
   },
   "outputs": [
    {
     "name": "stdout",
     "output_type": "stream",
     "text": [
      "Percent of all WISPs that can offer service to businesses:  0.9747459137176843\n",
      "Percent of all WISPs that can offer service to consumers:  0.811675566995094\n",
      "Some metrics for PA census block population data:  \n",
      "count    421545.000000\n",
      "mean         30.303339\n",
      "std          62.219867\n",
      "min           0.000000\n",
      "25%           0.000000\n",
      "50%          11.000000\n",
      "75%          36.000000\n",
      "max        4538.000000\n",
      "Name: pop2016, dtype: float64\n"
     ]
    }
   ],
   "source": [
    "# Intial Metrics\n",
    "business_count = (isp_df[isp_df['Business']==1].shape[0]/isp_df.shape[0])\n",
    "consumer_count = (isp_df[isp_df['Consumer']==1].shape[0]/isp_df.shape[0])\n",
    "pa_pop_metrics = (pa_pop_df['pop2016'].describe())\n",
    "\n",
    "print(f'Percent of all isps that can offer service to businesses:  {business_count}')\n",
    "print(f'Percent of all isps that can offer service to consumers:  {consumer_count}')\n",
    "print(f'Some metrics for PA census block population data:  \\n{pa_pop_metrics}')"
   ]
  },
  {
   "cell_type": "markdown",
   "metadata": {},
   "source": [
    "## Some figures\n",
    "\n",
    "Plots of up & downstream speeds for Business and Consumer WISPS."
   ]
  },
  {
   "cell_type": "code",
   "execution_count": 152,
   "metadata": {
    "code_folding": []
   },
   "outputs": [
    {
     "data": {
      "image/png": "[encoded data removed]",
      "text/plain": [
       "<matplotlib.figure.Figure at 0x2625edac8>"
      ]
     },
     "metadata": {},
     "output_type": "display_data"
    }
   ],
   "source": [
    "# Plots\n",
    "fig_length = 26\n",
    "fig_height = 6\n",
    "# Down speeds look like for businesses in PA\n",
    "plt.figure(figsize=(fig_length,fig_height))\n",
    "plt.title('Business Downstream Speeds (in mbps)')\n",
    "plt.ylabel('Percent')\n",
    "b_down_val_counts = isp_df['Max CIR Downstream Speed (mbps)'][isp_df['Business']==1].value_counts(normalize=True, sort = True).sort_index().plot(kind='bar')"
   ]
  },
  {
   "cell_type": "code",
   "execution_count": 125,
   "metadata": {
    "code_folding": []
   },
   "outputs": [
    {
     "data": {
      "image/png": "[encoded data removed]",
      "text/plain": [
       "<matplotlib.figure.Figure at 0x27df3f860>"
      ]
     },
     "metadata": {},
     "output_type": "display_data"
    }
   ],
   "source": [
    "# Up speeds for businesses in PA\n",
    "plt.figure(figsize=(fig_length,fig_height))\n",
    "plt.title('Business Upstream Speeds (in mbps)')\n",
    "plt.ylabel('Percent')\n",
    "b_up_val_counts = isp_df['Max CIR Upstream Speed (mbps)'][isp_df['Business']==1].value_counts(normalize=True, sort = True).sort_index().plot(kind='bar')"
   ]
  },
  {
   "cell_type": "code",
   "execution_count": 126,
   "metadata": {
    "code_folding": []
   },
   "outputs": [
    {
     "data": {
      "image/png": "[encoded data removed]",
      "text/plain": [
       "<matplotlib.figure.Figure at 0x282d63b38>"
      ]
     },
     "metadata": {},
     "output_type": "display_data"
    }
   ],
   "source": [
    "# Residential downstream speeds in PA\n",
    "plt.figure(figsize=(fig_length,fig_height))\n",
    "plt.title('Consumer Downstream Speeds (in mbps)')\n",
    "plt.ylabel('Percent')\n",
    "r_down_val_counts = isp_df['Max Advertised Downstream Speed (mbps)'][isp_df['Consumer']==1].value_counts(normalize=True, sort = True).sort_index().plot(kind='bar')"
   ]
  },
  {
   "cell_type": "code",
   "execution_count": 127,
   "metadata": {
    "code_folding": []
   },
   "outputs": [
    {
     "data": {
      "image/png": "[encoded data removed]",
      "text/plain": [
       "<matplotlib.figure.Figure at 0x2a97b6c50>"
      ]
     },
     "metadata": {},
     "output_type": "display_data"
    }
   ],
   "source": [
    "# Residential upstream speeds in PA\n",
    "plt.figure(figsize=(fig_length,fig_height))\n",
    "plt.title('Consumer Upstream Speeds (in mbps)')\n",
    "plt.ylabel('Percent')\n",
    "r_up_val_counts = isp_df['Max Advertised Upstream Speed (mbps)'][isp_df['Consumer']==1].value_counts(normalize=True, sort = True).sort_index().plot(kind='bar')"
   ]
  },
  {
   "cell_type": "markdown",
   "metadata": {},
   "source": [
    "## Filtering the ispS\n",
    "\n",
    "See the [explanation of FCC Data](https://www.fcc.gov/general/explanation-broadband-deployment-data) here for clarification on columns.\n",
    "\n",
    "The function below filters the available list of isps to be analyzed. Attributes on which to filter:\n",
    "<br>\n",
    "Max Advertised Upstream Speed (mbps) ** greater than or equal to 5**\n",
    "<br>\n",
    "Max Advertised Downstream Speed (mbps) ** greater than or equal to 25**\n",
    "<br>\n",
    "Max CIR Upstream Speed (mbps)  ** greater than or equal to 5**\n",
    "<br>\n",
    "Max CIR Downstream Speed (mbps)** greater than or equal to 25**\n",
    "<br>\n",
    "Business (Provider can or does offer business/government service in the block) **must be True**\n",
    "<br>\n",
    "Consumer (Provider can or does offer consumer/mass market/residential service in the block)  **currently not filtered**\n",
    "<br>\n",
    "### A Quick Note\n",
    "From the [explanation of FCC Form 477 data](https://www.fcc.gov/general/explanation-broadband-deployment-data): Filer directed to report 0 if the contracted service is sold on a \"best efforts\" basis without a guaranteed data-throughput rate.  \n",
    "<br>\n",
    "Because of this, a isp will be considered eligble for further analysis if its **Max Advertised or CIR up/downstream is greater than or equal to filter value**."
   ]
  },
  {
   "cell_type": "code",
   "execution_count": 128,
   "metadata": {
    "code_folding": [
     1
    ]
   },
   "outputs": [],
   "source": [
    "# Function to filter ispS\n",
    "def filter_isps(raw_df):\n",
    "    start_t = dt.datetime.now()\n",
    "    max_up = 5\n",
    "    max_down = 25\n",
    "    business = 1\n",
    "    consumer = 1\n",
    "    #state = 'PA'\n",
    "    raw_df = raw_df[(raw_df['Max Advertised Upstream Speed (mbps)'] >= max_up) | (raw_df['Max CIR Upstream Speed (mbps)'] >= max_up) ]\n",
    "    raw_df = raw_df[(raw_df['Max Advertised Downstream Speed (mbps)'] >= max_down) | (raw_df['Max CIR Downstream Speed (mbps)'] >= max_down)]\n",
    "    raw_df = raw_df[(raw_df['Business'] == business)]\n",
    "    #raw_df = raw_df[raw_df['State'] == state]\n",
    "    final_t = dt.datetime.now()\n",
    "    #print(f'took {final_t - start_t} to run!')\n",
    "    return raw_df\n",
    "\n",
    "pa_isp_df = filter_isps(isp_df)\n",
    "#pa_isp_df.shape"
   ]
  },
  {
   "cell_type": "code",
   "execution_count": 131,
   "metadata": {
    "code_folding": []
   },
   "outputs": [],
   "source": [
    "# Montgomery Filter\n",
    "'''\n",
    "Create Montgomery county subsets\n",
    "\n",
    "PA state FIPS code 42\n",
    "Montgomery county FIPS code 091\n",
    "'''\n",
    "pa_pop_df['block_fips']= pa_pop_df['block_fips'].apply(str)\n",
    "pa_pop_df['mont_county'] = pa_pop_df['block_fips'].map(lambda x: True if x[:5] == '42091' else False)\n",
    "mont_pop_df = pa_pop_df[pa_pop_df['mont_county']==True]\n",
    "\n",
    "pa_isp_df['Census Block FIPS Code'] = pa_isp_df['Census Block FIPS Code'].apply(str)\n",
    "pa_isp_df['mont_county'] = pa_isp_df['Census Block FIPS Code'].map(lambda x: True if x[:5] == '42091' else False)\n",
    "mont_isp_df = pa_isp_df[pa_isp_df['mont_county'] == True]\n",
    "\n",
    "filtered_isp_rows = pa_isp_df.shape[0]\n",
    "filtered_county_rows = mont_isp_df.shape[0]\n",
    "\n",
    "pa_blocks = pa_pop_df.shape[0]\n",
    "mont_blocks = mont_pop_df.shape[0]\n",
    "\n",
    "\n",
    "#print(f'number of blocks in montgomery county:  {mont_blocks}')\n",
    "#print(f'number of eligble isps in montgomery county:  {filtered_county_rows}')"
   ]
  },
  {
   "cell_type": "code",
   "execution_count": 132,
   "metadata": {
    "code_folding": []
   },
   "outputs": [
    {
     "data": {
      "text/markdown": [
       "\n",
       "## Filtered Results\n",
       "After filtering, the total number of eligble wisps in PA is **560941**, down from 2588294, with 421545 census blocks in PA. <br>\n",
       "After filtering, the number of eligible wisps in Montgomery County is **26162**, and there are 13769 census blocks in Montgomery County.\n"
      ],
      "text/plain": [
       "<IPython.core.display.Markdown object>"
      ]
     },
     "execution_count": 132,
     "metadata": {},
     "output_type": "execute_result"
    }
   ],
   "source": [
    "#Filtered Results\n",
    "Markdown(\"\"\"\n",
    "## Filtered Results\n",
    "After filtering, the total number of eligble isps in PA is **{filtered_isp_rows}**, down from {isp_rows}, with {pa_blocks} census blocks in PA. <br>\n",
    "After filtering, the number of eligible isps in Montgomery County is **{filtered_county_rows}**, and there are {mont_blocks} census blocks in Montgomery County.\n",
    "\"\"\".format(filtered_isp_rows = filtered_isp_rows, isp_rows = isp_rows, pa_blocks = pa_blocks, filtered_county_rows = filtered_county_rows, mont_blocks = mont_blocks))"
   ]
  },
  {
   "cell_type": "code",
   "execution_count": 133,
   "metadata": {
    "code_folding": [],
    "collapsed": true
   },
   "outputs": [],
   "source": [
    "# Using the groubpy function to get metrics for each census block: count, types, mean up/down speeds\n",
    "def get_metrics(raw_df):\n",
    "    \n",
    "    # A count of all the unique isp's in a given census block,  if block isn't included in dataframe, then there are no isps in that block\n",
    "    isp_count_df = pd.DataFrame({'isp_count':raw_df.groupby(['Census Block FIPS Code']).size()}).reset_index()\n",
    "    isp_count_df.set_index('Census Block FIPS Code', inplace=True)\n",
    "\n",
    "    # Number of isps allowed to serve consumers in the given block\n",
    "    consumer_df = pd.DataFrame({'consumer_num':raw_df.groupby(['Census Block FIPS Code','Consumer']).size()}).reset_index()\n",
    "    consumer_df = consumer_df[consumer_df['Consumer']==1]\n",
    "    consumer_df.set_index('Census Block FIPS Code', inplace=True)\n",
    "\n",
    "    # Number of isps allowed to serve businesses in the given block\n",
    "    business_df = pd.DataFrame({'business_num':raw_df.groupby(['Census Block FIPS Code', 'Business']).size()}).reset_index()\n",
    "    business_df = business_df[business_df['Business']==1]\n",
    "    business_df.set_index('Census Block FIPS Code', inplace = True)\n",
    "\n",
    "    # Average up/downstream speeds in each census block\n",
    "    adv_max_down_df = pd.DataFrame({'adv_max_down':raw_df.groupby(['Census Block FIPS Code'])['Max Advertised Downstream Speed (mbps)'].max()}).reset_index()\n",
    "    adv_max_down_df.set_index('Census Block FIPS Code', inplace = True)\n",
    "    \n",
    "    adv_max_up_df = pd.DataFrame({'adv_max_up':raw_df.groupby(['Census Block FIPS Code'])['Max Advertised Upstream Speed (mbps)'].max()}).reset_index()\n",
    "    adv_max_up_df.set_index('Census Block FIPS Code', inplace = True)\n",
    "    \n",
    "    cir_max_up_df = pd.DataFrame({'cir_max_up':raw_df.groupby(['Census Block FIPS Code'])['Max CIR Upstream Speed (mbps)'].max()}).reset_index()\n",
    "    cir_max_up_df.set_index('Census Block FIPS Code', inplace = True)\n",
    "    \n",
    "    cir_max_down_df = pd.DataFrame({'cir_max_down':raw_df.groupby(['Census Block FIPS Code'])['Max CIR Downstream Speed (mbps)'].max()}).reset_index()\n",
    "    cir_max_down_df.set_index('Census Block FIPS Code', inplace = True)\n",
    "    \n",
    "    #TODO: Merge the 7 df's\n",
    "    df_list = [isp_count_df,consumer_df,business_df,adv_max_down_df,adv_max_up_df,cir_max_up_df,cir_max_down_df]\n",
    "    #print('Merging dataframes...')\n",
    "    for i in df_list:\n",
    "        if isp_count_df.equals(i):\n",
    "            final_df = isp_count_df\n",
    "        else:\n",
    "            final_df = pd.merge(final_df,i,how='outer',left_index=True, right_index=True)\n",
    "    #print('Done merging dataframes!')\n",
    "    final_df.drop(['Consumer', 'Business'], axis = 1, inplace = True)\n",
    "    return final_df \n",
    "\n",
    "\n",
    "# Get metrics for montgomery county\n",
    "mont_metrics_df = get_metrics(mont_isp_df)\n",
    "# Get metrics for all of PA\n",
    "pa_metrics_df = get_metrics(pa_isp_df)"
   ]
  },
  {
   "cell_type": "code",
   "execution_count": 134,
   "metadata": {
    "code_folding": [],
    "collapsed": true
   },
   "outputs": [],
   "source": [
    "# Merging population data and isp metrics\n",
    "def merge_pop_isp(pop_df,isp_df):\n",
    "    if (pop_df.index.name != 'block_fips'):\n",
    "        pop_df.set_index('block_fips',inplace = True)\n",
    "    final_df = pd.merge(pop_df, isp_df,how = 'left', left_index = True, right_index = True)\n",
    "    final_df.fillna(value = 0, inplace = True)\n",
    "    final_df['density'] = final_df['isp_count']/ (final_df['pop2016'] + 1)\n",
    "    final_df.reset_index(inplace = True)\n",
    "    final_df['best_available_up'] = final_df[['cir_max_up','adv_max_up']].max(axis = 1)\n",
    "    final_df['best_available_down'] = final_df[['cir_max_down','adv_max_down']].max(axis = 1)\n",
    "    return final_df \n",
    "\n",
    "# Merging metrics with population data\n",
    "county_df = merge_pop_isp(mont_pop_df, mont_metrics_df)\n",
    "state_df = merge_pop_isp(pa_pop_df, pa_metrics_df)"
   ]
  },
  {
   "cell_type": "code",
   "execution_count": 87,
   "metadata": {
    "code_folding": [],
    "collapsed": true
   },
   "outputs": [],
   "source": [
    "## wrtie PA files to csv's\n",
    "pa_isp_df.to_csv('../data/pa_bb.txt')\n",
    "pa_pop_df.to_csv('../data/pa_pop.txt')\n",
    "\n",
    "# Write county and state metrics data to csv\n",
    "county_df.to_csv('../data/montgomery_isp_metrics.txt')\n",
    "state_df.to_csv('../data/pa_isp_metrics.txt')"
   ]
  },
  {
   "cell_type": "markdown",
   "metadata": {},
   "source": [
    "## Some Basic Measures\n",
    "\n",
    "What are the important measures we want to see?\n",
    "***\n",
    "isp breakdown by census block\n",
    "<br>\n",
    "Density map (isp/population) in a given block\n",
    "<br>\n",
    "Heat-map of number of isps operating in given census block (filter by type, up/down speed)\n",
    "<br>\n",
    "Correlation between isp/population"
   ]
  },
  {
   "cell_type": "code",
   "execution_count": 135,
   "metadata": {
    "code_folding": []
   },
   "outputs": [
    {
     "name": "stdout",
     "output_type": "stream",
     "text": [
      "Number of eligble wisps operating in each block in PA: \n",
      "0.0     0.319297\n",
      "1.0     0.281114\n",
      "2.0     0.222961\n",
      "3.0     0.118768\n",
      "4.0     0.044377\n",
      "5.0     0.011842\n",
      "6.0     0.001229\n",
      "7.0     0.000244\n",
      "8.0     0.000081\n",
      "9.0     0.000045\n",
      "10.0    0.000021\n",
      "12.0    0.000009\n",
      "13.0    0.000005\n",
      "16.0    0.000002\n",
      "11.0    0.000002\n",
      "14.0    0.000002\n",
      "Name: wisp_count, dtype: float64\n"
     ]
    }
   ],
   "source": [
    "# Eligble ispS in an area\n",
    "pa_value_counts = state_df['isp_count'].value_counts(normalize = True)\n",
    "print(f'Number of eligble isps operating in each block in PA: \\n{pa_value_counts}')"
   ]
  },
  {
   "cell_type": "code",
   "execution_count": 137,
   "metadata": {
    "code_folding": []
   },
   "outputs": [
    {
     "name": "stdout",
     "output_type": "stream",
     "text": [
      "The correlation between population and wisp count in Montgomery County:  0.292\n",
      "The correlation between population and wisp count in PA:  0.286\n"
     ]
    }
   ],
   "source": [
    "## Correlation between 2016 population and number of isp's in a given census block\n",
    "state_corr = np.corrcoef(state_df['pop2016'],state_df['isp_count'].values)\n",
    "county_corr = np.corrcoef(county_df['pop2016'],county_df['isp_count'].values)\n",
    "print(f'The correlation between population and isp count in Montgomery County:  {round(county_corr[0][1],3)}')\n",
    "print(f'The correlation between population and isp count in PA:  {round(state_corr[0][1],3)}')"
   ]
  },
  {
   "cell_type": "code",
   "execution_count": 138,
   "metadata": {
    "code_folding": []
   },
   "outputs": [
    {
     "name": "stdout",
     "output_type": "stream",
     "text": [
      "High level state density metrics:  \n",
      "count    421545.000000\n",
      "mean          0.224408\n",
      "std           0.569453\n",
      "min           0.000000\n",
      "25%           0.000000\n",
      "50%           0.034483\n",
      "75%           0.125000\n",
      "max          13.000000\n",
      "Name: density, dtype: float64\n",
      "High level county density metrics: \n",
      "count    13769.000000\n",
      "mean         0.167519\n",
      "std          0.415670\n",
      "min          0.000000\n",
      "25%          0.019802\n",
      "50%          0.041667\n",
      "75%          0.095238\n",
      "max          7.000000\n",
      "Name: density, dtype: float64\n"
     ]
    }
   ],
   "source": [
    "# High-level metrics on density (# of isps/population in a given block)\n",
    "state_density_describe = state_df['density'].describe()\n",
    "county_density_describe = county_df['density'].describe()\n",
    "\n",
    "print(f'High level county density metrics: \\n{county_density_describe}')\n",
    "print(f'High level state density metrics:  \\n{state_density_describe}')"
   ]
  },
  {
   "cell_type": "markdown",
   "metadata": {},
   "source": [
    "### Heat-map and Other Visualizations\n",
    "See the Tableau project for repository found [here](https://public.tableau.com/profile/martin.moesta#!/vizhome/WISPv3/WISPStory). ** Majority of vizualization/analysis can be found here**. Can also go a lot of different directions with these visualizations, we can discuss next steps next time we talk.\n",
    "\n",
    "Viewing these viz in the browser may be a little slow since there is a lot of data there.  No lag in viewing/interacting if you download Tableau Public and view the Story in there.\n",
    "\n",
    "This \"story\" contains three visualizations:\n",
    "<br>\n",
    "* A heat-map of census blocks vs. filtered ispS in Montgomery County.  Visualization is interactive, you can hover, click, filter, etc.  We can go over all functionality via Skype\n",
    "* A closer look at highly populated areas with 1 or fewer eligible ispS\n",
    "* % Distribution of ispS in a given Census Block"
   ]
  }
 ],
 "metadata": {
  "hide_input": false,
  "kernelspec": {
   "display_name": "Python 3",
   "language": "python",
   "name": "python3"
  },
  "language_info": {
   "codemirror_mode": {
    "name": "ipython",
    "version": 3
   },
   "file_extension": ".py",
   "mimetype": "text/x-python",
   "name": "python",
   "nbconvert_exporter": "python",
   "pygments_lexer": "ipython3",
   "version": "3.6.3"
  }
 },
 "nbformat": 4,
 "nbformat_minor": 2
}
